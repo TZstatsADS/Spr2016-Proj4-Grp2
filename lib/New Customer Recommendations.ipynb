{
 "cells": [
  {
   "cell_type": "code",
   "execution_count": 1,
   "metadata": {
    "collapsed": true
   },
   "outputs": [],
   "source": [
    "import graphlab"
   ]
  },
  {
   "cell_type": "code",
   "execution_count": 2,
   "metadata": {
    "collapsed": false
   },
   "outputs": [
    {
     "name": "stderr",
     "output_type": "stream",
     "text": [
      "2016-04-12 20:38:02,637 [INFO] graphlab.cython.cy_server, 176: GraphLab Create v1.8.5 started. Logging: /tmp/graphlab_server_1460507881.log\n"
     ]
    },
    {
     "name": "stdout",
     "output_type": "stream",
     "text": [
      "This non-commercial license of GraphLab Create is assigned to voelunteer@gmail.com and will expire on December 23, 2016. For commercial licensing options, visit https://dato.com/buy/.\n"
     ]
    },
    {
     "data": {
      "text/html": [
       "<pre>Finished parsing file /Users/voelunteer/Courses/Applied-Data-Science/project4-team-2/lib/co-occurence_matrix_similar_product.csv</pre>"
      ],
      "text/plain": [
       "Finished parsing file /Users/voelunteer/Courses/Applied-Data-Science/project4-team-2/lib/co-occurence_matrix_similar_product.csv"
      ]
     },
     "metadata": {},
     "output_type": "display_data"
    },
    {
     "data": {
      "text/html": [
       "<pre>Parsing completed. Parsed 100 lines in 2.5631 secs.</pre>"
      ],
      "text/plain": [
       "Parsing completed. Parsed 100 lines in 2.5631 secs."
      ]
     },
     "metadata": {},
     "output_type": "display_data"
    },
    {
     "name": "stdout",
     "output_type": "stream",
     "text": [
      "------------------------------------------------------\n",
      "Inferred types from first line of file as \n",
      "column_type_hints=[str,str,float,int]\n",
      "If parsing fails due to incorrect types, you can correct\n",
      "the inferred type list above and pass it to read_csv in\n",
      "the column_type_hints argument\n",
      "------------------------------------------------------\n"
     ]
    },
    {
     "data": {
      "text/html": [
       "<pre>Read 1572308 lines. Lines per second: 575871</pre>"
      ],
      "text/plain": [
       "Read 1572308 lines. Lines per second: 575871"
      ]
     },
     "metadata": {},
     "output_type": "display_data"
    },
    {
     "data": {
      "text/html": [
       "<pre>Read 9432983 lines. Lines per second: 1.15133e+06</pre>"
      ],
      "text/plain": [
       "Read 9432983 lines. Lines per second: 1.15133e+06"
      ]
     },
     "metadata": {},
     "output_type": "display_data"
    },
    {
     "data": {
      "text/html": [
       "<pre>Read 17293151 lines. Lines per second: 1.24003e+06</pre>"
      ],
      "text/plain": [
       "Read 17293151 lines. Lines per second: 1.24003e+06"
      ]
     },
     "metadata": {},
     "output_type": "display_data"
    },
    {
     "data": {
      "text/html": [
       "<pre>Read 25152715 lines. Lines per second: 1.29761e+06</pre>"
      ],
      "text/plain": [
       "Read 25152715 lines. Lines per second: 1.29761e+06"
      ]
     },
     "metadata": {},
     "output_type": "display_data"
    },
    {
     "data": {
      "text/html": [
       "<pre>Read 33009685 lines. Lines per second: 1.32745e+06</pre>"
      ],
      "text/plain": [
       "Read 33009685 lines. Lines per second: 1.32745e+06"
      ]
     },
     "metadata": {},
     "output_type": "display_data"
    },
    {
     "data": {
      "text/html": [
       "<pre>Read 40871906 lines. Lines per second: 1.35004e+06</pre>"
      ],
      "text/plain": [
       "Read 40871906 lines. Lines per second: 1.35004e+06"
      ]
     },
     "metadata": {},
     "output_type": "display_data"
    },
    {
     "data": {
      "text/html": [
       "<pre>Read 48731797 lines. Lines per second: 1.36576e+06</pre>"
      ],
      "text/plain": [
       "Read 48731797 lines. Lines per second: 1.36576e+06"
      ]
     },
     "metadata": {},
     "output_type": "display_data"
    },
    {
     "data": {
      "text/html": [
       "<pre>Read 56591775 lines. Lines per second: 1.37834e+06</pre>"
      ],
      "text/plain": [
       "Read 56591775 lines. Lines per second: 1.37834e+06"
      ]
     },
     "metadata": {},
     "output_type": "display_data"
    },
    {
     "data": {
      "text/html": [
       "<pre>Read 64449705 lines. Lines per second: 1.37803e+06</pre>"
      ],
      "text/plain": [
       "Read 64449705 lines. Lines per second: 1.37803e+06"
      ]
     },
     "metadata": {},
     "output_type": "display_data"
    },
    {
     "data": {
      "text/html": [
       "<pre>Read 72310544 lines. Lines per second: 1.38715e+06</pre>"
      ],
      "text/plain": [
       "Read 72310544 lines. Lines per second: 1.38715e+06"
      ]
     },
     "metadata": {},
     "output_type": "display_data"
    },
    {
     "data": {
      "text/html": [
       "<pre>Finished parsing file /Users/voelunteer/Courses/Applied-Data-Science/project4-team-2/lib/co-occurence_matrix_similar_product.csv</pre>"
      ],
      "text/plain": [
       "Finished parsing file /Users/voelunteer/Courses/Applied-Data-Science/project4-team-2/lib/co-occurence_matrix_similar_product.csv"
      ]
     },
     "metadata": {},
     "output_type": "display_data"
    },
    {
     "data": {
      "text/html": [
       "<pre>Parsing completed. Parsed 78471908 lines in 56.4248 secs.</pre>"
      ],
      "text/plain": [
       "Parsing completed. Parsed 78471908 lines in 56.4248 secs."
      ]
     },
     "metadata": {},
     "output_type": "display_data"
    }
   ],
   "source": [
    "similarity_product_matrix = graphlab.SFrame('co-occurence_matrix_similar_product.csv')"
   ]
  },
  {
   "cell_type": "code",
   "execution_count": 3,
   "metadata": {
    "collapsed": true
   },
   "outputs": [],
   "source": [
    "product_title = ['Brokeback Mountain', 'Harry Potter and the Deathly Hallows: Part 1', 'Indiana Jones and the Kingdom of the Crystal Skull',\n",
    "                 'V for Vendetta', 'Ratatouille', 'Cars', 'Up', 'Food, Inc.', 'Jeff Dunham: Spark of Insanity', 'Tangled']\n",
    "product_productid = ['B0068FZ0YM', 'B004WMKSH2', 'B001DTPZNY', 'B000I186FW', 'B000VBJEEG', 'B00005JNS0', 'B005ZMTXMY', 'B009K86D86',\n",
    "                     'B000S6LS66', 'B004G600A4']"
   ]
  },
  {
   "cell_type": "code",
   "execution_count": 4,
   "metadata": {
    "collapsed": true
   },
   "outputs": [],
   "source": [
    "products = graphlab.SFrame({'product_title': product_title, 'product_productid': product_productid})"
   ]
  },
  {
   "cell_type": "code",
   "execution_count": 5,
   "metadata": {
    "collapsed": false
   },
   "outputs": [
    {
     "data": {
      "text/html": [
       "<div style=\"max-height:1000px;max-width:1500px;overflow:auto;\"><table frame=\"box\" rules=\"cols\">\n",
       "    <tr>\n",
       "        <th style=\"padding-left: 1em; padding-right: 1em; text-align: center\">product_productid</th>\n",
       "        <th style=\"padding-left: 1em; padding-right: 1em; text-align: center\">product_title</th>\n",
       "    </tr>\n",
       "    <tr>\n",
       "        <td style=\"padding-left: 1em; padding-right: 1em; text-align: center; vertical-align: top\">B0068FZ0YM</td>\n",
       "        <td style=\"padding-left: 1em; padding-right: 1em; text-align: center; vertical-align: top\">Brokeback Mountain</td>\n",
       "    </tr>\n",
       "    <tr>\n",
       "        <td style=\"padding-left: 1em; padding-right: 1em; text-align: center; vertical-align: top\">B004WMKSH2</td>\n",
       "        <td style=\"padding-left: 1em; padding-right: 1em; text-align: center; vertical-align: top\">Harry Potter and the<br>Deathly Hallows: Part 1 ...</td>\n",
       "    </tr>\n",
       "    <tr>\n",
       "        <td style=\"padding-left: 1em; padding-right: 1em; text-align: center; vertical-align: top\">B001DTPZNY</td>\n",
       "        <td style=\"padding-left: 1em; padding-right: 1em; text-align: center; vertical-align: top\">Indiana Jones and the<br>Kingdom of the Crystal ...</td>\n",
       "    </tr>\n",
       "    <tr>\n",
       "        <td style=\"padding-left: 1em; padding-right: 1em; text-align: center; vertical-align: top\">B000I186FW</td>\n",
       "        <td style=\"padding-left: 1em; padding-right: 1em; text-align: center; vertical-align: top\">V for Vendetta</td>\n",
       "    </tr>\n",
       "    <tr>\n",
       "        <td style=\"padding-left: 1em; padding-right: 1em; text-align: center; vertical-align: top\">B000VBJEEG</td>\n",
       "        <td style=\"padding-left: 1em; padding-right: 1em; text-align: center; vertical-align: top\">Ratatouille</td>\n",
       "    </tr>\n",
       "    <tr>\n",
       "        <td style=\"padding-left: 1em; padding-right: 1em; text-align: center; vertical-align: top\">B00005JNS0</td>\n",
       "        <td style=\"padding-left: 1em; padding-right: 1em; text-align: center; vertical-align: top\">Cars</td>\n",
       "    </tr>\n",
       "    <tr>\n",
       "        <td style=\"padding-left: 1em; padding-right: 1em; text-align: center; vertical-align: top\">B005ZMTXMY</td>\n",
       "        <td style=\"padding-left: 1em; padding-right: 1em; text-align: center; vertical-align: top\">Up</td>\n",
       "    </tr>\n",
       "    <tr>\n",
       "        <td style=\"padding-left: 1em; padding-right: 1em; text-align: center; vertical-align: top\">B009K86D86</td>\n",
       "        <td style=\"padding-left: 1em; padding-right: 1em; text-align: center; vertical-align: top\">Food, Inc.</td>\n",
       "    </tr>\n",
       "    <tr>\n",
       "        <td style=\"padding-left: 1em; padding-right: 1em; text-align: center; vertical-align: top\">B000S6LS66</td>\n",
       "        <td style=\"padding-left: 1em; padding-right: 1em; text-align: center; vertical-align: top\">Jeff Dunham: Spark of<br>Insanity ...</td>\n",
       "    </tr>\n",
       "    <tr>\n",
       "        <td style=\"padding-left: 1em; padding-right: 1em; text-align: center; vertical-align: top\">B004G600A4</td>\n",
       "        <td style=\"padding-left: 1em; padding-right: 1em; text-align: center; vertical-align: top\">Tangled</td>\n",
       "    </tr>\n",
       "</table>\n",
       "[10 rows x 2 columns]<br/>\n",
       "</div>"
      ],
      "text/plain": [
       "Columns:\n",
       "\tproduct_productid\tstr\n",
       "\tproduct_title\tstr\n",
       "\n",
       "Rows: 10\n",
       "\n",
       "Data:\n",
       "+-------------------+--------------------------------+\n",
       "| product_productid |         product_title          |\n",
       "+-------------------+--------------------------------+\n",
       "|     B0068FZ0YM    |       Brokeback Mountain       |\n",
       "|     B004WMKSH2    | Harry Potter and the Death...  |\n",
       "|     B001DTPZNY    | Indiana Jones and the King...  |\n",
       "|     B000I186FW    |         V for Vendetta         |\n",
       "|     B000VBJEEG    |          Ratatouille           |\n",
       "|     B00005JNS0    |              Cars              |\n",
       "|     B005ZMTXMY    |               Up               |\n",
       "|     B009K86D86    |           Food, Inc.           |\n",
       "|     B000S6LS66    | Jeff Dunham: Spark of Insanity |\n",
       "|     B004G600A4    |            Tangled             |\n",
       "+-------------------+--------------------------------+\n",
       "[10 rows x 2 columns]"
      ]
     },
     "execution_count": 5,
     "metadata": {},
     "output_type": "execute_result"
    }
   ],
   "source": [
    "products"
   ]
  },
  {
   "cell_type": "code",
   "execution_count": 10,
   "metadata": {
    "collapsed": false
   },
   "outputs": [
    {
     "name": "stdout",
     "output_type": "stream",
     "text": [
      "['B004OBQDJ8', 'B000ENV5WK', 'B000H5U832', 'B001AII4TU', 'B00275EHJQ', '7883685635.0', 'B004G6009K', '7799128836.0', 'B005MKZMOW', 'B0015U0R0M', 'B001EL6EDG', 'B000VFH5Z2', 'B0047Q8Y0G', 'B0049J3QF4', 'B005MKZVFC', 'B001EL6EEK', 'B004QKNXIQ', 'B0046B8GEQ', 'B004I654WQ', 'B002ZG97YM', 'B000VBJEFK', 'B005ZMUXDC', 'B000V1Y43W', 'B004G6009U', 'B003TO62G0', 'B000H7I6CU', '7883704540.0', 'B002LW9ITY', 'B004UFEJS0', 'B005ZMUQCK']\n",
      "1\n",
      "['B001AII4TU', 'B00275EHJQ', 'B004G6009K', '7799128836.0', 'B005MKZMOW', 'B0015U0R0M', 'B001EL6EDG', 'B000VFH5Z2', 'B0047Q8Y0G', 'B005MKZVFC', 'B001EL6EEK', 'B004QKNXIQ', 'B0046B8GEQ', 'B002ZG97YM', 'B000VBJEFK', 'B005ZMUXDC', 'B004G6009U', 'B003TO62G0', '7883704540.0', 'B004UFEJS0']\n",
      "2\n"
     ]
    },
    {
     "ename": "RuntimeError",
     "evalue": "Runtime Exception. Cancelled by user.",
     "output_type": "error",
     "traceback": [
      "\u001b[0;31m---------------------------------------------------------------------------\u001b[0m",
      "\u001b[0;31mRuntimeError\u001b[0m                              Traceback (most recent call last)",
      "\u001b[0;32m<ipython-input-10-95689d621db6>\u001b[0m in \u001b[0;36m<module>\u001b[0;34m()\u001b[0m\n\u001b[1;32m     10\u001b[0m             \u001b[0mselect_movie\u001b[0m \u001b[0;34m=\u001b[0m \u001b[0;34m[\u001b[0m\u001b[0mproduct_productid_1\u001b[0m\u001b[0;34m,\u001b[0m \u001b[0mproduct_productid_2\u001b[0m\u001b[0;34m,\u001b[0m \u001b[0mproduct_productid_3\u001b[0m\u001b[0;34m]\u001b[0m\u001b[0;34m\u001b[0m\u001b[0m\n\u001b[1;32m     11\u001b[0m             \u001b[0mselect_movies\u001b[0m\u001b[0;34m.\u001b[0m\u001b[0mappend\u001b[0m\u001b[0;34m(\u001b[0m\u001b[0mselect_movie\u001b[0m\u001b[0;34m)\u001b[0m\u001b[0;34m\u001b[0m\u001b[0m\n\u001b[0;32m---> 12\u001b[0;31m             \u001b[0msimilar_product\u001b[0m \u001b[0;34m=\u001b[0m \u001b[0msimilarity_product_matrix\u001b[0m\u001b[0;34m.\u001b[0m\u001b[0mfilter_by\u001b[0m\u001b[0;34m(\u001b[0m\u001b[0mselect_movie\u001b[0m\u001b[0;34m,\u001b[0m \u001b[0;34m'product_productid'\u001b[0m\u001b[0;34m)\u001b[0m\u001b[0;34m.\u001b[0m\u001b[0munique\u001b[0m\u001b[0;34m(\u001b[0m\u001b[0;34m)\u001b[0m\u001b[0;34m\u001b[0m\u001b[0m\n\u001b[0m\u001b[1;32m     13\u001b[0m             \u001b[0msimilar_product\u001b[0m \u001b[0;34m=\u001b[0m \u001b[0msimilar_product\u001b[0m\u001b[0;34m[\u001b[0m\u001b[0;34m'product_productid'\u001b[0m \u001b[0;34m,\u001b[0m\u001b[0;34m'similar'\u001b[0m\u001b[0;34m]\u001b[0m\u001b[0;34m\u001b[0m\u001b[0m\n\u001b[1;32m     14\u001b[0m             \u001b[0msimilar_product\u001b[0m \u001b[0;34m=\u001b[0m \u001b[0msimilar_product\u001b[0m\u001b[0;34m.\u001b[0m\u001b[0msort\u001b[0m\u001b[0;34m(\u001b[0m\u001b[0;34m'similar'\u001b[0m\u001b[0;34m,\u001b[0m \u001b[0mascending\u001b[0m\u001b[0;34m=\u001b[0m\u001b[0mFalse\u001b[0m\u001b[0;34m)\u001b[0m\u001b[0;34m\u001b[0m\u001b[0m\n",
      "\u001b[0;32m/Users/voelunteer/anaconda/lib/python2.7/site-packages/graphlab/data_structures/sframe.pyc\u001b[0m in \u001b[0;36mfilter_by\u001b[0;34m(self, values, column_name, exclude)\u001b[0m\n\u001b[1;32m   4851\u001b[0m                 return SFrame(_proxy=self.__proxy__.join(value_sf.__proxy__,\n\u001b[1;32m   4852\u001b[0m                                                      \u001b[0;34m'inner'\u001b[0m\u001b[0;34m,\u001b[0m\u001b[0;34m\u001b[0m\u001b[0m\n\u001b[0;32m-> 4853\u001b[0;31m                                                      {column_name:column_name}))\n\u001b[0m\u001b[1;32m   4854\u001b[0m \u001b[0;34m\u001b[0m\u001b[0m\n\u001b[1;32m   4855\u001b[0m     \u001b[0;32mdef\u001b[0m \u001b[0mshow\u001b[0m\u001b[0;34m(\u001b[0m\u001b[0mself\u001b[0m\u001b[0;34m,\u001b[0m \u001b[0mcolumns\u001b[0m\u001b[0;34m=\u001b[0m\u001b[0mNone\u001b[0m\u001b[0;34m,\u001b[0m \u001b[0mview\u001b[0m\u001b[0;34m=\u001b[0m\u001b[0mNone\u001b[0m\u001b[0;34m,\u001b[0m \u001b[0mx\u001b[0m\u001b[0;34m=\u001b[0m\u001b[0mNone\u001b[0m\u001b[0;34m,\u001b[0m \u001b[0my\u001b[0m\u001b[0;34m=\u001b[0m\u001b[0mNone\u001b[0m\u001b[0;34m)\u001b[0m\u001b[0;34m:\u001b[0m\u001b[0;34m\u001b[0m\u001b[0m\n",
      "\u001b[0;32m/Users/voelunteer/anaconda/lib/python2.7/site-packages/graphlab/cython/context.pyc\u001b[0m in \u001b[0;36m__exit__\u001b[0;34m(self, exc_type, exc_value, traceback)\u001b[0m\n\u001b[1;32m     47\u001b[0m             \u001b[0;32mif\u001b[0m \u001b[0;32mnot\u001b[0m \u001b[0mself\u001b[0m\u001b[0;34m.\u001b[0m\u001b[0mshow_cython_trace\u001b[0m\u001b[0;34m:\u001b[0m\u001b[0;34m\u001b[0m\u001b[0m\n\u001b[1;32m     48\u001b[0m                 \u001b[0;31m# To hide cython trace, we re-raise from here\u001b[0m\u001b[0;34m\u001b[0m\u001b[0;34m\u001b[0m\u001b[0m\n\u001b[0;32m---> 49\u001b[0;31m                 \u001b[0;32mraise\u001b[0m \u001b[0mexc_type\u001b[0m\u001b[0;34m(\u001b[0m\u001b[0mexc_value\u001b[0m\u001b[0;34m)\u001b[0m\u001b[0;34m\u001b[0m\u001b[0m\n\u001b[0m\u001b[1;32m     50\u001b[0m             \u001b[0;32melse\u001b[0m\u001b[0;34m:\u001b[0m\u001b[0;34m\u001b[0m\u001b[0m\n\u001b[1;32m     51\u001b[0m                 \u001b[0;31m# To show the full trace, we do nothing and let exception propagate\u001b[0m\u001b[0;34m\u001b[0m\u001b[0;34m\u001b[0m\u001b[0m\n",
      "\u001b[0;31mRuntimeError\u001b[0m: Runtime Exception. Cancelled by user."
     ]
    }
   ],
   "source": [
    "m = 1\n",
    "select_movies = []\n",
    "similar_products = []\n",
    "for i in range(0, 10):\n",
    "    for j in range(i + 1, 10):\n",
    "        for k in range(j + 1, 10):\n",
    "            product_productid_1 = products['product_productid'][i]\n",
    "            product_productid_2 = products['product_productid'][j]\n",
    "            product_productid_3 = products['product_productid'][k]\n",
    "            select_movie = [product_productid_1, product_productid_2, product_productid_3]\n",
    "            select_movies.append(select_movie)\n",
    "            similar_product = similarity_product_matrix.filter_by(select_movie, 'product_productid').unique()\n",
    "            similar_product = similar_product['product_productid' ,'similar']\n",
    "            similar_product = similar_product.sort('similar', ascending=False)\n",
    "            similar_product = similar_product['similar'].unique()\n",
    "            print similar_product\n",
    "            similar_products.append(similar_product)\n",
    "            print m\n",
    "            m += 1"
   ]
  },
  {
   "cell_type": "code",
   "execution_count": 48,
   "metadata": {
    "collapsed": false
   },
   "outputs": [
    {
     "ename": "RuntimeError",
     "evalue": "All column should be of the same length",
     "output_type": "error",
     "traceback": [
      "\u001b[0;31m---------------------------------------------------------------------------\u001b[0m",
      "\u001b[0;31mRuntimeError\u001b[0m                              Traceback (most recent call last)",
      "\u001b[0;32m<ipython-input-48-3162aebc8ca3>\u001b[0m in \u001b[0;36m<module>\u001b[0;34m()\u001b[0m\n\u001b[0;32m----> 1\u001b[0;31m \u001b[0mnew_customer_recommendation\u001b[0m \u001b[0;34m=\u001b[0m \u001b[0mgraphlab\u001b[0m\u001b[0;34m.\u001b[0m\u001b[0mSFrame\u001b[0m\u001b[0;34m(\u001b[0m\u001b[0;34m{\u001b[0m\u001b[0;34m'select_movie_id'\u001b[0m\u001b[0;34m:\u001b[0m \u001b[0mselect_movies\u001b[0m\u001b[0;34m,\u001b[0m \u001b[0;34m'similar_products'\u001b[0m\u001b[0;34m:\u001b[0m \u001b[0msimilar_products\u001b[0m\u001b[0;34m}\u001b[0m\u001b[0;34m)\u001b[0m\u001b[0;34m\u001b[0m\u001b[0m\n\u001b[0m",
      "\u001b[0;32m/Users/voelunteer/anaconda/lib/python2.7/site-packages/graphlab/data_structures/sframe.pyc\u001b[0m in \u001b[0;36m__init__\u001b[0;34m(self, data, format, _proxy)\u001b[0m\n\u001b[1;32m    961\u001b[0m                     \u001b[0;32mpass\u001b[0m\u001b[0;34m\u001b[0m\u001b[0m\n\u001b[1;32m    962\u001b[0m                 \u001b[0;32melse\u001b[0m\u001b[0;34m:\u001b[0m\u001b[0;34m\u001b[0m\u001b[0m\n\u001b[0;32m--> 963\u001b[0;31m                     \u001b[0;32mraise\u001b[0m \u001b[0mValueError\u001b[0m\u001b[0;34m(\u001b[0m\u001b[0;34m'Unknown input type: '\u001b[0m \u001b[0;34m+\u001b[0m \u001b[0mformat\u001b[0m\u001b[0;34m)\u001b[0m\u001b[0;34m\u001b[0m\u001b[0m\n\u001b[0m\u001b[1;32m    964\u001b[0m \u001b[0;34m\u001b[0m\u001b[0m\n\u001b[1;32m    965\u001b[0m         \u001b[0msframe_size\u001b[0m \u001b[0;34m=\u001b[0m \u001b[0;34m-\u001b[0m\u001b[0;36m1\u001b[0m\u001b[0;34m\u001b[0m\u001b[0m\n",
      "\u001b[0;32m/Users/voelunteer/anaconda/lib/python2.7/site-packages/graphlab/cython/context.pyc\u001b[0m in \u001b[0;36m__exit__\u001b[0;34m(self, exc_type, exc_value, traceback)\u001b[0m\n\u001b[1;32m     47\u001b[0m             \u001b[0;32mif\u001b[0m \u001b[0;32mnot\u001b[0m \u001b[0mself\u001b[0m\u001b[0;34m.\u001b[0m\u001b[0mshow_cython_trace\u001b[0m\u001b[0;34m:\u001b[0m\u001b[0;34m\u001b[0m\u001b[0m\n\u001b[1;32m     48\u001b[0m                 \u001b[0;31m# To hide cython trace, we re-raise from here\u001b[0m\u001b[0;34m\u001b[0m\u001b[0;34m\u001b[0m\u001b[0m\n\u001b[0;32m---> 49\u001b[0;31m                 \u001b[0;32mraise\u001b[0m \u001b[0mexc_type\u001b[0m\u001b[0;34m(\u001b[0m\u001b[0mexc_value\u001b[0m\u001b[0;34m)\u001b[0m\u001b[0;34m\u001b[0m\u001b[0m\n\u001b[0m\u001b[1;32m     50\u001b[0m             \u001b[0;32melse\u001b[0m\u001b[0;34m:\u001b[0m\u001b[0;34m\u001b[0m\u001b[0m\n\u001b[1;32m     51\u001b[0m                 \u001b[0;31m# To show the full trace, we do nothing and let exception propagate\u001b[0m\u001b[0;34m\u001b[0m\u001b[0;34m\u001b[0m\u001b[0m\n",
      "\u001b[0;31mRuntimeError\u001b[0m: All column should be of the same length"
     ]
    }
   ],
   "source": [
    "new_customer_recommendation = graphlab.SFrame({'select_movie_id': select_movies, 'similar_products': similar_products})"
   ]
  },
  {
   "cell_type": "code",
   "execution_count": 11,
   "metadata": {
    "collapsed": false
   },
   "outputs": [
    {
     "data": {
      "text/plain": [
       "[['B000VBJEEG', 'B00005JNS0', 'B004G600A4'],\n",
       " ['B000VBJEEG', 'B005ZMTXMY', 'B004G600A4'],\n",
       " ['B000VBJEEG', 'B009K86D86', 'B004G600A4']]"
      ]
     },
     "execution_count": 11,
     "metadata": {},
     "output_type": "execute_result"
    }
   ],
   "source": [
    "select_movies"
   ]
  },
  {
   "cell_type": "code",
   "execution_count": null,
   "metadata": {
    "collapsed": true
   },
   "outputs": [],
   "source": []
  }
 ],
 "metadata": {
  "kernelspec": {
   "display_name": "Python 2",
   "language": "python",
   "name": "python2"
  },
  "language_info": {
   "codemirror_mode": {
    "name": "ipython",
    "version": 2
   },
   "file_extension": ".py",
   "mimetype": "text/x-python",
   "name": "python",
   "nbconvert_exporter": "python",
   "pygments_lexer": "ipython2",
   "version": "2.7.11"
  }
 },
 "nbformat": 4,
 "nbformat_minor": 0
}
