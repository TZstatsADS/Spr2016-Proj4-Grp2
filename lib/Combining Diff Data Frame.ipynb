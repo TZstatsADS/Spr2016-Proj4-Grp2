{
 "cells": [
  {
   "cell_type": "code",
   "execution_count": 2,
   "metadata": {
    "collapsed": true
   },
   "outputs": [],
   "source": [
    "import graphlab\n",
    "import pandas"
   ]
  },
  {
   "cell_type": "code",
   "execution_count": 3,
   "metadata": {
    "collapsed": false
   },
   "outputs": [],
   "source": [
    "review_df = pandas.read_csv('../output/review_data_frame2.csv')"
   ]
  },
  {
   "cell_type": "code",
   "execution_count": 4,
   "metadata": {
    "collapsed": false
   },
   "outputs": [],
   "source": [
    "review_df = review_df[['product_productid', 'review_userid', 'review_text', 'review_score', 'review_helpfulness']]"
   ]
  },
  {
   "cell_type": "code",
   "execution_count": 5,
   "metadata": {
    "collapsed": false
   },
   "outputs": [
    {
     "name": "stderr",
     "output_type": "stream",
     "text": [
      "2016-04-11 18:08:04,334 [INFO] graphlab.cython.cy_server, 176: GraphLab Create v1.8.5 started. Logging: /tmp/graphlab_server_1460412483.log\n"
     ]
    },
    {
     "name": "stdout",
     "output_type": "stream",
     "text": [
      "This non-commercial license of GraphLab Create is assigned to voelunteer@gmail.com and will expire on December 23, 2016. For commercial licensing options, visit https://dato.com/buy/.\n"
     ]
    }
   ],
   "source": [
    "review_df = graphlab.SFrame(review_df)"
   ]
  },
  {
   "cell_type": "code",
   "execution_count": 6,
   "metadata": {
    "collapsed": false
   },
   "outputs": [
    {
     "data": {
      "text/html": [
       "<pre>Tokenizing...</pre>"
      ],
      "text/plain": [
       "Tokenizing..."
      ]
     },
     "metadata": {},
     "output_type": "display_data"
    },
    {
     "data": {
      "text/html": [
       "<pre>TF-IDF transform...</pre>"
      ],
      "text/plain": [
       "TF-IDF transform..."
      ]
     },
     "metadata": {},
     "output_type": "display_data"
    },
    {
     "data": {
      "text/html": [
       "<pre>Creating inverted index...</pre>"
      ],
      "text/plain": [
       "Creating inverted index..."
      ]
     },
     "metadata": {},
     "output_type": "display_data"
    },
    {
     "data": {
      "text/html": [
       "<pre>+--------------------------+-------------------+</pre>"
      ],
      "text/plain": [
       "+--------------------------+-------------------+"
      ]
     },
     "metadata": {},
     "output_type": "display_data"
    },
    {
     "data": {
      "text/html": [
       "<pre>| Number of rows processed | Elapsed (seconds) |</pre>"
      ],
      "text/plain": [
       "| Number of rows processed | Elapsed (seconds) |"
      ]
     },
     "metadata": {},
     "output_type": "display_data"
    },
    {
     "data": {
      "text/html": [
       "<pre>+--------------------------+-------------------+</pre>"
      ],
      "text/plain": [
       "+--------------------------+-------------------+"
      ]
     },
     "metadata": {},
     "output_type": "display_data"
    },
    {
     "data": {
      "text/html": [
       "<pre>| 0                        | 33.31s            |</pre>"
      ],
      "text/plain": [
       "| 0                        | 33.31s            |"
      ]
     },
     "metadata": {},
     "output_type": "display_data"
    },
    {
     "data": {
      "text/html": [
       "<pre>| 100000                   | 1m 28s            |</pre>"
      ],
      "text/plain": [
       "| 100000                   | 1m 28s            |"
      ]
     },
     "metadata": {},
     "output_type": "display_data"
    },
    {
     "data": {
      "text/html": [
       "<pre>+--------------------------+-------------------+</pre>"
      ],
      "text/plain": [
       "+--------------------------+-------------------+"
      ]
     },
     "metadata": {},
     "output_type": "display_data"
    },
    {
     "data": {
      "text/html": [
       "<pre>Creating query expansion model...</pre>"
      ],
      "text/plain": [
       "Creating query expansion model..."
      ]
     },
     "metadata": {},
     "output_type": "display_data"
    },
    {
     "data": {
      "text/html": [
       "<pre>Saving data for querying...</pre>"
      ],
      "text/plain": [
       "Saving data for querying..."
      ]
     },
     "metadata": {},
     "output_type": "display_data"
    }
   ],
   "source": [
    "sentiment_model = graphlab.product_sentiment.create(review_df, features=['review_text'])"
   ]
  },
  {
   "cell_type": "code",
   "execution_count": 7,
   "metadata": {
    "collapsed": true
   },
   "outputs": [],
   "source": [
    "review_df = sentiment_model.get_most_negative(k = 134881)"
   ]
  },
  {
   "cell_type": "code",
   "execution_count": 8,
   "metadata": {
    "collapsed": false,
    "scrolled": true
   },
   "outputs": [
    {
     "data": {
      "text/html": [
       "<pre>Finished parsing file /Users/voelunteer/Courses/Applied-Data-Science/project4-team-2/output/cluster_of_review.csv</pre>"
      ],
      "text/plain": [
       "Finished parsing file /Users/voelunteer/Courses/Applied-Data-Science/project4-team-2/output/cluster_of_review.csv"
      ]
     },
     "metadata": {},
     "output_type": "display_data"
    },
    {
     "data": {
      "text/html": [
       "<pre>Parsing completed. Parsed 100 lines in 0.726262 secs.</pre>"
      ],
      "text/plain": [
       "Parsing completed. Parsed 100 lines in 0.726262 secs."
      ]
     },
     "metadata": {},
     "output_type": "display_data"
    },
    {
     "name": "stdout",
     "output_type": "stream",
     "text": [
      "------------------------------------------------------\n",
      "Inferred types from first line of file as \n",
      "column_type_hints=[str,int,int]\n",
      "If parsing fails due to incorrect types, you can correct\n",
      "the inferred type list above and pass it to read_csv in\n",
      "the column_type_hints argument\n",
      "------------------------------------------------------\n"
     ]
    },
    {
     "data": {
      "text/html": [
       "<pre>Finished parsing file /Users/voelunteer/Courses/Applied-Data-Science/project4-team-2/output/cluster_of_review.csv</pre>"
      ],
      "text/plain": [
       "Finished parsing file /Users/voelunteer/Courses/Applied-Data-Science/project4-team-2/output/cluster_of_review.csv"
      ]
     },
     "metadata": {},
     "output_type": "display_data"
    },
    {
     "data": {
      "text/html": [
       "<pre>Parsing completed. Parsed 19407 lines in 0.90632 secs.</pre>"
      ],
      "text/plain": [
       "Parsing completed. Parsed 19407 lines in 0.90632 secs."
      ]
     },
     "metadata": {},
     "output_type": "display_data"
    }
   ],
   "source": [
    "cluster_df = graphlab.SFrame('../output/cluster_of_review.csv')"
   ]
  },
  {
   "cell_type": "code",
   "execution_count": 9,
   "metadata": {
    "collapsed": true
   },
   "outputs": [],
   "source": [
    "cluster_df = cluster_df['review_text', 'cluster_id']"
   ]
  },
  {
   "cell_type": "code",
   "execution_count": 10,
   "metadata": {
    "collapsed": true
   },
   "outputs": [],
   "source": [
    "review_df.save('../output/pre_combine_data_review.csv')"
   ]
  },
  {
   "cell_type": "code",
   "execution_count": 11,
   "metadata": {
    "collapsed": true
   },
   "outputs": [],
   "source": [
    "cluster_df.save('../output/pre_combine_data_cluster.csv')"
   ]
  },
  {
   "cell_type": "code",
   "execution_count": 24,
   "metadata": {
    "collapsed": false
   },
   "outputs": [],
   "source": [
    "def select_cluster_id(array):\n",
    "    try:\n",
    "        return (int(cluster_df[cluster_df['review_text'] == array['review_text']]['cluster_id'][0]))\n",
    "    except:\n",
    "        return None\n",
    "    \n"
   ]
  },
  {
   "cell_type": "code",
   "execution_count": 25,
   "metadata": {
    "collapsed": false
   },
   "outputs": [],
   "source": [
    "cluster_ids = review_df.apply(select_cluster_id)"
   ]
  },
  {
   "cell_type": "code",
   "execution_count": null,
   "metadata": {
    "collapsed": false
   },
   "outputs": [],
   "source": [
    "review_df['cluster_id'] = cluster_ids"
   ]
  },
  {
   "cell_type": "code",
   "execution_count": 33,
   "metadata": {
    "collapsed": false
   },
   "outputs": [],
   "source": [
    "review_df_new = review_df['product_productid', 'review_score', 'review_helpfulness', 'sentiment_score', 'cluster_id']"
   ]
  },
  {
   "cell_type": "code",
   "execution_count": 34,
   "metadata": {
    "collapsed": false
   },
   "outputs": [
    {
     "ename": "RuntimeError",
     "evalue": "Runtime Exception. Exception in python callback function evaluation: \nRuntimeError('Runtime Exception. Cancelled by user.',): \nTraceback (most recent call last):\n  File \"graphlab/cython/cy_pylambda_workers.pyx\", line 450, in graphlab.cython.cy_pylambda_workers._eval_lambda_by_sframe_rows\n  File \"graphlab/cython/cy_pylambda_workers.pyx\", line 221, in graphlab.cython.cy_pylambda_workers.lambda_evaluator.eval_sframe_rows\n  File \"<ipython-input-24-f60c23f019bf>\", line 1, in <lambda>\n  File \"/Users/voelunteer/anaconda/lib/python2.7/site-packages/graphlab/data_structures/sarray.py\", line 1035, in __getitem__\n    sa_len = len(self)\n  File \"/Users/voelunteer/anaconda/lib/python2.7/site-packages/graphlab/data_structures/sarray.py\", line 665, in __len__\n    return self.size()\n  File \"/Users/voelunteer/anaconda/lib/python2.7/site-packages/graphlab/data_structures/sarray.py\", line 1106, in size\n    return self.__proxy__.size()\n  File \"graphlab/cython/cy_sarray.pyx\", line 99, in graphlab.cython.cy_sarray.UnitySArrayProxy.size\n  File \"graphlab/cython/cy_sarray.pyx\", line 100, in graphlab.cython.cy_sarray.UnitySArrayProxy.size\nRuntimeError: Runtime Exception. Cancelled by user.\n",
     "output_type": "error",
     "traceback": [
      "\u001b[0;31m---------------------------------------------------------------------------\u001b[0m",
      "\u001b[0;31mRuntimeError\u001b[0m                              Traceback (most recent call last)",
      "\u001b[0;32m<ipython-input-34-93631be0e8ed>\u001b[0m in \u001b[0;36m<module>\u001b[0;34m()\u001b[0m\n\u001b[0;32m----> 1\u001b[0;31m \u001b[0mreview_df_new\u001b[0m\u001b[0;34m.\u001b[0m\u001b[0msave\u001b[0m\u001b[0;34m(\u001b[0m\u001b[0;34m'../output/xinghao_combined_data.csv'\u001b[0m\u001b[0;34m)\u001b[0m\u001b[0;34m\u001b[0m\u001b[0m\n\u001b[0m",
      "\u001b[0;32m/Users/voelunteer/anaconda/lib/python2.7/site-packages/graphlab/data_structures/sframe.pyc\u001b[0m in \u001b[0;36msave\u001b[0;34m(self, filename, format)\u001b[0m\n\u001b[1;32m   3348\u001b[0m                 \u001b[0mself\u001b[0m\u001b[0;34m.\u001b[0m\u001b[0mexport_json\u001b[0m\u001b[0;34m(\u001b[0m\u001b[0murl\u001b[0m\u001b[0;34m)\u001b[0m\u001b[0;34m\u001b[0m\u001b[0m\n\u001b[1;32m   3349\u001b[0m             \u001b[0;32melse\u001b[0m\u001b[0;34m:\u001b[0m\u001b[0;34m\u001b[0m\u001b[0m\n\u001b[0;32m-> 3350\u001b[0;31m                 \u001b[0;32mraise\u001b[0m \u001b[0mValueError\u001b[0m\u001b[0;34m(\u001b[0m\u001b[0;34m\"Unsupported format: {}\"\u001b[0m\u001b[0;34m.\u001b[0m\u001b[0mformat\u001b[0m\u001b[0;34m(\u001b[0m\u001b[0mformat\u001b[0m\u001b[0;34m)\u001b[0m\u001b[0;34m)\u001b[0m\u001b[0;34m\u001b[0m\u001b[0m\n\u001b[0m\u001b[1;32m   3351\u001b[0m \u001b[0;34m\u001b[0m\u001b[0m\n\u001b[1;32m   3352\u001b[0m     def export_csv(self, filename, delimiter=',', line_terminator='\\n',\n",
      "\u001b[0;32m/Users/voelunteer/anaconda/lib/python2.7/site-packages/graphlab/cython/context.pyc\u001b[0m in \u001b[0;36m__exit__\u001b[0;34m(self, exc_type, exc_value, traceback)\u001b[0m\n\u001b[1;32m     47\u001b[0m             \u001b[0;32mif\u001b[0m \u001b[0;32mnot\u001b[0m \u001b[0mself\u001b[0m\u001b[0;34m.\u001b[0m\u001b[0mshow_cython_trace\u001b[0m\u001b[0;34m:\u001b[0m\u001b[0;34m\u001b[0m\u001b[0m\n\u001b[1;32m     48\u001b[0m                 \u001b[0;31m# To hide cython trace, we re-raise from here\u001b[0m\u001b[0;34m\u001b[0m\u001b[0;34m\u001b[0m\u001b[0m\n\u001b[0;32m---> 49\u001b[0;31m                 \u001b[0;32mraise\u001b[0m \u001b[0mexc_type\u001b[0m\u001b[0;34m(\u001b[0m\u001b[0mexc_value\u001b[0m\u001b[0;34m)\u001b[0m\u001b[0;34m\u001b[0m\u001b[0m\n\u001b[0m\u001b[1;32m     50\u001b[0m             \u001b[0;32melse\u001b[0m\u001b[0;34m:\u001b[0m\u001b[0;34m\u001b[0m\u001b[0m\n\u001b[1;32m     51\u001b[0m                 \u001b[0;31m# To show the full trace, we do nothing and let exception propagate\u001b[0m\u001b[0;34m\u001b[0m\u001b[0;34m\u001b[0m\u001b[0m\n",
      "\u001b[0;31mRuntimeError\u001b[0m: Runtime Exception. Exception in python callback function evaluation: \nRuntimeError('Runtime Exception. Cancelled by user.',): \nTraceback (most recent call last):\n  File \"graphlab/cython/cy_pylambda_workers.pyx\", line 450, in graphlab.cython.cy_pylambda_workers._eval_lambda_by_sframe_rows\n  File \"graphlab/cython/cy_pylambda_workers.pyx\", line 221, in graphlab.cython.cy_pylambda_workers.lambda_evaluator.eval_sframe_rows\n  File \"<ipython-input-24-f60c23f019bf>\", line 1, in <lambda>\n  File \"/Users/voelunteer/anaconda/lib/python2.7/site-packages/graphlab/data_structures/sarray.py\", line 1035, in __getitem__\n    sa_len = len(self)\n  File \"/Users/voelunteer/anaconda/lib/python2.7/site-packages/graphlab/data_structures/sarray.py\", line 665, in __len__\n    return self.size()\n  File \"/Users/voelunteer/anaconda/lib/python2.7/site-packages/graphlab/data_structures/sarray.py\", line 1106, in size\n    return self.__proxy__.size()\n  File \"graphlab/cython/cy_sarray.pyx\", line 99, in graphlab.cython.cy_sarray.UnitySArrayProxy.size\n  File \"graphlab/cython/cy_sarray.pyx\", line 100, in graphlab.cython.cy_sarray.UnitySArrayProxy.size\nRuntimeError: Runtime Exception. Cancelled by user.\n"
     ]
    }
   ],
   "source": [
    "review_df_new.save('../output/xinghao_combined_data.csv')"
   ]
  },
  {
   "cell_type": "code",
   "execution_count": null,
   "metadata": {
    "collapsed": true
   },
   "outputs": [],
   "source": []
  }
 ],
 "metadata": {
  "kernelspec": {
   "display_name": "Python 2",
   "language": "python",
   "name": "python2"
  },
  "language_info": {
   "codemirror_mode": {
    "name": "ipython",
    "version": 2
   },
   "file_extension": ".py",
   "mimetype": "text/x-python",
   "name": "python",
   "nbconvert_exporter": "python",
   "pygments_lexer": "ipython2",
   "version": "2.7.11"
  }
 },
 "nbformat": 4,
 "nbformat_minor": 0
}
