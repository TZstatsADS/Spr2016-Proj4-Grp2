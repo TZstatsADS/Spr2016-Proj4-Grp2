{
 "cells": [
  {
   "cell_type": "code",
   "execution_count": 1,
   "metadata": {
    "collapsed": true
   },
   "outputs": [],
   "source": [
    "import pandas\n",
    "import graphlab"
   ]
  },
  {
   "cell_type": "code",
   "execution_count": 2,
   "metadata": {
    "collapsed": false
   },
   "outputs": [],
   "source": [
    "review_df = pandas.read_csv('../output/review_data_frame2.csv')"
   ]
  },
  {
   "cell_type": "code",
   "execution_count": 3,
   "metadata": {
    "collapsed": false
   },
   "outputs": [],
   "source": [
    "review_df = review_df[['product_productid', 'review_text', 'review_score']]"
   ]
  },
  {
   "cell_type": "code",
   "execution_count": 4,
   "metadata": {
    "collapsed": false
   },
   "outputs": [
    {
     "name": "stdout",
     "output_type": "stream",
     "text": [
      "This non-commercial license of GraphLab Create is assigned to voelunteer@gmail.com and will expire on December 23, 2016. For commercial licensing options, visit https://dato.com/buy/.\n"
     ]
    },
    {
     "name": "stderr",
     "output_type": "stream",
     "text": [
      "2016-04-09 15:22:10,447 [INFO] graphlab.cython.cy_server, 176: GraphLab Create v1.8.5 started. Logging: /tmp/graphlab_server_1460229729.log\n"
     ]
    }
   ],
   "source": [
    "review_df = graphlab.SFrame(review_df)"
   ]
  },
  {
   "cell_type": "code",
   "execution_count": 6,
   "metadata": {
    "collapsed": true
   },
   "outputs": [],
   "source": [
    "total_review_df = review_df"
   ]
  },
  {
   "cell_type": "code",
   "execution_count": 5,
   "metadata": {
    "collapsed": false
   },
   "outputs": [],
   "source": [
    "review_df = review_df['review_text', 'review_score']"
   ]
  },
  {
   "cell_type": "code",
   "execution_count": 7,
   "metadata": {
    "collapsed": false
   },
   "outputs": [],
   "source": [
    "review_df = review_df.unique()"
   ]
  },
  {
   "cell_type": "code",
   "execution_count": 8,
   "metadata": {
    "collapsed": false,
    "scrolled": false
   },
   "outputs": [],
   "source": [
    "# sentiment_model = graphlab.product_sentiment.create(review_df, features=['review_text'])"
   ]
  },
  {
   "cell_type": "code",
   "execution_count": 9,
   "metadata": {
    "collapsed": false
   },
   "outputs": [],
   "source": [
    "# review_df = sentiment_model.get_most_negative(k = 134881)"
   ]
  },
  {
   "cell_type": "code",
   "execution_count": 8,
   "metadata": {
    "collapsed": false
   },
   "outputs": [
    {
     "data": {
      "text/html": [
       "<div style=\"max-height:1000px;max-width:1500px;overflow:auto;\"><table frame=\"box\" rules=\"cols\">\n",
       "    <tr>\n",
       "        <th style=\"padding-left: 1em; padding-right: 1em; text-align: center\">review_score</th>\n",
       "        <th style=\"padding-left: 1em; padding-right: 1em; text-align: center\">review_text</th>\n",
       "    </tr>\n",
       "    <tr>\n",
       "        <td style=\"padding-left: 1em; padding-right: 1em; text-align: center; vertical-align: top\">4</td>\n",
       "        <td style=\"padding-left: 1em; padding-right: 1em; text-align: center; vertical-align: top\">As a major fan of Robert<br>Rodriguez and a fan of ...</td>\n",
       "    </tr>\n",
       "    <tr>\n",
       "        <td style=\"padding-left: 1em; padding-right: 1em; text-align: center; vertical-align: top\">5</td>\n",
       "        <td style=\"padding-left: 1em; padding-right: 1em; text-align: center; vertical-align: top\">When I compare this HBO<br>miniseries to other ...</td>\n",
       "    </tr>\n",
       "    <tr>\n",
       "        <td style=\"padding-left: 1em; padding-right: 1em; text-align: center; vertical-align: top\">4</td>\n",
       "        <td style=\"padding-left: 1em; padding-right: 1em; text-align: center; vertical-align: top\">This is a review of the<br>Disney Blu-Ray releas ...</td>\n",
       "    </tr>\n",
       "    <tr>\n",
       "        <td style=\"padding-left: 1em; padding-right: 1em; text-align: center; vertical-align: top\">1</td>\n",
       "        <td style=\"padding-left: 1em; padding-right: 1em; text-align: center; vertical-align: top\">The characters lack<br>depth, background, ...</td>\n",
       "    </tr>\n",
       "    <tr>\n",
       "        <td style=\"padding-left: 1em; padding-right: 1em; text-align: center; vertical-align: top\">5</td>\n",
       "        <td style=\"padding-left: 1em; padding-right: 1em; text-align: center; vertical-align: top\">\"Tangled\" is spectacular,<br>but it's not because  ...</td>\n",
       "    </tr>\n",
       "    <tr>\n",
       "        <td style=\"padding-left: 1em; padding-right: 1em; text-align: center; vertical-align: top\">5</td>\n",
       "        <td style=\"padding-left: 1em; padding-right: 1em; text-align: center; vertical-align: top\">I love watching Jeff<br>Dunham do his thing. ...</td>\n",
       "    </tr>\n",
       "    <tr>\n",
       "        <td style=\"padding-left: 1em; padding-right: 1em; text-align: center; vertical-align: top\">1</td>\n",
       "        <td style=\"padding-left: 1em; padding-right: 1em; text-align: center; vertical-align: top\">Though M. Night<br>Shyamalan's unable to ...</td>\n",
       "    </tr>\n",
       "    <tr>\n",
       "        <td style=\"padding-left: 1em; padding-right: 1em; text-align: center; vertical-align: top\">5</td>\n",
       "        <td style=\"padding-left: 1em; padding-right: 1em; text-align: center; vertical-align: top\">5.0 stars&lt;br /&gt;&lt;br /&gt;An<br>exemplary film and ea ...</td>\n",
       "    </tr>\n",
       "    <tr>\n",
       "        <td style=\"padding-left: 1em; padding-right: 1em; text-align: center; vertical-align: top\">1</td>\n",
       "        <td style=\"padding-left: 1em; padding-right: 1em; text-align: center; vertical-align: top\">I had very, very high<br>hopes for this film - ...</td>\n",
       "    </tr>\n",
       "    <tr>\n",
       "        <td style=\"padding-left: 1em; padding-right: 1em; text-align: center; vertical-align: top\">2</td>\n",
       "        <td style=\"padding-left: 1em; padding-right: 1em; text-align: center; vertical-align: top\">No, you don't have to see<br>all my reviews. I try to ...</td>\n",
       "    </tr>\n",
       "</table>\n",
       "[19407 rows x 2 columns]<br/>Note: Only the head of the SFrame is printed.<br/>You can use print_rows(num_rows=m, num_columns=n) to print more rows and columns.\n",
       "</div>"
      ],
      "text/plain": [
       "Columns:\n",
       "\treview_score\tint\n",
       "\treview_text\tstr\n",
       "\n",
       "Rows: 19407\n",
       "\n",
       "Data:\n",
       "+--------------+-------------------------------+\n",
       "| review_score |          review_text          |\n",
       "+--------------+-------------------------------+\n",
       "|      4       | As a major fan of Robert R... |\n",
       "|      5       | When I compare this HBO mi... |\n",
       "|      4       | This is a review of the Di... |\n",
       "|      1       | The characters lack depth,... |\n",
       "|      5       | \"Tangled\" is spectacular, ... |\n",
       "|      5       | I love watching Jeff Dunha... |\n",
       "|      1       | Though M. Night Shyamalan'... |\n",
       "|      5       | 5.0 stars<br /><br />An ex... |\n",
       "|      1       | I had very, very high hope... |\n",
       "|      2       | No, you don't have to see ... |\n",
       "+--------------+-------------------------------+\n",
       "[19407 rows x 2 columns]\n",
       "Note: Only the head of the SFrame is printed.\n",
       "You can use print_rows(num_rows=m, num_columns=n) to print more rows and columns."
      ]
     },
     "execution_count": 8,
     "metadata": {},
     "output_type": "execute_result"
    }
   ],
   "source": [
    "review_df "
   ]
  },
  {
   "cell_type": "code",
   "execution_count": 9,
   "metadata": {
    "collapsed": false
   },
   "outputs": [],
   "source": [
    "review_df['word_count'] = graphlab.text_analytics.count_words(review_df['review_text'])"
   ]
  },
  {
   "cell_type": "code",
   "execution_count": 10,
   "metadata": {
    "collapsed": true
   },
   "outputs": [],
   "source": [
    "review_df['tf-idf'] = graphlab.text_analytics.tf_idf(review_df['word_count'])"
   ]
  },
  {
   "cell_type": "code",
   "execution_count": 11,
   "metadata": {
    "collapsed": false,
    "scrolled": false
   },
   "outputs": [],
   "source": [
    "# k_means_model = graphlab.kmeans.create(review_df, num_clusters = 5, max_iterations=30, features=['tf-idf'])"
   ]
  },
  {
   "cell_type": "code",
   "execution_count": 12,
   "metadata": {
    "collapsed": true
   },
   "outputs": [],
   "source": [
    "# k_means_model.save('../output/K(5) Means Model (new)')"
   ]
  },
  {
   "cell_type": "code",
   "execution_count": 13,
   "metadata": {
    "collapsed": true
   },
   "outputs": [],
   "source": [
    "k_means_model = graphlab.load_model('../output/K(5) Means Model')"
   ]
  },
  {
   "cell_type": "code",
   "execution_count": 14,
   "metadata": {
    "collapsed": false
   },
   "outputs": [
    {
     "data": {
      "text/html": [
       "<div style=\"max-height:1000px;max-width:1500px;overflow:auto;\"><table frame=\"box\" rules=\"cols\">\n",
       "    <tr>\n",
       "        <th style=\"padding-left: 1em; padding-right: 1em; text-align: center\">row_id</th>\n",
       "        <th style=\"padding-left: 1em; padding-right: 1em; text-align: center\">cluster_id</th>\n",
       "        <th style=\"padding-left: 1em; padding-right: 1em; text-align: center\">distance</th>\n",
       "    </tr>\n",
       "    <tr>\n",
       "        <td style=\"padding-left: 1em; padding-right: 1em; text-align: center; vertical-align: top\">0</td>\n",
       "        <td style=\"padding-left: 1em; padding-right: 1em; text-align: center; vertical-align: top\">0</td>\n",
       "        <td style=\"padding-left: 1em; padding-right: 1em; text-align: center; vertical-align: top\">41.9870109558</td>\n",
       "    </tr>\n",
       "    <tr>\n",
       "        <td style=\"padding-left: 1em; padding-right: 1em; text-align: center; vertical-align: top\">1</td>\n",
       "        <td style=\"padding-left: 1em; padding-right: 1em; text-align: center; vertical-align: top\">0</td>\n",
       "        <td style=\"padding-left: 1em; padding-right: 1em; text-align: center; vertical-align: top\">37.276184082</td>\n",
       "    </tr>\n",
       "    <tr>\n",
       "        <td style=\"padding-left: 1em; padding-right: 1em; text-align: center; vertical-align: top\">2</td>\n",
       "        <td style=\"padding-left: 1em; padding-right: 1em; text-align: center; vertical-align: top\">0</td>\n",
       "        <td style=\"padding-left: 1em; padding-right: 1em; text-align: center; vertical-align: top\">31.915927887</td>\n",
       "    </tr>\n",
       "    <tr>\n",
       "        <td style=\"padding-left: 1em; padding-right: 1em; text-align: center; vertical-align: top\">3</td>\n",
       "        <td style=\"padding-left: 1em; padding-right: 1em; text-align: center; vertical-align: top\">0</td>\n",
       "        <td style=\"padding-left: 1em; padding-right: 1em; text-align: center; vertical-align: top\">31.7485027313</td>\n",
       "    </tr>\n",
       "    <tr>\n",
       "        <td style=\"padding-left: 1em; padding-right: 1em; text-align: center; vertical-align: top\">4</td>\n",
       "        <td style=\"padding-left: 1em; padding-right: 1em; text-align: center; vertical-align: top\">0</td>\n",
       "        <td style=\"padding-left: 1em; padding-right: 1em; text-align: center; vertical-align: top\">63.2005653381</td>\n",
       "    </tr>\n",
       "    <tr>\n",
       "        <td style=\"padding-left: 1em; padding-right: 1em; text-align: center; vertical-align: top\">5</td>\n",
       "        <td style=\"padding-left: 1em; padding-right: 1em; text-align: center; vertical-align: top\">0</td>\n",
       "        <td style=\"padding-left: 1em; padding-right: 1em; text-align: center; vertical-align: top\">30.2194385529</td>\n",
       "    </tr>\n",
       "    <tr>\n",
       "        <td style=\"padding-left: 1em; padding-right: 1em; text-align: center; vertical-align: top\">6</td>\n",
       "        <td style=\"padding-left: 1em; padding-right: 1em; text-align: center; vertical-align: top\">1</td>\n",
       "        <td style=\"padding-left: 1em; padding-right: 1em; text-align: center; vertical-align: top\">107.159637451</td>\n",
       "    </tr>\n",
       "    <tr>\n",
       "        <td style=\"padding-left: 1em; padding-right: 1em; text-align: center; vertical-align: top\">7</td>\n",
       "        <td style=\"padding-left: 1em; padding-right: 1em; text-align: center; vertical-align: top\">0</td>\n",
       "        <td style=\"padding-left: 1em; padding-right: 1em; text-align: center; vertical-align: top\">55.3383369446</td>\n",
       "    </tr>\n",
       "    <tr>\n",
       "        <td style=\"padding-left: 1em; padding-right: 1em; text-align: center; vertical-align: top\">8</td>\n",
       "        <td style=\"padding-left: 1em; padding-right: 1em; text-align: center; vertical-align: top\">0</td>\n",
       "        <td style=\"padding-left: 1em; padding-right: 1em; text-align: center; vertical-align: top\">37.1716957092</td>\n",
       "    </tr>\n",
       "    <tr>\n",
       "        <td style=\"padding-left: 1em; padding-right: 1em; text-align: center; vertical-align: top\">9</td>\n",
       "        <td style=\"padding-left: 1em; padding-right: 1em; text-align: center; vertical-align: top\">0</td>\n",
       "        <td style=\"padding-left: 1em; padding-right: 1em; text-align: center; vertical-align: top\">50.0964927673</td>\n",
       "    </tr>\n",
       "</table>\n",
       "[19407 rows x 3 columns]<br/>Note: Only the head of the SFrame is printed.<br/>You can use print_rows(num_rows=m, num_columns=n) to print more rows and columns.\n",
       "</div>"
      ],
      "text/plain": [
       "Columns:\n",
       "\trow_id\tint\n",
       "\tcluster_id\tint\n",
       "\tdistance\tfloat\n",
       "\n",
       "Rows: 19407\n",
       "\n",
       "Data:\n",
       "+--------+------------+---------------+\n",
       "| row_id | cluster_id |    distance   |\n",
       "+--------+------------+---------------+\n",
       "|   0    |     0      | 41.9870109558 |\n",
       "|   1    |     0      |  37.276184082 |\n",
       "|   2    |     0      |  31.915927887 |\n",
       "|   3    |     0      | 31.7485027313 |\n",
       "|   4    |     0      | 63.2005653381 |\n",
       "|   5    |     0      | 30.2194385529 |\n",
       "|   6    |     1      | 107.159637451 |\n",
       "|   7    |     0      | 55.3383369446 |\n",
       "|   8    |     0      | 37.1716957092 |\n",
       "|   9    |     0      | 50.0964927673 |\n",
       "+--------+------------+---------------+\n",
       "[19407 rows x 3 columns]\n",
       "Note: Only the head of the SFrame is printed.\n",
       "You can use print_rows(num_rows=m, num_columns=n) to print more rows and columns."
      ]
     },
     "execution_count": 14,
     "metadata": {},
     "output_type": "execute_result"
    }
   ],
   "source": [
    "k_means_model.get('cluster_id')"
   ]
  },
  {
   "cell_type": "code",
   "execution_count": 15,
   "metadata": {
    "collapsed": false
   },
   "outputs": [],
   "source": [
    "review_df['cluster_id'] = k_means_model.get('cluster_id')['cluster_id']"
   ]
  },
  {
   "cell_type": "code",
   "execution_count": 16,
   "metadata": {
    "collapsed": false,
    "scrolled": true
   },
   "outputs": [
    {
     "data": {
      "text/html": [
       "<div style=\"max-height:1000px;max-width:1500px;overflow:auto;\"><table frame=\"box\" rules=\"cols\">\n",
       "    <tr>\n",
       "        <th style=\"padding-left: 1em; padding-right: 1em; text-align: center\">review_score</th>\n",
       "        <th style=\"padding-left: 1em; padding-right: 1em; text-align: center\">review_text</th>\n",
       "        <th style=\"padding-left: 1em; padding-right: 1em; text-align: center\">word_count</th>\n",
       "        <th style=\"padding-left: 1em; padding-right: 1em; text-align: center\">tf-idf</th>\n",
       "        <th style=\"padding-left: 1em; padding-right: 1em; text-align: center\">cluster_id</th>\n",
       "    </tr>\n",
       "    <tr>\n",
       "        <td style=\"padding-left: 1em; padding-right: 1em; text-align: center; vertical-align: top\">4</td>\n",
       "        <td style=\"padding-left: 1em; padding-right: 1em; text-align: center; vertical-align: top\">As a major fan of Robert<br>Rodriguez and a fan of ...</td>\n",
       "        <td style=\"padding-left: 1em; padding-right: 1em; text-align: center; vertical-align: top\">{'all': 1,<br>'particularly': 1, ...</td>\n",
       "        <td style=\"padding-left: 1em; padding-right: 1em; text-align: center; vertical-align: top\">{'all':<br>0.8239219583239975, ...</td>\n",
       "        <td style=\"padding-left: 1em; padding-right: 1em; text-align: center; vertical-align: top\">0</td>\n",
       "    </tr>\n",
       "    <tr>\n",
       "        <td style=\"padding-left: 1em; padding-right: 1em; text-align: center; vertical-align: top\">5</td>\n",
       "        <td style=\"padding-left: 1em; padding-right: 1em; text-align: center; vertical-align: top\">When I compare this HBO<br>miniseries to other ...</td>\n",
       "        <td style=\"padding-left: 1em; padding-right: 1em; text-align: center; vertical-align: top\">{'and': 1, 'this': 3,<br>'brothers,': 1, 'on': 1, ...</td>\n",
       "        <td style=\"padding-left: 1em; padding-right: 1em; text-align: center; vertical-align: top\">{'and':<br>0.05758588282085063, ...</td>\n",
       "        <td style=\"padding-left: 1em; padding-right: 1em; text-align: center; vertical-align: top\">0</td>\n",
       "    </tr>\n",
       "    <tr>\n",
       "        <td style=\"padding-left: 1em; padding-right: 1em; text-align: center; vertical-align: top\">4</td>\n",
       "        <td style=\"padding-left: 1em; padding-right: 1em; text-align: center; vertical-align: top\">This is a review of the<br>Disney Blu-Ray releas ...</td>\n",
       "        <td style=\"padding-left: 1em; padding-right: 1em; text-align: center; vertical-align: top\">{'and': 5, 'available':<br>1, 'pictures,': 1, ...</td>\n",
       "        <td style=\"padding-left: 1em; padding-right: 1em; text-align: center; vertical-align: top\">{'and':<br>0.28792941410425316, ...</td>\n",
       "        <td style=\"padding-left: 1em; padding-right: 1em; text-align: center; vertical-align: top\">0</td>\n",
       "    </tr>\n",
       "    <tr>\n",
       "        <td style=\"padding-left: 1em; padding-right: 1em; text-align: center; vertical-align: top\">1</td>\n",
       "        <td style=\"padding-left: 1em; padding-right: 1em; text-align: center; vertical-align: top\">The characters lack<br>depth, background, ...</td>\n",
       "        <td style=\"padding-left: 1em; padding-right: 1em; text-align: center; vertical-align: top\">{'atmosphere': 2, 'just':<br>2, 'lack': 1, 'movies.': ...</td>\n",
       "        <td style=\"padding-left: 1em; padding-right: 1em; text-align: center; vertical-align: top\">{'atmosphere':<br>9.38321110884002, 'ju ...</td>\n",
       "        <td style=\"padding-left: 1em; padding-right: 1em; text-align: center; vertical-align: top\">0</td>\n",
       "    </tr>\n",
       "    <tr>\n",
       "        <td style=\"padding-left: 1em; padding-right: 1em; text-align: center; vertical-align: top\">5</td>\n",
       "        <td style=\"padding-left: 1em; padding-right: 1em; text-align: center; vertical-align: top\">\"Tangled\" is spectacular,<br>but it's not because  ...</td>\n",
       "        <td style=\"padding-left: 1em; padding-right: 1em; text-align: center; vertical-align: top\">{'thomas': 1,<br>'selection': 1, 'gold': ...</td>\n",
       "        <td style=\"padding-left: 1em; padding-right: 1em; text-align: center; vertical-align: top\">{'thomas':<br>4.94613541955489, ...</td>\n",
       "        <td style=\"padding-left: 1em; padding-right: 1em; text-align: center; vertical-align: top\">0</td>\n",
       "    </tr>\n",
       "    <tr>\n",
       "        <td style=\"padding-left: 1em; padding-right: 1em; text-align: center; vertical-align: top\">5</td>\n",
       "        <td style=\"padding-left: 1em; padding-right: 1em; text-align: center; vertical-align: top\">I love watching Jeff<br>Dunham do his thing. ...</td>\n",
       "        <td style=\"padding-left: 1em; padding-right: 1em; text-align: center; vertical-align: top\">{'jeff': 1, 'and': 4,<br>'there': 4, 'love': 1, ...</td>\n",
       "        <td style=\"padding-left: 1em; padding-right: 1em; text-align: center; vertical-align: top\">{'jeff':<br>3.770830510098526, 'a ...</td>\n",
       "        <td style=\"padding-left: 1em; padding-right: 1em; text-align: center; vertical-align: top\">0</td>\n",
       "    </tr>\n",
       "    <tr>\n",
       "        <td style=\"padding-left: 1em; padding-right: 1em; text-align: center; vertical-align: top\">1</td>\n",
       "        <td style=\"padding-left: 1em; padding-right: 1em; text-align: center; vertical-align: top\">Though M. Night<br>Shyamalan's unable to ...</td>\n",
       "        <td style=\"padding-left: 1em; padding-right: 1em; text-align: center; vertical-align: top\">{'all': 1, \"don't\": 1,<br>'being': 1, 'awful': 1, ...</td>\n",
       "        <td style=\"padding-left: 1em; padding-right: 1em; text-align: center; vertical-align: top\">{'all':<br>0.8239219583239975, ...</td>\n",
       "        <td style=\"padding-left: 1em; padding-right: 1em; text-align: center; vertical-align: top\">1</td>\n",
       "    </tr>\n",
       "    <tr>\n",
       "        <td style=\"padding-left: 1em; padding-right: 1em; text-align: center; vertical-align: top\">5</td>\n",
       "        <td style=\"padding-left: 1em; padding-right: 1em; text-align: center; vertical-align: top\">5.0 stars&lt;br /&gt;&lt;br /&gt;An<br>exemplary film and ea ...</td>\n",
       "        <td style=\"padding-left: 1em; padding-right: 1em; text-align: center; vertical-align: top\">{'just': 1, \"don't\": 1,<br>'patina': 1, 'timeles ...</td>\n",
       "        <td style=\"padding-left: 1em; padding-right: 1em; text-align: center; vertical-align: top\">{'just':<br>0.9724312321670323, ...</td>\n",
       "        <td style=\"padding-left: 1em; padding-right: 1em; text-align: center; vertical-align: top\">0</td>\n",
       "    </tr>\n",
       "    <tr>\n",
       "        <td style=\"padding-left: 1em; padding-right: 1em; text-align: center; vertical-align: top\">1</td>\n",
       "        <td style=\"padding-left: 1em; padding-right: 1em; text-align: center; vertical-align: top\">I had very, very high<br>hopes for this film - ...</td>\n",
       "        <td style=\"padding-left: 1em; padding-right: 1em; text-align: center; vertical-align: top\">{'all': 2,<br>'furthermore,': 1, ...</td>\n",
       "        <td style=\"padding-left: 1em; padding-right: 1em; text-align: center; vertical-align: top\">{'all':<br>1.647843916647995, ...</td>\n",
       "        <td style=\"padding-left: 1em; padding-right: 1em; text-align: center; vertical-align: top\">0</td>\n",
       "    </tr>\n",
       "    <tr>\n",
       "        <td style=\"padding-left: 1em; padding-right: 1em; text-align: center; vertical-align: top\">2</td>\n",
       "        <td style=\"padding-left: 1em; padding-right: 1em; text-align: center; vertical-align: top\">No, you don't have to see<br>all my reviews. I try to ...</td>\n",
       "        <td style=\"padding-left: 1em; padding-right: 1em; text-align: center; vertical-align: top\">{'no,': 1, 'all': 1,<br>'reviews.': 1, 'just' ...</td>\n",
       "        <td style=\"padding-left: 1em; padding-right: 1em; text-align: center; vertical-align: top\">{'no,': 4.57008419665302,<br>'all': ...</td>\n",
       "        <td style=\"padding-left: 1em; padding-right: 1em; text-align: center; vertical-align: top\">0</td>\n",
       "    </tr>\n",
       "</table>\n",
       "[19407 rows x 5 columns]<br/>Note: Only the head of the SFrame is printed.<br/>You can use print_rows(num_rows=m, num_columns=n) to print more rows and columns.\n",
       "</div>"
      ],
      "text/plain": [
       "Columns:\n",
       "\treview_score\tint\n",
       "\treview_text\tstr\n",
       "\tword_count\tdict\n",
       "\ttf-idf\tdict\n",
       "\tcluster_id\tint\n",
       "\n",
       "Rows: 19407\n",
       "\n",
       "Data:\n",
       "+--------------+-------------------------------+-------------------------------+\n",
       "| review_score |          review_text          |           word_count          |\n",
       "+--------------+-------------------------------+-------------------------------+\n",
       "|      4       | As a major fan of Robert R... | {'all': 1, 'particularly':... |\n",
       "|      5       | When I compare this HBO mi... | {'and': 1, 'this': 3, 'bro... |\n",
       "|      4       | This is a review of the Di... | {'and': 5, 'available': 1,... |\n",
       "|      1       | The characters lack depth,... | {'atmosphere': 2, 'just': ... |\n",
       "|      5       | \"Tangled\" is spectacular, ... | {'thomas': 1, 'selection':... |\n",
       "|      5       | I love watching Jeff Dunha... | {'jeff': 1, 'and': 4, 'the... |\n",
       "|      1       | Though M. Night Shyamalan'... | {'all': 1, \"don't\": 1, 'be... |\n",
       "|      5       | 5.0 stars<br /><br />An ex... | {'just': 1, \"don't\": 1, 'p... |\n",
       "|      1       | I had very, very high hope... | {'all': 2, 'furthermore,':... |\n",
       "|      2       | No, you don't have to see ... | {'no,': 1, 'all': 1, 'revi... |\n",
       "+--------------+-------------------------------+-------------------------------+\n",
       "+-------------------------------+------------+\n",
       "|             tf-idf            | cluster_id |\n",
       "+-------------------------------+------------+\n",
       "| {'all': 0.8239219583239975... |     0      |\n",
       "| {'and': 0.0575858828208506... |     0      |\n",
       "| {'and': 0.2879294141042531... |     0      |\n",
       "| {'atmosphere': 9.383211108... |     0      |\n",
       "| {'thomas': 4.9461354195548... |     0      |\n",
       "| {'jeff': 3.770830510098526... |     0      |\n",
       "| {'all': 0.8239219583239975... |     1      |\n",
       "| {'just': 0.972431232167032... |     0      |\n",
       "| {'all': 1.647843916647995,... |     0      |\n",
       "| {'no,': 4.57008419665302, ... |     0      |\n",
       "+-------------------------------+------------+\n",
       "[19407 rows x 5 columns]\n",
       "Note: Only the head of the SFrame is printed.\n",
       "You can use print_rows(num_rows=m, num_columns=n) to print more rows and columns."
      ]
     },
     "execution_count": 16,
     "metadata": {},
     "output_type": "execute_result"
    }
   ],
   "source": [
    "review_df"
   ]
  },
  {
   "cell_type": "code",
   "execution_count": 18,
   "metadata": {
    "collapsed": false
   },
   "outputs": [],
   "source": [
    "review_df_new = review_df['review_text', 'review_score', 'cluster_id']"
   ]
  },
  {
   "cell_type": "code",
   "execution_count": 19,
   "metadata": {
    "collapsed": true
   },
   "outputs": [],
   "source": [
    "review_df_new.save('../output/cluster_of_review.csv')"
   ]
  },
  {
   "cell_type": "code",
   "execution_count": 21,
   "metadata": {
    "collapsed": false
   },
   "outputs": [
    {
     "name": "stdout",
     "output_type": "stream",
     "text": [
      "Canvas is accessible via web browser at the URL: http://localhost:51842/index.html\n",
      "Opening Canvas in default web browser.\n"
     ]
    }
   ],
   "source": [
    "review_df['cluster_id'].show()"
   ]
  },
  {
   "cell_type": "code",
   "execution_count": 33,
   "metadata": {
    "collapsed": true
   },
   "outputs": [],
   "source": [
    "cluster_topics = []"
   ]
  },
  {
   "cell_type": "code",
   "execution_count": 34,
   "metadata": {
    "collapsed": false
   },
   "outputs": [
    {
     "data": {
      "text/html": [
       "<pre>Learning a topic model</pre>"
      ],
      "text/plain": [
       "Learning a topic model"
      ]
     },
     "metadata": {},
     "output_type": "display_data"
    },
    {
     "data": {
      "text/html": [
       "<pre>       Number of documents     17250</pre>"
      ],
      "text/plain": [
       "       Number of documents     17250"
      ]
     },
     "metadata": {},
     "output_type": "display_data"
    },
    {
     "data": {
      "text/html": [
       "<pre>           Vocabulary size    154375</pre>"
      ],
      "text/plain": [
       "           Vocabulary size    154375"
      ]
     },
     "metadata": {},
     "output_type": "display_data"
    },
    {
     "data": {
      "text/html": [
       "<pre>   Running collapsed Gibbs sampling</pre>"
      ],
      "text/plain": [
       "   Running collapsed Gibbs sampling"
      ]
     },
     "metadata": {},
     "output_type": "display_data"
    },
    {
     "data": {
      "text/html": [
       "<pre>+-----------+---------------+----------------+-----------------+</pre>"
      ],
      "text/plain": [
       "+-----------+---------------+----------------+-----------------+"
      ]
     },
     "metadata": {},
     "output_type": "display_data"
    },
    {
     "data": {
      "text/html": [
       "<pre>| Iteration | Elapsed Time  | Tokens/Second  | Est. Perplexity |</pre>"
      ],
      "text/plain": [
       "| Iteration | Elapsed Time  | Tokens/Second  | Est. Perplexity |"
      ]
     },
     "metadata": {},
     "output_type": "display_data"
    },
    {
     "data": {
      "text/html": [
       "<pre>+-----------+---------------+----------------+-----------------+</pre>"
      ],
      "text/plain": [
       "+-----------+---------------+----------------+-----------------+"
      ]
     },
     "metadata": {},
     "output_type": "display_data"
    },
    {
     "data": {
      "text/html": [
       "<pre>| 10        | 4.73s         | 5.82265e+06    | 0               |</pre>"
      ],
      "text/plain": [
       "| 10        | 4.73s         | 5.82265e+06    | 0               |"
      ]
     },
     "metadata": {},
     "output_type": "display_data"
    },
    {
     "data": {
      "text/html": [
       "<pre>+-----------+---------------+----------------+-----------------+</pre>"
      ],
      "text/plain": [
       "+-----------+---------------+----------------+-----------------+"
      ]
     },
     "metadata": {},
     "output_type": "display_data"
    },
    {
     "data": {
      "text/html": [
       "<pre>Learning a topic model</pre>"
      ],
      "text/plain": [
       "Learning a topic model"
      ]
     },
     "metadata": {},
     "output_type": "display_data"
    },
    {
     "data": {
      "text/html": [
       "<pre>       Number of documents      2154</pre>"
      ],
      "text/plain": [
       "       Number of documents      2154"
      ]
     },
     "metadata": {},
     "output_type": "display_data"
    },
    {
     "data": {
      "text/html": [
       "<pre>           Vocabulary size     43621</pre>"
      ],
      "text/plain": [
       "           Vocabulary size     43621"
      ]
     },
     "metadata": {},
     "output_type": "display_data"
    },
    {
     "data": {
      "text/html": [
       "<pre>   Running collapsed Gibbs sampling</pre>"
      ],
      "text/plain": [
       "   Running collapsed Gibbs sampling"
      ]
     },
     "metadata": {},
     "output_type": "display_data"
    },
    {
     "data": {
      "text/html": [
       "<pre>+-----------+---------------+----------------+-----------------+</pre>"
      ],
      "text/plain": [
       "+-----------+---------------+----------------+-----------------+"
      ]
     },
     "metadata": {},
     "output_type": "display_data"
    },
    {
     "data": {
      "text/html": [
       "<pre>| Iteration | Elapsed Time  | Tokens/Second  | Est. Perplexity |</pre>"
      ],
      "text/plain": [
       "| Iteration | Elapsed Time  | Tokens/Second  | Est. Perplexity |"
      ]
     },
     "metadata": {},
     "output_type": "display_data"
    },
    {
     "data": {
      "text/html": [
       "<pre>+-----------+---------------+----------------+-----------------+</pre>"
      ],
      "text/plain": [
       "+-----------+---------------+----------------+-----------------+"
      ]
     },
     "metadata": {},
     "output_type": "display_data"
    },
    {
     "data": {
      "text/html": [
       "<pre>| 10        | 795.02ms      | 4.60385e+06    | 0               |</pre>"
      ],
      "text/plain": [
       "| 10        | 795.02ms      | 4.60385e+06    | 0               |"
      ]
     },
     "metadata": {},
     "output_type": "display_data"
    },
    {
     "data": {
      "text/html": [
       "<pre>+-----------+---------------+----------------+-----------------+</pre>"
      ],
      "text/plain": [
       "+-----------+---------------+----------------+-----------------+"
      ]
     },
     "metadata": {},
     "output_type": "display_data"
    },
    {
     "data": {
      "text/html": [
       "<pre>Learning a topic model</pre>"
      ],
      "text/plain": [
       "Learning a topic model"
      ]
     },
     "metadata": {},
     "output_type": "display_data"
    },
    {
     "data": {
      "text/html": [
       "<pre>       Number of documents         1</pre>"
      ],
      "text/plain": [
       "       Number of documents         1"
      ]
     },
     "metadata": {},
     "output_type": "display_data"
    },
    {
     "data": {
      "text/html": [
       "<pre>           Vocabulary size       161</pre>"
      ],
      "text/plain": [
       "           Vocabulary size       161"
      ]
     },
     "metadata": {},
     "output_type": "display_data"
    },
    {
     "data": {
      "text/html": [
       "<pre>   Running collapsed Gibbs sampling</pre>"
      ],
      "text/plain": [
       "   Running collapsed Gibbs sampling"
      ]
     },
     "metadata": {},
     "output_type": "display_data"
    },
    {
     "data": {
      "text/html": [
       "<pre>+-----------+---------------+----------------+-----------------+</pre>"
      ],
      "text/plain": [
       "+-----------+---------------+----------------+-----------------+"
      ]
     },
     "metadata": {},
     "output_type": "display_data"
    },
    {
     "data": {
      "text/html": [
       "<pre>| Iteration | Elapsed Time  | Tokens/Second  | Est. Perplexity |</pre>"
      ],
      "text/plain": [
       "| Iteration | Elapsed Time  | Tokens/Second  | Est. Perplexity |"
      ]
     },
     "metadata": {},
     "output_type": "display_data"
    },
    {
     "data": {
      "text/html": [
       "<pre>+-----------+---------------+----------------+-----------------+</pre>"
      ],
      "text/plain": [
       "+-----------+---------------+----------------+-----------------+"
      ]
     },
     "metadata": {},
     "output_type": "display_data"
    },
    {
     "data": {
      "text/html": [
       "<pre>| 10        | 15.323ms      | 126672         | 0               |</pre>"
      ],
      "text/plain": [
       "| 10        | 15.323ms      | 126672         | 0               |"
      ]
     },
     "metadata": {},
     "output_type": "display_data"
    },
    {
     "data": {
      "text/html": [
       "<pre>+-----------+---------------+----------------+-----------------+</pre>"
      ],
      "text/plain": [
       "+-----------+---------------+----------------+-----------------+"
      ]
     },
     "metadata": {},
     "output_type": "display_data"
    },
    {
     "data": {
      "text/html": [
       "<pre>Learning a topic model</pre>"
      ],
      "text/plain": [
       "Learning a topic model"
      ]
     },
     "metadata": {},
     "output_type": "display_data"
    },
    {
     "data": {
      "text/html": [
       "<pre>       Number of documents         1</pre>"
      ],
      "text/plain": [
       "       Number of documents         1"
      ]
     },
     "metadata": {},
     "output_type": "display_data"
    },
    {
     "data": {
      "text/html": [
       "<pre>           Vocabulary size       100</pre>"
      ],
      "text/plain": [
       "           Vocabulary size       100"
      ]
     },
     "metadata": {},
     "output_type": "display_data"
    },
    {
     "data": {
      "text/html": [
       "<pre>   Running collapsed Gibbs sampling</pre>"
      ],
      "text/plain": [
       "   Running collapsed Gibbs sampling"
      ]
     },
     "metadata": {},
     "output_type": "display_data"
    },
    {
     "data": {
      "text/html": [
       "<pre>+-----------+---------------+----------------+-----------------+</pre>"
      ],
      "text/plain": [
       "+-----------+---------------+----------------+-----------------+"
      ]
     },
     "metadata": {},
     "output_type": "display_data"
    },
    {
     "data": {
      "text/html": [
       "<pre>| Iteration | Elapsed Time  | Tokens/Second  | Est. Perplexity |</pre>"
      ],
      "text/plain": [
       "| Iteration | Elapsed Time  | Tokens/Second  | Est. Perplexity |"
      ]
     },
     "metadata": {},
     "output_type": "display_data"
    },
    {
     "data": {
      "text/html": [
       "<pre>+-----------+---------------+----------------+-----------------+</pre>"
      ],
      "text/plain": [
       "+-----------+---------------+----------------+-----------------+"
      ]
     },
     "metadata": {},
     "output_type": "display_data"
    },
    {
     "data": {
      "text/html": [
       "<pre>| 10        | 13.608ms      | 73637.7        | 0               |</pre>"
      ],
      "text/plain": [
       "| 10        | 13.608ms      | 73637.7        | 0               |"
      ]
     },
     "metadata": {},
     "output_type": "display_data"
    },
    {
     "data": {
      "text/html": [
       "<pre>+-----------+---------------+----------------+-----------------+</pre>"
      ],
      "text/plain": [
       "+-----------+---------------+----------------+-----------------+"
      ]
     },
     "metadata": {},
     "output_type": "display_data"
    },
    {
     "data": {
      "text/html": [
       "<pre>Learning a topic model</pre>"
      ],
      "text/plain": [
       "Learning a topic model"
      ]
     },
     "metadata": {},
     "output_type": "display_data"
    },
    {
     "data": {
      "text/html": [
       "<pre>       Number of documents         1</pre>"
      ],
      "text/plain": [
       "       Number of documents         1"
      ]
     },
     "metadata": {},
     "output_type": "display_data"
    },
    {
     "data": {
      "text/html": [
       "<pre>           Vocabulary size        63</pre>"
      ],
      "text/plain": [
       "           Vocabulary size        63"
      ]
     },
     "metadata": {},
     "output_type": "display_data"
    },
    {
     "data": {
      "text/html": [
       "<pre>   Running collapsed Gibbs sampling</pre>"
      ],
      "text/plain": [
       "   Running collapsed Gibbs sampling"
      ]
     },
     "metadata": {},
     "output_type": "display_data"
    },
    {
     "data": {
      "text/html": [
       "<pre>+-----------+---------------+----------------+-----------------+</pre>"
      ],
      "text/plain": [
       "+-----------+---------------+----------------+-----------------+"
      ]
     },
     "metadata": {},
     "output_type": "display_data"
    },
    {
     "data": {
      "text/html": [
       "<pre>| Iteration | Elapsed Time  | Tokens/Second  | Est. Perplexity |</pre>"
      ],
      "text/plain": [
       "| Iteration | Elapsed Time  | Tokens/Second  | Est. Perplexity |"
      ]
     },
     "metadata": {},
     "output_type": "display_data"
    },
    {
     "data": {
      "text/html": [
       "<pre>+-----------+---------------+----------------+-----------------+</pre>"
      ],
      "text/plain": [
       "+-----------+---------------+----------------+-----------------+"
      ]
     },
     "metadata": {},
     "output_type": "display_data"
    },
    {
     "data": {
      "text/html": [
       "<pre>| 10        | 13.072ms      | 110333         | 0               |</pre>"
      ],
      "text/plain": [
       "| 10        | 13.072ms      | 110333         | 0               |"
      ]
     },
     "metadata": {},
     "output_type": "display_data"
    },
    {
     "data": {
      "text/html": [
       "<pre>+-----------+---------------+----------------+-----------------+</pre>"
      ],
      "text/plain": [
       "+-----------+---------------+----------------+-----------------+"
      ]
     },
     "metadata": {},
     "output_type": "display_data"
    }
   ],
   "source": [
    "for cluster_id in range(0, 5):\n",
    "    cluster_doc = review_df[review_df['cluster_id'] == cluster_id]['tf-idf']\n",
    "    cluster_topic_model = graphlab.topic_model.create(cluster_doc)\n",
    "    cluster_topics.append(cluster_topic_model.get_topics())"
   ]
  },
  {
   "cell_type": "code",
   "execution_count": 50,
   "metadata": {
    "collapsed": false
   },
   "outputs": [],
   "source": [
    "cluster_topics[4].save('../output/cluster_4_topics.csv')"
   ]
  },
  {
   "cell_type": "code",
   "execution_count": 32,
   "metadata": {
    "collapsed": false
   },
   "outputs": [
    {
     "data": {
      "text/plain": [
       "dtype: list\n",
       "Rows: 5\n",
       "[[{'topic': 0, 'score': 0.00292665907406073, 'word': '/><br'}, {'topic': 0, 'score': 0.0020120052968477867, 'word': 'they'}, {'topic': 0, 'score': 0.0019368197621719944, 'word': 'he'}, {'topic': 0, 'score': 0.0019334022378685494, 'word': 'his'}, {'topic': 0, 'score': 0.0018936346823375516, 'word': 'as'}, {'topic': 1, 'score': 0.0025433582501408684, 'word': 'her'}, {'topic': 1, 'score': 0.0024123145537315494, 'word': '/>'}, {'topic': 1, 'score': 0.0019303402804972745, 'word': '/><br'}, {'topic': 1, 'score': 0.001905908404895537, 'word': 'jack'}, {'topic': 1, 'score': 0.0018370549372906406, 'word': 'she'}, {'topic': 2, 'score': 0.002234115568014174, 'word': 'remy'}, {'topic': 2, 'score': 0.0020936051549315213, 'word': '/>'}, {'topic': 2, 'score': 0.0020431655194659538, 'word': 'harry'}, {'topic': 2, 'score': 0.0016216342802179964, 'word': 'potter'}, {'topic': 2, 'score': 0.001499138022658761, 'word': 'evolution'}, {'topic': 3, 'score': 0.002635957067620968, 'word': 'de'}, {'topic': 3, 'score': 0.002117156138262935, 'word': '\"sin'}, {'topic': 3, 'score': 0.002059511590556487, 'word': 'city\"'}, {'topic': 3, 'score': 0.0020082719925952, 'word': 'harry'}, {'topic': 3, 'score': 0.0019442224951435908, 'word': 'la'}, {'topic': 4, 'score': 0.0022778906529955425, 'word': 'jones'}, {'topic': 4, 'score': 0.0021953447884495007, 'word': 'carl'}, {'topic': 4, 'score': 0.0021615760256806656, 'word': 'harry'}, {'topic': 4, 'score': 0.0019552113643155613, 'word': 'adams'}, {'topic': 4, 'score': 0.0016362841603876728, 'word': '/>'}, {'topic': 5, 'score': 0.0033092352545942335, 'word': 'intelligent'}, {'topic': 5, 'score': 0.0029290364595606563, 'word': 'stein'}, {'topic': 5, 'score': 0.0020782946013667117, 'word': 'harry'}, {'topic': 5, 'score': 0.0018298478640180376, 'word': 'design'}, {'topic': 5, 'score': 0.0017771470409440764, 'word': 'theory'}, {'topic': 6, 'score': 0.0020189411703872557, 'word': '/>-'}, {'topic': 6, 'score': 0.0018798514236197184, 'word': '/>'}, {'topic': 6, 'score': 0.0017122304467460192, 'word': 'harry'}, {'topic': 6, 'score': 0.001466148587080376, 'word': 'lightning'}, {'topic': 6, 'score': 0.0014162189343945933, 'word': 'potter'}, {'topic': 7, 'score': 0.002477586542859959, 'word': '/>'}, {'topic': 7, 'score': 0.0023502537973150617, 'word': 'harry'}, {'topic': 7, 'score': 0.0018293471109950268, 'word': 'potter'}, {'topic': 7, 'score': 0.0016904386613096842, 'word': 'indiana'}, {'topic': 7, 'score': 0.0013971874897517383, 'word': 'adams'}, {'topic': 8, 'score': 0.0021507877995207785, 'word': 'harry'}, {'topic': 8, 'score': 0.0016446091184466004, 'word': '/>'}, {'topic': 8, 'score': 0.0012547572150105873, 'word': 'jones'}, {'topic': 8, 'score': 0.001047255395439806, 'word': 'potter'}, {'topic': 8, 'score': 0.0010378234945502252, 'word': '/>-'}, {'topic': 9, 'score': 0.007466107047967328, 'word': 'ofelia'}, {'topic': 9, 'score': 0.00604617898402724, 'word': 'he'}, {'topic': 9, 'score': 0.004699335452789951, 'word': 'harry'}, {'topic': 9, 'score': 0.004375675379391843, 'word': 'his'}, {'topic': 9, 'score': 0.003195882208618094, 'word': '-'}], [{'topic': 0, 'score': 0.0029768912533881193, 'word': '/><br'}, {'topic': 0, 'score': 0.002379237598433802, 'word': 'film'}, {'topic': 0, 'score': 0.0021848201444125176, 'word': 'as'}, {'topic': 0, 'score': 0.002171858980811099, 'word': 'they'}, {'topic': 0, 'score': 0.00215889781720968, 'word': 'he'}, {'topic': 1, 'score': 0.004024795848378601, 'word': '/><br'}, {'topic': 1, 'score': 0.0023659352385528693, 'word': 'v'}, {'topic': 1, 'score': 0.0023306403319608327, 'word': 'he'}, {'topic': 1, 'score': 0.001977691266040464, 'word': 'blacks'}, {'topic': 1, 'score': 0.0018718065462643536, 'word': 'his'}, {'topic': 2, 'score': 0.0028562431287181703, 'word': '/>*'}, {'topic': 2, 'score': 0.002524764235636758, 'word': 'american'}, {'topic': 2, 'score': 0.0016039895326328344, 'word': 'nonviolent'}, {'topic': 2, 'score': 0.0016039895326328344, 'word': 'states'}, {'topic': 2, 'score': 0.0016039895326328344, 'word': 'movements'}, {'topic': 3, 'score': 0.0034447776912433503, 'word': '/>-'}, {'topic': 3, 'score': 0.002303269316806751, 'word': 'stein'}, {'topic': 3, 'score': 0.0017509265549825901, 'word': 'science'}, {'topic': 3, 'score': 0.0015484008756470643, 'word': 'called'}, {'topic': 3, 'score': 0.0015115780248587869, 'word': 'intelligent'}, {'topic': 4, 'score': 0.0018921371920328199, 'word': '--'}, {'topic': 4, 'score': 0.001496568441085192, 'word': 'intelligent'}, {'topic': 4, 'score': 0.001122975731856877, 'word': 'carmen'}, {'topic': 4, 'score': 0.0010350715649796263, 'word': ','}, {'topic': 4, 'score': 0.000991119481541001, 'word': 'warner'}, {'topic': 5, 'score': 0.005399881742382706, 'word': '--'}, {'topic': 5, 'score': 0.002288923546656691, 'word': 'ennis'}, {'topic': 5, 'score': 0.0022271164301853126, 'word': 'mountain\"'}, {'topic': 5, 'score': 0.0014030215439002757, 'word': 'jack'}, {'topic': 5, 'score': 0.001341214427428898, 'word': '(out'}, {'topic': 6, 'score': 0.002054356392628311, 'word': 'caleb'}, {'topic': 6, 'score': 0.0014212391196610314, 'word': 'maggie'}, {'topic': 6, 'score': 0.0012684177089447915, 'word': 'violent'}, {'topic': 6, 'score': 0.0011592595584331916, 'word': 'crawley'}, {'topic': 6, 'score': 0.0011592595584331916, 'word': '&agrave;'}, {'topic': 7, 'score': 0.0021325081609855903, 'word': '\"mamma'}, {'topic': 7, 'score': 0.0014223893990024977, 'word': '/>'}, {'topic': 7, 'score': 0.0012932768968237536, 'word': 'violence'}, {'topic': 7, 'score': 0.0011856831450081336, 'word': 'social'}, {'topic': 7, 'score': 0.0011641643946450095, 'word': 'movie\"'}, {'topic': 8, 'score': 0.0038051443400150342, 'word': '-'}, {'topic': 8, 'score': 0.0017690751828136528, 'word': 'worldview'}, {'topic': 8, 'score': 0.0015193685880625402, 'word': 'music'}, {'topic': 8, 'score': 0.0015001603884663007, 'word': 'rapunzel'}, {'topic': 8, 'score': 0.0015001603884663007, 'word': 'musical'}, {'topic': 9, 'score': 0.003386949723803913, 'word': 'rosie,'}, {'topic': 9, 'score': 0.00330444181335802, 'word': 'tanya,'}, {'topic': 9, 'score': 0.0030569180820203402, 'word': '*'}, {'topic': 9, 'score': 0.0028093943506826606, 'word': \"annie's\"}, {'topic': 9, 'score': 0.002273092932784356, 'word': 'annie'}], [{'topic': 0, 'score': 0.056429232192414386, 'word': 'maturity'}, {'topic': 0, 'score': 0.056429232192414386, 'word': 'small'}, {'topic': 0, 'score': 0.056429232192414386, 'word': 'ron,'}, {'topic': 0, 'score': 0.056429232192414386, 'word': 'graduate'}, {'topic': 0, 'score': 0.056429232192414386, 'word': 'elected'}, {'topic': 1, 'score': 0.1279887482419127, 'word': 'valdemort.<br'}, {'topic': 1, 'score': 0.1139240506329113, 'word': 'moves'}, {'topic': 1, 'score': 0.08579465541490851, 'word': 'pass.'}, {'topic': 1, 'score': 0.07172995780590712, 'word': 'sheer'}, {'topic': 1, 'score': 0.07172995780590712, 'word': 'encounter'}, {'topic': 2, 'score': 0.1489361702127659, 'word': 'abreviated'}, {'topic': 2, 'score': 0.11620294599017998, 'word': 'book,'}, {'topic': 2, 'score': 0.08346972176759407, 'word': 'see'}, {'topic': 2, 'score': 0.06710310965630112, 'word': 'opinion'}, {'topic': 2, 'score': 0.06710310965630112, 'word': 'have'}, {'topic': 3, 'score': 0.10683012259194398, 'word': 'books'}, {'topic': 3, 'score': 0.10683012259194398, 'word': 'parts'}, {'topic': 3, 'score': 0.08931698774080561, 'word': 'screenwriter'}, {'topic': 3, 'score': 0.07180385288966726, 'word': 'captured'}, {'topic': 3, 'score': 0.07180385288966726, 'word': 'author'}, {'topic': 4, 'score': 0.12442396313364058, 'word': 'read'}, {'topic': 4, 'score': 0.07834101382488481, 'word': 'magic.'}, {'topic': 4, 'score': 0.06298003072196622, 'word': 'relatively'}, {'topic': 4, 'score': 0.06298003072196622, 'word': 'outside'}, {'topic': 4, 'score': 0.06298003072196622, 'word': 'result'}, {'topic': 5, 'score': 0.11251980982567356, 'word': 'mastery'}, {'topic': 5, 'score': 0.09667194928684629, 'word': 'harry'}, {'topic': 5, 'score': 0.08082408874801902, 'word': 'essence'}, {'topic': 5, 'score': 0.08082408874801902, 'word': 'threatening'}, {'topic': 5, 'score': 0.06497622820919177, 'word': 'imagination'}, {'topic': 6, 'score': 0.15309446254071662, 'word': '--'}, {'topic': 6, 'score': 0.10966340933767645, 'word': 'harry,'}, {'topic': 6, 'score': 0.0988056460369164, 'word': 'darker'}, {'topic': 6, 'score': 0.07709011943539631, 'word': 'grandfather'}, {'topic': 6, 'score': 0.06623235613463627, 'word': 'certainly'}, {'topic': 7, 'score': 0.08151549942594716, 'word': 'impossibly'}, {'topic': 7, 'score': 0.08151549942594716, 'word': 'grandchildren.'}, {'topic': 7, 'score': 0.0700344431687715, 'word': 'director'}, {'topic': 7, 'score': 0.0700344431687715, 'word': 'situations.'}, {'topic': 7, 'score': 0.058553386911595846, 'word': 'along'}, {'topic': 8, 'score': 0.1014975041597338, 'word': 'details,'}, {'topic': 8, 'score': 0.1014975041597338, 'word': 'hermione,'}, {'topic': 8, 'score': 0.0848585690515807, 'word': 'moving.'}, {'topic': 8, 'score': 0.0848585690515807, 'word': 'masterpiece.'}, {'topic': 8, 'score': 0.06821963394342763, 'word': 'outstanding'}, {'topic': 9, 'score': 0.0062111801242235995, 'word': 'version'}, {'topic': 9, 'score': 0.0062111801242235995, 'word': 'abreviated'}, {'topic': 9, 'score': 0.0062111801242235995, 'word': 'stars'}, {'topic': 9, 'score': 0.0062111801242235995, 'word': '4'}, {'topic': 9, 'score': 0.0062111801242235995, 'word': 'only'}], [{'topic': 0, 'score': 0.14489795918367349, 'word': \"train's\"}, {'topic': 0, 'score': 0.14489795918367349, 'word': 'robots'}, {'topic': 0, 'score': 0.14489795918367349, 'word': 'outrageously'}, {'topic': 0, 'score': 0.0836734693877551, 'word': '/>on'}, {'topic': 0, 'score': 0.0836734693877551, 'word': 'express'}, {'topic': 1, 'score': 0.12816901408450698, 'word': '/>score:4/10'}, {'topic': 1, 'score': 0.12816901408450698, 'word': 'ideas,for'}, {'topic': 1, 'score': 0.12816901408450698, 'word': \"''cat''astrophe\"}, {'topic': 1, 'score': 0.11408450704225347, 'word': 'home<br'}, {'topic': 1, 'score': 0.11408450704225347, 'word': \"dosen't\"}, {'topic': 2, 'score': 0.1716981132075472, 'word': 'films,the'}, {'topic': 2, 'score': 0.1716981132075472, 'word': \"alsberg's\"}, {'topic': 2, 'score': 0.1339622641509434, 'word': 'overblown'}, {'topic': 2, 'score': 0.09622641509433963, 'word': 'beloved'}, {'topic': 2, 'score': 0.07735849056603775, 'word': 'biggest'}, {'topic': 3, 'score': 0.20222222222222225, 'word': 'seuess'}, {'topic': 3, 'score': 0.18000000000000002, 'word': 'half-baked'}, {'topic': 3, 'score': 0.1577777777777778, 'word': 'christmas'}, {'topic': 3, 'score': 0.13555555555555557, 'word': 'creepy,'}, {'topic': 3, 'score': 0.09111111111111111, 'word': 'self'}, {'topic': 4, 'score': 0.16904761904761897, 'word': 'sickeningly'}, {'topic': 4, 'score': 0.1452380952380952, 'word': 'roof'}, {'topic': 4, 'score': 0.12142857142857139, 'word': 'abandoned'}, {'topic': 4, 'score': 0.09761904761904758, 'word': 'movements'}, {'topic': 4, 'score': 0.09761904761904758, 'word': 'polar'}, {'topic': 5, 'score': 0.1568965517241379, 'word': 'instance,there'}, {'topic': 5, 'score': 0.13965517241379308, 'word': 'wreck.<br'}, {'topic': 5, 'score': 0.10517241379310342, 'word': 'humans.'}, {'topic': 5, 'score': 0.07068965517241378, 'word': 'chris'}, {'topic': 5, 'score': 0.07068965517241378, 'word': 'room'}, {'topic': 6, 'score': 0.18200000000000002, 'word': 'bland,and'}, {'topic': 6, 'score': 0.18200000000000002, 'word': 'hobo-zombie'}, {'topic': 6, 'score': 0.12200000000000001, 'word': 'cartoon,'}, {'topic': 6, 'score': 0.12200000000000001, 'word': 'van'}, {'topic': 6, 'score': 0.082, 'word': 'train'}, {'topic': 7, 'score': 0.22195121951219526, 'word': 'indulgent,'}, {'topic': 7, 'score': 0.12439024390243911, 'word': 'comedy.'}, {'topic': 7, 'score': 0.10000000000000006, 'word': 'treat'}, {'topic': 7, 'score': 0.10000000000000006, 'word': 'describe'}, {'topic': 7, 'score': 0.07560975609756103, 'word': 'filled'}, {'topic': 8, 'score': 0.15166666666666662, 'word': 'mechanical,'}, {'topic': 8, 'score': 0.15166666666666662, 'word': 'overflows'}, {'topic': 8, 'score': 0.13499999999999995, 'word': 'exaggeration'}, {'topic': 8, 'score': 0.10166666666666664, 'word': 'slapstick'}, {'topic': 8, 'score': 0.06833333333333332, 'word': 'mysterious'}, {'topic': 9, 'score': 0.009999999999999997, 'word': '/>score:4/10'}, {'topic': 9, 'score': 0.009999999999999997, 'word': '/><br'}, {'topic': 9, 'score': 0.009999999999999997, 'word': 'express'}, {'topic': 9, 'score': 0.009999999999999997, 'word': 'them'}, {'topic': 9, 'score': 0.009999999999999997, 'word': 'polar'}], [{'topic': 0, 'score': 0.2967032967032967, 'word': 'polemic'}, {'topic': 0, 'score': 0.15018315018315018, 'word': 'romance'}, {'topic': 0, 'score': 0.15018315018315018, 'word': 'heath'}, {'topic': 0, 'score': 0.11355311355311357, 'word': 'want'}, {'topic': 0, 'score': 0.0402930402930403, 'word': 'story'}, {'topic': 1, 'score': 0.14152410575427685, 'word': 'unmissable'}, {'topic': 1, 'score': 0.12597200622083984, 'word': 'time-honored'}, {'topic': 1, 'score': 0.11041990668740283, 'word': 'tradition.'}, {'topic': 1, 'score': 0.09486780715396581, 'word': 'scripts'}, {'topic': 1, 'score': 0.06376360808709176, 'word': 'beautifully'}, {'topic': 2, 'score': 0.34600760456273766, 'word': 'leaat'}, {'topic': 2, 'score': 0.1178707224334601, 'word': 'lee'}, {'topic': 2, 'score': 0.1178707224334601, 'word': 'together'}, {'topic': 2, 'score': 0.1178707224334601, 'word': 'music'}, {'topic': 2, 'score': 0.07984790874524716, 'word': 'put'}, {'topic': 3, 'score': 0.2863849765258216, 'word': 'ledger,'}, {'topic': 3, 'score': 0.19248826291079812, 'word': 'score'}, {'topic': 3, 'score': 0.19248826291079812, 'word': 'ang'}, {'topic': 3, 'score': 0.05164319248826292, 'word': 'that'}, {'topic': 3, 'score': 0.004694835680751175, 'word': 'at'}, {'topic': 4, 'score': 0.37448559670781895, 'word': '\"western\".'}, {'topic': 4, 'score': 0.25102880658436216, 'word': 'genius.'}, {'topic': 4, 'score': 0.12757201646090538, 'word': 'hollywood'}, {'topic': 4, 'score': 0.00411522633744856, 'word': 'put'}, {'topic': 4, 'score': 0.00411522633744856, 'word': 'at'}, {'topic': 5, 'score': 0.2863849765258216, 'word': 'classic'}, {'topic': 5, 'score': 0.2863849765258216, 'word': 'produced.'}, {'topic': 5, 'score': 0.1455399061032864, 'word': 'among'}, {'topic': 5, 'score': 0.004694835680751175, 'word': 'put'}, {'topic': 5, 'score': 0.004694835680751175, 'word': 'at'}, {'topic': 6, 'score': 0.29073482428115016, 'word': 'photographed.'}, {'topic': 6, 'score': 0.2587859424920128, 'word': 'mastermind'}, {'topic': 6, 'score': 0.13099041533546327, 'word': \"movie's\"}, {'topic': 6, 'score': 0.06709265175718851, 'word': 'time.'}, {'topic': 6, 'score': 0.035143769968051124, 'word': \"don't\"}, {'topic': 7, 'score': 0.34600760456273766, 'word': 'screen-acting'}, {'topic': 7, 'score': 0.34600760456273766, 'word': 'resonates.'}, {'topic': 7, 'score': 0.07984790874524716, 'word': 'worth'}, {'topic': 7, 'score': 0.003802281368821293, 'word': 'put'}, {'topic': 7, 'score': 0.003802281368821293, 'word': 'at'}, {'topic': 8, 'score': 0.2699619771863118, 'word': '--'}, {'topic': 8, 'score': 0.2699619771863118, 'word': 'significance.'}, {'topic': 8, 'score': 0.23193916349809887, 'word': 'viewings.'}, {'topic': 8, 'score': 0.003802281368821293, 'word': 'put'}, {'topic': 8, 'score': 0.003802281368821293, 'word': 'at'}, {'topic': 9, 'score': 0.015873015873015872, 'word': 'viewings.'}, {'topic': 9, 'score': 0.015873015873015872, 'word': 'unmissable'}, {'topic': 9, 'score': 0.015873015873015872, 'word': 'together'}, {'topic': 9, 'score': 0.015873015873015872, 'word': 'put'}, {'topic': 9, 'score': 0.015873015873015872, 'word': 'at'}]]"
      ]
     },
     "execution_count": 32,
     "metadata": {},
     "output_type": "execute_result"
    }
   ],
   "source": []
  },
  {
   "cell_type": "code",
   "execution_count": null,
   "metadata": {
    "collapsed": true
   },
   "outputs": [],
   "source": []
  }
 ],
 "metadata": {
  "kernelspec": {
   "display_name": "Python 2",
   "language": "python",
   "name": "python2"
  },
  "language_info": {
   "codemirror_mode": {
    "name": "ipython",
    "version": 2
   },
   "file_extension": ".py",
   "mimetype": "text/x-python",
   "name": "python",
   "nbconvert_exporter": "python",
   "pygments_lexer": "ipython2",
   "version": "2.7.11"
  }
 },
 "nbformat": 4,
 "nbformat_minor": 0
}
