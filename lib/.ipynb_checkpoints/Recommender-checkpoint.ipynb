{
 "cells": [
  {
   "cell_type": "code",
   "execution_count": 1,
   "metadata": {
    "collapsed": false
   },
   "outputs": [],
   "source": [
    "import graphlab"
   ]
  },
  {
   "cell_type": "code",
   "execution_count": 2,
   "metadata": {
    "collapsed": false,
    "scrolled": true
   },
   "outputs": [
    {
     "name": "stdout",
     "output_type": "stream",
     "text": [
      "This non-commercial license of GraphLab Create is assigned to voelunteer@gmail.com and will expire on December 23, 2016. For commercial licensing options, visit https://dato.com/buy/.\n"
     ]
    },
    {
     "name": "stderr",
     "output_type": "stream",
     "text": [
      "2016-04-06 15:08:17,295 [INFO] graphlab.cython.cy_server, 176: GraphLab Create v1.8.5 started. Logging: /tmp/graphlab_server_1459969695.log\n"
     ]
    },
    {
     "data": {
      "text/html": [
       "<pre>Finished parsing file /Users/voelunteer/Courses/Applied-Data-Science/project4-team-2/output/moviescsv.csv</pre>"
      ],
      "text/plain": [
       "Finished parsing file /Users/voelunteer/Courses/Applied-Data-Science/project4-team-2/output/moviescsv.csv"
      ]
     },
     "metadata": {},
     "output_type": "display_data"
    },
    {
     "data": {
      "text/html": [
       "<pre>Parsing completed. Parsed 100 lines in 2.81218 secs.</pre>"
      ],
      "text/plain": [
       "Parsing completed. Parsed 100 lines in 2.81218 secs."
      ]
     },
     "metadata": {},
     "output_type": "display_data"
    },
    {
     "name": "stdout",
     "output_type": "stream",
     "text": [
      "------------------------------------------------------\n",
      "Inferred types from first line of file as \n",
      "column_type_hints=[str,str,str,float]\n",
      "If parsing fails due to incorrect types, you can correct\n",
      "the inferred type list above and pass it to read_csv in\n",
      "the column_type_hints argument\n",
      "------------------------------------------------------\n"
     ]
    },
    {
     "data": {
      "text/html": [
       "<pre>Read 1491783 lines. Lines per second: 503027</pre>"
      ],
      "text/plain": [
       "Read 1491783 lines. Lines per second: 503027"
      ]
     },
     "metadata": {},
     "output_type": "display_data"
    },
    {
     "data": {
      "text/html": [
       "<pre>Read 7456950 lines. Lines per second: 819716</pre>"
      ],
      "text/plain": [
       "Read 7456950 lines. Lines per second: 819716"
      ]
     },
     "metadata": {},
     "output_type": "display_data"
    },
    {
     "data": {
      "text/html": [
       "<pre>Finished parsing file /Users/voelunteer/Courses/Applied-Data-Science/project4-team-2/output/moviescsv.csv</pre>"
      ],
      "text/plain": [
       "Finished parsing file /Users/voelunteer/Courses/Applied-Data-Science/project4-team-2/output/moviescsv.csv"
      ]
     },
     "metadata": {},
     "output_type": "display_data"
    },
    {
     "data": {
      "text/html": [
       "<pre>Parsing completed. Parsed 7911696 lines in 9.45118 secs.</pre>"
      ],
      "text/plain": [
       "Parsing completed. Parsed 7911696 lines in 9.45118 secs."
      ]
     },
     "metadata": {},
     "output_type": "display_data"
    }
   ],
   "source": [
    "review_sf = graphlab.SFrame(data = '../output/moviescsv.csv')"
   ]
  },
  {
   "cell_type": "code",
   "execution_count": 3,
   "metadata": {
    "collapsed": false
   },
   "outputs": [],
   "source": [
    "review_sf = review_sf.select_columns(['product_productid', 'review_userid', 'review_score'])"
   ]
  },
  {
   "cell_type": "code",
   "execution_count": 4,
   "metadata": {
    "collapsed": false
   },
   "outputs": [],
   "source": [
    "review_sf = review_sf.dropna()"
   ]
  },
  {
   "cell_type": "code",
   "execution_count": 5,
   "metadata": {
    "collapsed": false
   },
   "outputs": [
    {
     "data": {
      "text/html": [
       "<div style=\"max-height:1000px;max-width:1500px;overflow:auto;\"><table frame=\"box\" rules=\"cols\">\n",
       "    <tr>\n",
       "        <th style=\"padding-left: 1em; padding-right: 1em; text-align: center\">review_userid</th>\n",
       "        <th style=\"padding-left: 1em; padding-right: 1em; text-align: center\">product_productid</th>\n",
       "        <th style=\"padding-left: 1em; padding-right: 1em; text-align: center\">review_score</th>\n",
       "    </tr>\n",
       "    <tr>\n",
       "        <td style=\"padding-left: 1em; padding-right: 1em; text-align: center; vertical-align: top\">A141HP4LYPWMSR</td>\n",
       "        <td style=\"padding-left: 1em; padding-right: 1em; text-align: center; vertical-align: top\">B003AI2VGA</td>\n",
       "        <td style=\"padding-left: 1em; padding-right: 1em; text-align: center; vertical-align: top\">3.0</td>\n",
       "    </tr>\n",
       "    <tr>\n",
       "        <td style=\"padding-left: 1em; padding-right: 1em; text-align: center; vertical-align: top\">A328S9RN3U5M68</td>\n",
       "        <td style=\"padding-left: 1em; padding-right: 1em; text-align: center; vertical-align: top\">B003AI2VGA</td>\n",
       "        <td style=\"padding-left: 1em; padding-right: 1em; text-align: center; vertical-align: top\">3.0</td>\n",
       "    </tr>\n",
       "    <tr>\n",
       "        <td style=\"padding-left: 1em; padding-right: 1em; text-align: center; vertical-align: top\">A1I7QGUDP043DG</td>\n",
       "        <td style=\"padding-left: 1em; padding-right: 1em; text-align: center; vertical-align: top\">B003AI2VGA</td>\n",
       "        <td style=\"padding-left: 1em; padding-right: 1em; text-align: center; vertical-align: top\">5.0</td>\n",
       "    </tr>\n",
       "    <tr>\n",
       "        <td style=\"padding-left: 1em; padding-right: 1em; text-align: center; vertical-align: top\">A1M5405JH9THP9</td>\n",
       "        <td style=\"padding-left: 1em; padding-right: 1em; text-align: center; vertical-align: top\">B003AI2VGA</td>\n",
       "        <td style=\"padding-left: 1em; padding-right: 1em; text-align: center; vertical-align: top\">3.0</td>\n",
       "    </tr>\n",
       "    <tr>\n",
       "        <td style=\"padding-left: 1em; padding-right: 1em; text-align: center; vertical-align: top\">ATXL536YX71TR</td>\n",
       "        <td style=\"padding-left: 1em; padding-right: 1em; text-align: center; vertical-align: top\">B003AI2VGA</td>\n",
       "        <td style=\"padding-left: 1em; padding-right: 1em; text-align: center; vertical-align: top\">3.0</td>\n",
       "    </tr>\n",
       "    <tr>\n",
       "        <td style=\"padding-left: 1em; padding-right: 1em; text-align: center; vertical-align: top\">A3QYDL5CDNYN66</td>\n",
       "        <td style=\"padding-left: 1em; padding-right: 1em; text-align: center; vertical-align: top\">B003AI2VGA</td>\n",
       "        <td style=\"padding-left: 1em; padding-right: 1em; text-align: center; vertical-align: top\">2.0</td>\n",
       "    </tr>\n",
       "    <tr>\n",
       "        <td style=\"padding-left: 1em; padding-right: 1em; text-align: center; vertical-align: top\">AQJVNDW6YZFQS</td>\n",
       "        <td style=\"padding-left: 1em; padding-right: 1em; text-align: center; vertical-align: top\">B003AI2VGA</td>\n",
       "        <td style=\"padding-left: 1em; padding-right: 1em; text-align: center; vertical-align: top\">1.0</td>\n",
       "    </tr>\n",
       "    <tr>\n",
       "        <td style=\"padding-left: 1em; padding-right: 1em; text-align: center; vertical-align: top\">AD4CDZK7D31XP</td>\n",
       "        <td style=\"padding-left: 1em; padding-right: 1em; text-align: center; vertical-align: top\">B00006HAXW</td>\n",
       "        <td style=\"padding-left: 1em; padding-right: 1em; text-align: center; vertical-align: top\">5.0</td>\n",
       "    </tr>\n",
       "    <tr>\n",
       "        <td style=\"padding-left: 1em; padding-right: 1em; text-align: center; vertical-align: top\">A3Q4S5DFVPB70D</td>\n",
       "        <td style=\"padding-left: 1em; padding-right: 1em; text-align: center; vertical-align: top\">B00006HAXW</td>\n",
       "        <td style=\"padding-left: 1em; padding-right: 1em; text-align: center; vertical-align: top\">5.0</td>\n",
       "    </tr>\n",
       "    <tr>\n",
       "        <td style=\"padding-left: 1em; padding-right: 1em; text-align: center; vertical-align: top\">A2P7UB02HAVEPB</td>\n",
       "        <td style=\"padding-left: 1em; padding-right: 1em; text-align: center; vertical-align: top\">B00006HAXW</td>\n",
       "        <td style=\"padding-left: 1em; padding-right: 1em; text-align: center; vertical-align: top\">5.0</td>\n",
       "    </tr>\n",
       "</table>\n",
       "[? rows x 3 columns]<br/>Note: Only the head of the SFrame is printed. This SFrame is lazily evaluated.<br/>You can use len(sf) to force materialization.\n",
       "</div>"
      ],
      "text/plain": [
       "Columns:\n",
       "\treview_userid\tstr\n",
       "\tproduct_productid\tstr\n",
       "\treview_score\tfloat\n",
       "\n",
       "Rows: Unknown\n",
       "\n",
       "Data:\n",
       "+----------------+-------------------+--------------+\n",
       "| review_userid  | product_productid | review_score |\n",
       "+----------------+-------------------+--------------+\n",
       "| A141HP4LYPWMSR |     B003AI2VGA    |     3.0      |\n",
       "| A328S9RN3U5M68 |     B003AI2VGA    |     3.0      |\n",
       "| A1I7QGUDP043DG |     B003AI2VGA    |     5.0      |\n",
       "| A1M5405JH9THP9 |     B003AI2VGA    |     3.0      |\n",
       "| ATXL536YX71TR  |     B003AI2VGA    |     3.0      |\n",
       "| A3QYDL5CDNYN66 |     B003AI2VGA    |     2.0      |\n",
       "| AQJVNDW6YZFQS  |     B003AI2VGA    |     1.0      |\n",
       "| AD4CDZK7D31XP  |     B00006HAXW    |     5.0      |\n",
       "| A3Q4S5DFVPB70D |     B00006HAXW    |     5.0      |\n",
       "| A2P7UB02HAVEPB |     B00006HAXW    |     5.0      |\n",
       "+----------------+-------------------+--------------+\n",
       "[? rows x 3 columns]\n",
       "Note: Only the head of the SFrame is printed. This SFrame is lazily evaluated.\n",
       "You can use len(sf) to force materialization."
      ]
     },
     "execution_count": 5,
     "metadata": {},
     "output_type": "execute_result"
    }
   ],
   "source": [
    "review_sf.swap_columns('product_productid', 'review_userid')"
   ]
  },
  {
   "cell_type": "code",
   "execution_count": 9,
   "metadata": {
    "collapsed": false
   },
   "outputs": [
    {
     "data": {
      "text/html": [
       "<pre>Recsys training: model = ranking_factorization_recommender</pre>"
      ],
      "text/plain": [
       "Recsys training: model = ranking_factorization_recommender"
      ]
     },
     "metadata": {},
     "output_type": "display_data"
    },
    {
     "data": {
      "text/html": [
       "<pre>Preparing data set.</pre>"
      ],
      "text/plain": [
       "Preparing data set."
      ]
     },
     "metadata": {},
     "output_type": "display_data"
    },
    {
     "data": {
      "text/html": [
       "<pre>    Data has 7911684 observations with 889175 users and 253060 items.</pre>"
      ],
      "text/plain": [
       "    Data has 7911684 observations with 889175 users and 253060 items."
      ]
     },
     "metadata": {},
     "output_type": "display_data"
    },
    {
     "data": {
      "text/html": [
       "<pre>    Data prepared in: 15.337s</pre>"
      ],
      "text/plain": [
       "    Data prepared in: 15.337s"
      ]
     },
     "metadata": {},
     "output_type": "display_data"
    },
    {
     "data": {
      "text/html": [
       "<pre>Training ranking_factorization_recommender for recommendations.</pre>"
      ],
      "text/plain": [
       "Training ranking_factorization_recommender for recommendations."
      ]
     },
     "metadata": {},
     "output_type": "display_data"
    },
    {
     "data": {
      "text/html": [
       "<pre>+--------------------------------+--------------------------------------------------+----------+</pre>"
      ],
      "text/plain": [
       "+--------------------------------+--------------------------------------------------+----------+"
      ]
     },
     "metadata": {},
     "output_type": "display_data"
    },
    {
     "data": {
      "text/html": [
       "<pre>| Parameter                      | Description                                      | Value    |</pre>"
      ],
      "text/plain": [
       "| Parameter                      | Description                                      | Value    |"
      ]
     },
     "metadata": {},
     "output_type": "display_data"
    },
    {
     "data": {
      "text/html": [
       "<pre>+--------------------------------+--------------------------------------------------+----------+</pre>"
      ],
      "text/plain": [
       "+--------------------------------+--------------------------------------------------+----------+"
      ]
     },
     "metadata": {},
     "output_type": "display_data"
    },
    {
     "data": {
      "text/html": [
       "<pre>| num_factors                    | Factor Dimension                                 | 32       |</pre>"
      ],
      "text/plain": [
       "| num_factors                    | Factor Dimension                                 | 32       |"
      ]
     },
     "metadata": {},
     "output_type": "display_data"
    },
    {
     "data": {
      "text/html": [
       "<pre>| regularization                 | L2 Regularization on Factors                     | 1e-09    |</pre>"
      ],
      "text/plain": [
       "| regularization                 | L2 Regularization on Factors                     | 1e-09    |"
      ]
     },
     "metadata": {},
     "output_type": "display_data"
    },
    {
     "data": {
      "text/html": [
       "<pre>| solver                         | Solver used for training                         | sgd      |</pre>"
      ],
      "text/plain": [
       "| solver                         | Solver used for training                         | sgd      |"
      ]
     },
     "metadata": {},
     "output_type": "display_data"
    },
    {
     "data": {
      "text/html": [
       "<pre>| linear_regularization          | L2 Regularization on Linear Coefficients         | 1e-09    |</pre>"
      ],
      "text/plain": [
       "| linear_regularization          | L2 Regularization on Linear Coefficients         | 1e-09    |"
      ]
     },
     "metadata": {},
     "output_type": "display_data"
    },
    {
     "data": {
      "text/html": [
       "<pre>| ranking_regularization         | Rank-based Regularization Weight                 | 0.25     |</pre>"
      ],
      "text/plain": [
       "| ranking_regularization         | Rank-based Regularization Weight                 | 0.25     |"
      ]
     },
     "metadata": {},
     "output_type": "display_data"
    },
    {
     "data": {
      "text/html": [
       "<pre>| max_iterations                 | Maximum Number of Iterations                     | 25       |</pre>"
      ],
      "text/plain": [
       "| max_iterations                 | Maximum Number of Iterations                     | 25       |"
      ]
     },
     "metadata": {},
     "output_type": "display_data"
    },
    {
     "data": {
      "text/html": [
       "<pre>+--------------------------------+--------------------------------------------------+----------+</pre>"
      ],
      "text/plain": [
       "+--------------------------------+--------------------------------------------------+----------+"
      ]
     },
     "metadata": {},
     "output_type": "display_data"
    },
    {
     "data": {
      "text/html": [
       "<pre>  Optimizing model using SGD; tuning step size.</pre>"
      ],
      "text/plain": [
       "  Optimizing model using SGD; tuning step size."
      ]
     },
     "metadata": {},
     "output_type": "display_data"
    },
    {
     "data": {
      "text/html": [
       "<pre>  Using 988960 / 7911684 points for tuning the step size.</pre>"
      ],
      "text/plain": [
       "  Using 988960 / 7911684 points for tuning the step size."
      ]
     },
     "metadata": {},
     "output_type": "display_data"
    },
    {
     "data": {
      "text/html": [
       "<pre>+---------+-------------------+------------------------------------------+</pre>"
      ],
      "text/plain": [
       "+---------+-------------------+------------------------------------------+"
      ]
     },
     "metadata": {},
     "output_type": "display_data"
    },
    {
     "data": {
      "text/html": [
       "<pre>| Attempt | Initial Step Size | Estimated Objective Value                |</pre>"
      ],
      "text/plain": [
       "| Attempt | Initial Step Size | Estimated Objective Value                |"
      ]
     },
     "metadata": {},
     "output_type": "display_data"
    },
    {
     "data": {
      "text/html": [
       "<pre>+---------+-------------------+------------------------------------------+</pre>"
      ],
      "text/plain": [
       "+---------+-------------------+------------------------------------------+"
      ]
     },
     "metadata": {},
     "output_type": "display_data"
    },
    {
     "data": {
      "text/html": [
       "<pre>| 0       | 25                | Not Viable                               |</pre>"
      ],
      "text/plain": [
       "| 0       | 25                | Not Viable                               |"
      ]
     },
     "metadata": {},
     "output_type": "display_data"
    },
    {
     "data": {
      "text/html": [
       "<pre>| 1       | 6.25              | Not Viable                               |</pre>"
      ],
      "text/plain": [
       "| 1       | 6.25              | Not Viable                               |"
      ]
     },
     "metadata": {},
     "output_type": "display_data"
    },
    {
     "data": {
      "text/html": [
       "<pre>| 2       | 1.5625            | Not Viable                               |</pre>"
      ],
      "text/plain": [
       "| 2       | 1.5625            | Not Viable                               |"
      ]
     },
     "metadata": {},
     "output_type": "display_data"
    },
    {
     "data": {
      "text/html": [
       "<pre>| 3       | 0.390625          | Not Viable                               |</pre>"
      ],
      "text/plain": [
       "| 3       | 0.390625          | Not Viable                               |"
      ]
     },
     "metadata": {},
     "output_type": "display_data"
    },
    {
     "data": {
      "text/html": [
       "<pre>| 4       | 0.0976562         | 1.77024                                  |</pre>"
      ],
      "text/plain": [
       "| 4       | 0.0976562         | 1.77024                                  |"
      ]
     },
     "metadata": {},
     "output_type": "display_data"
    },
    {
     "data": {
      "text/html": [
       "<pre>| 5       | 0.0488281         | 1.99568                                  |</pre>"
      ],
      "text/plain": [
       "| 5       | 0.0488281         | 1.99568                                  |"
      ]
     },
     "metadata": {},
     "output_type": "display_data"
    },
    {
     "data": {
      "text/html": [
       "<pre>| 6       | 0.0244141         | 2.22131                                  |</pre>"
      ],
      "text/plain": [
       "| 6       | 0.0244141         | 2.22131                                  |"
      ]
     },
     "metadata": {},
     "output_type": "display_data"
    },
    {
     "data": {
      "text/html": [
       "<pre>| 7       | 0.012207          | 2.4319                                   |</pre>"
      ],
      "text/plain": [
       "| 7       | 0.012207          | 2.4319                                   |"
      ]
     },
     "metadata": {},
     "output_type": "display_data"
    },
    {
     "data": {
      "text/html": [
       "<pre>+---------+-------------------+------------------------------------------+</pre>"
      ],
      "text/plain": [
       "+---------+-------------------+------------------------------------------+"
      ]
     },
     "metadata": {},
     "output_type": "display_data"
    },
    {
     "data": {
      "text/html": [
       "<pre>| Final   | 0.0976562         | 1.77024                                  |</pre>"
      ],
      "text/plain": [
       "| Final   | 0.0976562         | 1.77024                                  |"
      ]
     },
     "metadata": {},
     "output_type": "display_data"
    },
    {
     "data": {
      "text/html": [
       "<pre>+---------+-------------------+------------------------------------------+</pre>"
      ],
      "text/plain": [
       "+---------+-------------------+------------------------------------------+"
      ]
     },
     "metadata": {},
     "output_type": "display_data"
    },
    {
     "data": {
      "text/html": [
       "<pre>Starting Optimization.</pre>"
      ],
      "text/plain": [
       "Starting Optimization."
      ]
     },
     "metadata": {},
     "output_type": "display_data"
    },
    {
     "data": {
      "text/html": [
       "<pre>+---------+--------------+-------------------+-----------------------+-------------+</pre>"
      ],
      "text/plain": [
       "+---------+--------------+-------------------+-----------------------+-------------+"
      ]
     },
     "metadata": {},
     "output_type": "display_data"
    },
    {
     "data": {
      "text/html": [
       "<pre>| Iter.   | Elapsed Time | Approx. Objective | Approx. Training RMSE | Step Size   |</pre>"
      ],
      "text/plain": [
       "| Iter.   | Elapsed Time | Approx. Objective | Approx. Training RMSE | Step Size   |"
      ]
     },
     "metadata": {},
     "output_type": "display_data"
    },
    {
     "data": {
      "text/html": [
       "<pre>+---------+--------------+-------------------+-----------------------+-------------+</pre>"
      ],
      "text/plain": [
       "+---------+--------------+-------------------+-----------------------+-------------+"
      ]
     },
     "metadata": {},
     "output_type": "display_data"
    },
    {
     "data": {
      "text/html": [
       "<pre>| Initial | 375us        | 3.11721           | 1.26091               |             |</pre>"
      ],
      "text/plain": [
       "| Initial | 375us        | 3.11721           | 1.26091               |             |"
      ]
     },
     "metadata": {},
     "output_type": "display_data"
    },
    {
     "data": {
      "text/html": [
       "<pre>+---------+--------------+-------------------+-----------------------+-------------+</pre>"
      ],
      "text/plain": [
       "+---------+--------------+-------------------+-----------------------+-------------+"
      ]
     },
     "metadata": {},
     "output_type": "display_data"
    },
    {
     "data": {
      "text/html": [
       "<pre>| 1       | 11.80s       | DIVERGED          | DIVERGED              | 0.0976562   |</pre>"
      ],
      "text/plain": [
       "| 1       | 11.80s       | DIVERGED          | DIVERGED              | 0.0976562   |"
      ]
     },
     "metadata": {},
     "output_type": "display_data"
    },
    {
     "data": {
      "text/html": [
       "<pre>| RESET   | 16.63s       | 3.11721           | 1.26091               |             |</pre>"
      ],
      "text/plain": [
       "| RESET   | 16.63s       | 3.11721           | 1.26091               |             |"
      ]
     },
     "metadata": {},
     "output_type": "display_data"
    },
    {
     "data": {
      "text/html": [
       "<pre>| 1       | 24.62s       | 2.06313           | 1.01318               | 0.0488281   |</pre>"
      ],
      "text/plain": [
       "| 1       | 24.62s       | 2.06313           | 1.01318               | 0.0488281   |"
      ]
     },
     "metadata": {},
     "output_type": "display_data"
    },
    {
     "data": {
      "text/html": [
       "<pre>| 2       | 32.58s       | 1.34899           | 0.797917              | 0.0290334   |</pre>"
      ],
      "text/plain": [
       "| 2       | 32.58s       | 1.34899           | 0.797917              | 0.0290334   |"
      ]
     },
     "metadata": {},
     "output_type": "display_data"
    },
    {
     "data": {
      "text/html": [
       "<pre>| 3       | 40.52s       | 1.04475           | 0.666051              | 0.0214205   |</pre>"
      ],
      "text/plain": [
       "| 3       | 40.52s       | 1.04475           | 0.666051              | 0.0214205   |"
      ]
     },
     "metadata": {},
     "output_type": "display_data"
    },
    {
     "data": {
      "text/html": [
       "<pre>| 4       | 48.33s       | 0.880916          | 0.594311              | 0.0172633   |</pre>"
      ],
      "text/plain": [
       "| 4       | 48.33s       | 0.880916          | 0.594311              | 0.0172633   |"
      ]
     },
     "metadata": {},
     "output_type": "display_data"
    },
    {
     "data": {
      "text/html": [
       "<pre>| 5       | 56.16s       | 0.776138          | 0.545745              | 0.014603    |</pre>"
      ],
      "text/plain": [
       "| 5       | 56.16s       | 0.776138          | 0.545745              | 0.014603    |"
      ]
     },
     "metadata": {},
     "output_type": "display_data"
    },
    {
     "data": {
      "text/html": [
       "<pre>| 6       | 1m 3s        | 0.703196          | 0.509965              | 0.0127367   |</pre>"
      ],
      "text/plain": [
       "| 6       | 1m 3s        | 0.703196          | 0.509965              | 0.0127367   |"
      ]
     },
     "metadata": {},
     "output_type": "display_data"
    },
    {
     "data": {
      "text/html": [
       "<pre>| 7       | 1m 11s       | 0.646638          | 0.482209              | 0.0113461   |</pre>"
      ],
      "text/plain": [
       "| 7       | 1m 11s       | 0.646638          | 0.482209              | 0.0113461   |"
      ]
     },
     "metadata": {},
     "output_type": "display_data"
    },
    {
     "data": {
      "text/html": [
       "<pre>| 8       | 1m 19s       | 0.604176          | 0.460514              | 0.0102648   |</pre>"
      ],
      "text/plain": [
       "| 8       | 1m 19s       | 0.604176          | 0.460514              | 0.0102648   |"
      ]
     },
     "metadata": {},
     "output_type": "display_data"
    },
    {
     "data": {
      "text/html": [
       "<pre>| 9       | 1m 28s       | 0.569667          | 0.441365              | 0.00939698  |</pre>"
      ],
      "text/plain": [
       "| 9       | 1m 28s       | 0.569667          | 0.441365              | 0.00939698  |"
      ]
     },
     "metadata": {},
     "output_type": "display_data"
    },
    {
     "data": {
      "text/html": [
       "<pre>| 10      | 1m 36s       | 0.540709          | 0.42677               | 0.008683    |</pre>"
      ],
      "text/plain": [
       "| 10      | 1m 36s       | 0.540709          | 0.42677               | 0.008683    |"
      ]
     },
     "metadata": {},
     "output_type": "display_data"
    },
    {
     "data": {
      "text/html": [
       "<pre>| 11      | 1m 45s       | 0.516219          | 0.413265              | 0.00808399  |</pre>"
      ],
      "text/plain": [
       "| 11      | 1m 45s       | 0.516219          | 0.413265              | 0.00808399  |"
      ]
     },
     "metadata": {},
     "output_type": "display_data"
    },
    {
     "data": {
      "text/html": [
       "<pre>| 12      | 1m 54s       | 0.49514           | 0.401047              | 0.00757328  |</pre>"
      ],
      "text/plain": [
       "| 12      | 1m 54s       | 0.49514           | 0.401047              | 0.00757328  |"
      ]
     },
     "metadata": {},
     "output_type": "display_data"
    },
    {
     "data": {
      "text/html": [
       "<pre>| 13      | 2m 3s        | 0.477228          | 0.392023              | 0.00713202  |</pre>"
      ],
      "text/plain": [
       "| 13      | 2m 3s        | 0.477228          | 0.392023              | 0.00713202  |"
      ]
     },
     "metadata": {},
     "output_type": "display_data"
    },
    {
     "data": {
      "text/html": [
       "<pre>| 14      | 2m 12s       | 0.461224          | 0.382048              | 0.00674643  |</pre>"
      ],
      "text/plain": [
       "| 14      | 2m 12s       | 0.461224          | 0.382048              | 0.00674643  |"
      ]
     },
     "metadata": {},
     "output_type": "display_data"
    },
    {
     "data": {
      "text/html": [
       "<pre>| 15      | 2m 21s       | 0.447112          | 0.375266              | 0.00640622  |</pre>"
      ],
      "text/plain": [
       "| 15      | 2m 21s       | 0.447112          | 0.375266              | 0.00640622  |"
      ]
     },
     "metadata": {},
     "output_type": "display_data"
    },
    {
     "data": {
      "text/html": [
       "<pre>| 16      | 2m 30s       | 0.434621          | 0.368523              | 0.00610352  |</pre>"
      ],
      "text/plain": [
       "| 16      | 2m 30s       | 0.434621          | 0.368523              | 0.00610352  |"
      ]
     },
     "metadata": {},
     "output_type": "display_data"
    },
    {
     "data": {
      "text/html": [
       "<pre>| 17      | 2m 39s       | 0.422967          | 0.360333              | 0.00583221  |</pre>"
      ],
      "text/plain": [
       "| 17      | 2m 39s       | 0.422967          | 0.360333              | 0.00583221  |"
      ]
     },
     "metadata": {},
     "output_type": "display_data"
    },
    {
     "data": {
      "text/html": [
       "<pre>| 18      | 2m 47s       | 0.412681          | 0.355175              | 0.00558748  |</pre>"
      ],
      "text/plain": [
       "| 18      | 2m 47s       | 0.412681          | 0.355175              | 0.00558748  |"
      ]
     },
     "metadata": {},
     "output_type": "display_data"
    },
    {
     "data": {
      "text/html": [
       "<pre>| 19      | 2m 56s       | 0.403039          | 0.350302              | 0.00536543  |</pre>"
      ],
      "text/plain": [
       "| 19      | 2m 56s       | 0.403039          | 0.350302              | 0.00536543  |"
      ]
     },
     "metadata": {},
     "output_type": "display_data"
    },
    {
     "data": {
      "text/html": [
       "<pre>| 20      | 3m 5s        | 0.39467           | 0.344567              | 0.00516295  |</pre>"
      ],
      "text/plain": [
       "| 20      | 3m 5s        | 0.39467           | 0.344567              | 0.00516295  |"
      ]
     },
     "metadata": {},
     "output_type": "display_data"
    },
    {
     "data": {
      "text/html": [
       "<pre>| 21      | 3m 13s       | 0.386565          | 0.340348              | 0.00497743  |</pre>"
      ],
      "text/plain": [
       "| 21      | 3m 13s       | 0.386565          | 0.340348              | 0.00497743  |"
      ]
     },
     "metadata": {},
     "output_type": "display_data"
    },
    {
     "data": {
      "text/html": [
       "<pre>| 22      | 3m 21s       | 0.37928           | 0.33608               | 0.00480677  |</pre>"
      ],
      "text/plain": [
       "| 22      | 3m 21s       | 0.37928           | 0.33608               | 0.00480677  |"
      ]
     },
     "metadata": {},
     "output_type": "display_data"
    },
    {
     "data": {
      "text/html": [
       "<pre>| 23      | 3m 29s       | 0.37237           | 0.33116               | 0.00464916  |</pre>"
      ],
      "text/plain": [
       "| 23      | 3m 29s       | 0.37237           | 0.33116               | 0.00464916  |"
      ]
     },
     "metadata": {},
     "output_type": "display_data"
    },
    {
     "data": {
      "text/html": [
       "<pre>| 24      | 3m 37s       | 0.365799          | 0.32779               | 0.0045031   |</pre>"
      ],
      "text/plain": [
       "| 24      | 3m 37s       | 0.365799          | 0.32779               | 0.0045031   |"
      ]
     },
     "metadata": {},
     "output_type": "display_data"
    },
    {
     "data": {
      "text/html": [
       "<pre>| 25      | 3m 45s       | 0.359739          | 0.324197              | 0.00436732  |</pre>"
      ],
      "text/plain": [
       "| 25      | 3m 45s       | 0.359739          | 0.324197              | 0.00436732  |"
      ]
     },
     "metadata": {},
     "output_type": "display_data"
    },
    {
     "data": {
      "text/html": [
       "<pre>+---------+--------------+-------------------+-----------------------+-------------+</pre>"
      ],
      "text/plain": [
       "+---------+--------------+-------------------+-----------------------+-------------+"
      ]
     },
     "metadata": {},
     "output_type": "display_data"
    },
    {
     "data": {
      "text/html": [
       "<pre>Optimization Complete: Maximum number of passes through the data reached.</pre>"
      ],
      "text/plain": [
       "Optimization Complete: Maximum number of passes through the data reached."
      ]
     },
     "metadata": {},
     "output_type": "display_data"
    },
    {
     "data": {
      "text/html": [
       "<pre>Computing final objective value and training RMSE.</pre>"
      ],
      "text/plain": [
       "Computing final objective value and training RMSE."
      ]
     },
     "metadata": {},
     "output_type": "display_data"
    },
    {
     "data": {
      "text/html": [
       "<pre>       Final objective value: 0.352451</pre>"
      ],
      "text/plain": [
       "       Final objective value: 0.352451"
      ]
     },
     "metadata": {},
     "output_type": "display_data"
    },
    {
     "data": {
      "text/html": [
       "<pre>       Final training RMSE: 0.314878</pre>"
      ],
      "text/plain": [
       "       Final training RMSE: 0.314878"
      ]
     },
     "metadata": {},
     "output_type": "display_data"
    }
   ],
   "source": [
    "model = graphlab.recommender.create(review_sf,\n",
    "                                    user_id = 'review_userid',\n",
    "                                    item_id = 'product_productid',\n",
    "                                    target = 'review_score')"
   ]
  },
  {
   "cell_type": "code",
   "execution_count": 10,
   "metadata": {
    "collapsed": false
   },
   "outputs": [
    {
     "data": {
      "text/html": [
       "<pre>Recsys training: model = popularity</pre>"
      ],
      "text/plain": [
       "Recsys training: model = popularity"
      ]
     },
     "metadata": {},
     "output_type": "display_data"
    },
    {
     "data": {
      "text/html": [
       "<pre>Warning: Column 'review_score' ignored.</pre>"
      ],
      "text/plain": [
       "Warning: Column 'review_score' ignored."
      ]
     },
     "metadata": {},
     "output_type": "display_data"
    },
    {
     "data": {
      "text/html": [
       "<pre>    To use this column as the target, set target = \"review_score\" and use a method that allows the use of a target.</pre>"
      ],
      "text/plain": [
       "    To use this column as the target, set target = \"review_score\" and use a method that allows the use of a target."
      ]
     },
     "metadata": {},
     "output_type": "display_data"
    },
    {
     "data": {
      "text/html": [
       "<pre>Preparing data set.</pre>"
      ],
      "text/plain": [
       "Preparing data set."
      ]
     },
     "metadata": {},
     "output_type": "display_data"
    },
    {
     "data": {
      "text/html": [
       "<pre>    Data has 7911684 observations with 889175 users and 253060 items.</pre>"
      ],
      "text/plain": [
       "    Data has 7911684 observations with 889175 users and 253060 items."
      ]
     },
     "metadata": {},
     "output_type": "display_data"
    },
    {
     "data": {
      "text/html": [
       "<pre>    Data prepared in: 12.7797s</pre>"
      ],
      "text/plain": [
       "    Data prepared in: 12.7797s"
      ]
     },
     "metadata": {},
     "output_type": "display_data"
    },
    {
     "data": {
      "text/html": [
       "<pre>7911684 observations to process; with 253060 unique items.</pre>"
      ],
      "text/plain": [
       "7911684 observations to process; with 253060 unique items."
      ]
     },
     "metadata": {},
     "output_type": "display_data"
    }
   ],
   "source": [
    "pop_model = graphlab.popularity_recommender.create(review_sf,\n",
    "                                                   user_id = 'review_userid',\n",
    "                                                   item_id = 'product_productid')"
   ]
  },
  {
   "cell_type": "code",
   "execution_count": 16,
   "metadata": {
    "collapsed": false
   },
   "outputs": [],
   "source": [
    "result = pop_model.recommend(users = ['A141HP4LYPWMSR'],k = 250)"
   ]
  },
  {
   "cell_type": "code",
   "execution_count": 17,
   "metadata": {
    "collapsed": false
   },
   "outputs": [],
   "source": [
    "result['product_productid'].save('popular_movies.csv')"
   ]
  },
  {
   "cell_type": "code",
   "execution_count": null,
   "metadata": {
    "collapsed": true
   },
   "outputs": [],
   "source": [
    "total_review = graphlab.SFrame('../output/moviescsv2.csv')\n",
    "filtered_review = total_review.filter_by(result['product_productid'], 'product_productid')"
   ]
  },
  {
   "cell_type": "code",
   "execution_count": 7,
   "metadata": {
    "collapsed": false
   },
   "outputs": [
    {
     "data": {
      "text/html": [
       "<pre>Recsys training: model = item_similarity</pre>"
      ],
      "text/plain": [
       "Recsys training: model = item_similarity"
      ]
     },
     "metadata": {},
     "output_type": "display_data"
    },
    {
     "data": {
      "text/html": [
       "<pre>Warning: Column 'review_score' ignored.</pre>"
      ],
      "text/plain": [
       "Warning: Column 'review_score' ignored."
      ]
     },
     "metadata": {},
     "output_type": "display_data"
    },
    {
     "data": {
      "text/html": [
       "<pre>    To use this column as the target, set target = \"review_score\" and use a method that allows the use of a target.</pre>"
      ],
      "text/plain": [
       "    To use this column as the target, set target = \"review_score\" and use a method that allows the use of a target."
      ]
     },
     "metadata": {},
     "output_type": "display_data"
    },
    {
     "data": {
      "text/html": [
       "<pre>Preparing data set.</pre>"
      ],
      "text/plain": [
       "Preparing data set."
      ]
     },
     "metadata": {},
     "output_type": "display_data"
    },
    {
     "data": {
      "text/html": [
       "<pre>    Data has 7911684 observations with 889175 users and 253060 items.</pre>"
      ],
      "text/plain": [
       "    Data has 7911684 observations with 889175 users and 253060 items."
      ]
     },
     "metadata": {},
     "output_type": "display_data"
    },
    {
     "data": {
      "text/html": [
       "<pre>    Data prepared in: 11.4033s</pre>"
      ],
      "text/plain": [
       "    Data prepared in: 11.4033s"
      ]
     },
     "metadata": {},
     "output_type": "display_data"
    },
    {
     "data": {
      "text/html": [
       "<pre>Processing 7911684 observations:</pre>"
      ],
      "text/plain": [
       "Processing 7911684 observations:"
      ]
     },
     "metadata": {},
     "output_type": "display_data"
    },
    {
     "data": {
      "text/html": [
       "<pre>   Observations   Seconds</pre>"
      ],
      "text/plain": [
       "   Observations   Seconds"
      ]
     },
     "metadata": {},
     "output_type": "display_data"
    },
    {
     "data": {
      "text/html": [
       "<pre>        1000000   69.4038</pre>"
      ],
      "text/plain": [
       "        1000000   69.4038"
      ]
     },
     "metadata": {},
     "output_type": "display_data"
    },
    {
     "data": {
      "text/html": [
       "<pre>        2000000   150.325</pre>"
      ],
      "text/plain": [
       "        2000000   150.325"
      ]
     },
     "metadata": {},
     "output_type": "display_data"
    },
    {
     "data": {
      "text/html": [
       "<pre>        3000000   241.326</pre>"
      ],
      "text/plain": [
       "        3000000   241.326"
      ]
     },
     "metadata": {},
     "output_type": "display_data"
    },
    {
     "data": {
      "text/html": [
       "<pre>        4000000   340.857</pre>"
      ],
      "text/plain": [
       "        4000000   340.857"
      ]
     },
     "metadata": {},
     "output_type": "display_data"
    },
    {
     "data": {
      "text/html": [
       "<pre>        5000000   423.021</pre>"
      ],
      "text/plain": [
       "        5000000   423.021"
      ]
     },
     "metadata": {},
     "output_type": "display_data"
    },
    {
     "data": {
      "text/html": [
       "<pre>        6000000   512.449</pre>"
      ],
      "text/plain": [
       "        6000000   512.449"
      ]
     },
     "metadata": {},
     "output_type": "display_data"
    },
    {
     "data": {
      "text/html": [
       "<pre>        7000000   601.179</pre>"
      ],
      "text/plain": [
       "        7000000   601.179"
      ]
     },
     "metadata": {},
     "output_type": "display_data"
    },
    {
     "data": {
      "text/html": [
       "<pre>        7911684   682.698</pre>"
      ],
      "text/plain": [
       "        7911684   682.698"
      ]
     },
     "metadata": {},
     "output_type": "display_data"
    },
    {
     "data": {
      "text/html": [
       "<pre>Computing similar items for 253060 items using 8 partitions:</pre>"
      ],
      "text/plain": [
       "Computing similar items for 253060 items using 8 partitions:"
      ]
     },
     "metadata": {},
     "output_type": "display_data"
    },
    {
     "data": {
      "text/html": [
       "<pre> Partition     Items   Seconds</pre>"
      ],
      "text/plain": [
       " Partition     Items   Seconds"
      ]
     },
     "metadata": {},
     "output_type": "display_data"
    },
    {
     "data": {
      "text/html": [
       "<pre>         0     31644   685.554</pre>"
      ],
      "text/plain": [
       "         0     31644   685.554"
      ]
     },
     "metadata": {},
     "output_type": "display_data"
    },
    {
     "data": {
      "text/html": [
       "<pre>         1     63284   688.899</pre>"
      ],
      "text/plain": [
       "         1     63284   688.899"
      ]
     },
     "metadata": {},
     "output_type": "display_data"
    },
    {
     "data": {
      "text/html": [
       "<pre>         2     94922   692.241</pre>"
      ],
      "text/plain": [
       "         2     94922   692.241"
      ]
     },
     "metadata": {},
     "output_type": "display_data"
    },
    {
     "data": {
      "text/html": [
       "<pre>         3    126550   695.965</pre>"
      ],
      "text/plain": [
       "         3    126550   695.965"
      ]
     },
     "metadata": {},
     "output_type": "display_data"
    },
    {
     "data": {
      "text/html": [
       "<pre>         4    158171   699.097</pre>"
      ],
      "text/plain": [
       "         4    158171   699.097"
      ]
     },
     "metadata": {},
     "output_type": "display_data"
    },
    {
     "data": {
      "text/html": [
       "<pre>         5    189793   703.084</pre>"
      ],
      "text/plain": [
       "         5    189793   703.084"
      ]
     },
     "metadata": {},
     "output_type": "display_data"
    },
    {
     "data": {
      "text/html": [
       "<pre>         6    221424   706.593</pre>"
      ],
      "text/plain": [
       "         6    221424   706.593"
      ]
     },
     "metadata": {},
     "output_type": "display_data"
    },
    {
     "data": {
      "text/html": [
       "<pre>         7    253060   709.849</pre>"
      ],
      "text/plain": [
       "         7    253060   709.849"
      ]
     },
     "metadata": {},
     "output_type": "display_data"
    },
    {
     "data": {
      "text/html": [
       "<pre>Finished getting similar items for 253060 items in 709.85s.</pre>"
      ],
      "text/plain": [
       "Finished getting similar items for 253060 items in 709.85s."
      ]
     },
     "metadata": {},
     "output_type": "display_data"
    },
    {
     "data": {
      "text/html": [
       "<pre>Finished training in 734.613s</pre>"
      ],
      "text/plain": [
       "Finished training in 734.613s"
      ]
     },
     "metadata": {},
     "output_type": "display_data"
    }
   ],
   "source": [
    "# Co-Occurence Matrix\n",
    "similarity_model = graphlab.item_similarity_recommender.create(review_sf,\n",
    "                                                               user_id = 'review_userid',\n",
    "                                                               item_id = 'product_productid')"
   ]
  },
  {
   "cell_type": "code",
   "execution_count": 14,
   "metadata": {
    "collapsed": false
   },
   "outputs": [
    {
     "data": {
      "text/html": [
       "<pre>Getting similar items completed in 0.018439</pre>"
      ],
      "text/plain": [
       "Getting similar items completed in 0.018439"
      ]
     },
     "metadata": {},
     "output_type": "display_data"
    },
    {
     "data": {
      "text/html": [
       "<div style=\"max-height:1000px;max-width:1500px;overflow:auto;\"><table frame=\"box\" rules=\"cols\">\n",
       "    <tr>\n",
       "        <th style=\"padding-left: 1em; padding-right: 1em; text-align: center\">product_productid</th>\n",
       "        <th style=\"padding-left: 1em; padding-right: 1em; text-align: center\">similar</th>\n",
       "        <th style=\"padding-left: 1em; padding-right: 1em; text-align: center\">score</th>\n",
       "        <th style=\"padding-left: 1em; padding-right: 1em; text-align: center\">rank</th>\n",
       "    </tr>\n",
       "    <tr>\n",
       "        <td style=\"padding-left: 1em; padding-right: 1em; text-align: center; vertical-align: top\">B002QZ1RS6</td>\n",
       "        <td style=\"padding-left: 1em; padding-right: 1em; text-align: center; vertical-align: top\">B001O2MWGI</td>\n",
       "        <td style=\"padding-left: 1em; padding-right: 1em; text-align: center; vertical-align: top\">0.00755429650614</td>\n",
       "        <td style=\"padding-left: 1em; padding-right: 1em; text-align: center; vertical-align: top\">1</td>\n",
       "    </tr>\n",
       "    <tr>\n",
       "        <td style=\"padding-left: 1em; padding-right: 1em; text-align: center; vertical-align: top\">B002QZ1RS6</td>\n",
       "        <td style=\"padding-left: 1em; padding-right: 1em; text-align: center; vertical-align: top\">B004PAS756</td>\n",
       "        <td style=\"padding-left: 1em; padding-right: 1em; text-align: center; vertical-align: top\">0.00645756457565</td>\n",
       "        <td style=\"padding-left: 1em; padding-right: 1em; text-align: center; vertical-align: top\">2</td>\n",
       "    </tr>\n",
       "    <tr>\n",
       "        <td style=\"padding-left: 1em; padding-right: 1em; text-align: center; vertical-align: top\">B002QZ1RS6</td>\n",
       "        <td style=\"padding-left: 1em; padding-right: 1em; text-align: center; vertical-align: top\">B004CRR9IS</td>\n",
       "        <td style=\"padding-left: 1em; padding-right: 1em; text-align: center; vertical-align: top\">0.0064148253742</td>\n",
       "        <td style=\"padding-left: 1em; padding-right: 1em; text-align: center; vertical-align: top\">3</td>\n",
       "    </tr>\n",
       "    <tr>\n",
       "        <td style=\"padding-left: 1em; padding-right: 1em; text-align: center; vertical-align: top\">B002QZ1RS6</td>\n",
       "        <td style=\"padding-left: 1em; padding-right: 1em; text-align: center; vertical-align: top\">B004X7I7A6</td>\n",
       "        <td style=\"padding-left: 1em; padding-right: 1em; text-align: center; vertical-align: top\">0.00614124872057</td>\n",
       "        <td style=\"padding-left: 1em; padding-right: 1em; text-align: center; vertical-align: top\">4</td>\n",
       "    </tr>\n",
       "    <tr>\n",
       "        <td style=\"padding-left: 1em; padding-right: 1em; text-align: center; vertical-align: top\">B002QZ1RS6</td>\n",
       "        <td style=\"padding-left: 1em; padding-right: 1em; text-align: center; vertical-align: top\">B001NFNFN0</td>\n",
       "        <td style=\"padding-left: 1em; padding-right: 1em; text-align: center; vertical-align: top\">0.00520156046814</td>\n",
       "        <td style=\"padding-left: 1em; padding-right: 1em; text-align: center; vertical-align: top\">5</td>\n",
       "    </tr>\n",
       "    <tr>\n",
       "        <td style=\"padding-left: 1em; padding-right: 1em; text-align: center; vertical-align: top\">B002QZ1RS6</td>\n",
       "        <td style=\"padding-left: 1em; padding-right: 1em; text-align: center; vertical-align: top\">B007HW386W</td>\n",
       "        <td style=\"padding-left: 1em; padding-right: 1em; text-align: center; vertical-align: top\">0.00461254612546</td>\n",
       "        <td style=\"padding-left: 1em; padding-right: 1em; text-align: center; vertical-align: top\">6</td>\n",
       "    </tr>\n",
       "    <tr>\n",
       "        <td style=\"padding-left: 1em; padding-right: 1em; text-align: center; vertical-align: top\">B002QZ1RS6</td>\n",
       "        <td style=\"padding-left: 1em; padding-right: 1em; text-align: center; vertical-align: top\">B003ULW77K</td>\n",
       "        <td style=\"padding-left: 1em; padding-right: 1em; text-align: center; vertical-align: top\">0.00461254612546</td>\n",
       "        <td style=\"padding-left: 1em; padding-right: 1em; text-align: center; vertical-align: top\">7</td>\n",
       "    </tr>\n",
       "    <tr>\n",
       "        <td style=\"padding-left: 1em; padding-right: 1em; text-align: center; vertical-align: top\">B002QZ1RS6</td>\n",
       "        <td style=\"padding-left: 1em; padding-right: 1em; text-align: center; vertical-align: top\">B003TQITGO</td>\n",
       "        <td style=\"padding-left: 1em; padding-right: 1em; text-align: center; vertical-align: top\">0.00445632798574</td>\n",
       "        <td style=\"padding-left: 1em; padding-right: 1em; text-align: center; vertical-align: top\">8</td>\n",
       "    </tr>\n",
       "    <tr>\n",
       "        <td style=\"padding-left: 1em; padding-right: 1em; text-align: center; vertical-align: top\">B002QZ1RS6</td>\n",
       "        <td style=\"padding-left: 1em; padding-right: 1em; text-align: center; vertical-align: top\">B005PO7ABI</td>\n",
       "        <td style=\"padding-left: 1em; padding-right: 1em; text-align: center; vertical-align: top\">0.00386847195358</td>\n",
       "        <td style=\"padding-left: 1em; padding-right: 1em; text-align: center; vertical-align: top\">9</td>\n",
       "    </tr>\n",
       "    <tr>\n",
       "        <td style=\"padding-left: 1em; padding-right: 1em; text-align: center; vertical-align: top\">B002QZ1RS6</td>\n",
       "        <td style=\"padding-left: 1em; padding-right: 1em; text-align: center; vertical-align: top\">B001M508N6</td>\n",
       "        <td style=\"padding-left: 1em; padding-right: 1em; text-align: center; vertical-align: top\">0.00319744204636</td>\n",
       "        <td style=\"padding-left: 1em; padding-right: 1em; text-align: center; vertical-align: top\">10</td>\n",
       "    </tr>\n",
       "</table>\n",
       "[1000 rows x 4 columns]<br/>Note: Only the head of the SFrame is printed.<br/>You can use print_rows(num_rows=m, num_columns=n) to print more rows and columns.\n",
       "</div>"
      ],
      "text/plain": [
       "Columns:\n",
       "\tproduct_productid\tstr\n",
       "\tsimilar\tstr\n",
       "\tscore\tfloat\n",
       "\trank\tint\n",
       "\n",
       "Rows: 1000\n",
       "\n",
       "Data:\n",
       "+-------------------+------------+------------------+------+\n",
       "| product_productid |  similar   |      score       | rank |\n",
       "+-------------------+------------+------------------+------+\n",
       "|     B002QZ1RS6    | B001O2MWGI | 0.00755429650614 |  1   |\n",
       "|     B002QZ1RS6    | B004PAS756 | 0.00645756457565 |  2   |\n",
       "|     B002QZ1RS6    | B004CRR9IS | 0.0064148253742  |  3   |\n",
       "|     B002QZ1RS6    | B004X7I7A6 | 0.00614124872057 |  4   |\n",
       "|     B002QZ1RS6    | B001NFNFN0 | 0.00520156046814 |  5   |\n",
       "|     B002QZ1RS6    | B007HW386W | 0.00461254612546 |  6   |\n",
       "|     B002QZ1RS6    | B003ULW77K | 0.00461254612546 |  7   |\n",
       "|     B002QZ1RS6    | B003TQITGO | 0.00445632798574 |  8   |\n",
       "|     B002QZ1RS6    | B005PO7ABI | 0.00386847195358 |  9   |\n",
       "|     B002QZ1RS6    | B001M508N6 | 0.00319744204636 |  10  |\n",
       "+-------------------+------------+------------------+------+\n",
       "[1000 rows x 4 columns]\n",
       "Note: Only the head of the SFrame is printed.\n",
       "You can use print_rows(num_rows=m, num_columns=n) to print more rows and columns."
      ]
     },
     "execution_count": 14,
     "metadata": {},
     "output_type": "execute_result"
    }
   ],
   "source": [
    "similarity_model.get_similar_items(items = result['product_productid'])"
   ]
  },
  {
   "cell_type": "code",
   "execution_count": 15,
   "metadata": {
    "collapsed": false
   },
   "outputs": [
    {
     "data": {
      "text/html": [
       "<pre>Recsys training: model = factorization_recommender</pre>"
      ],
      "text/plain": [
       "Recsys training: model = factorization_recommender"
      ]
     },
     "metadata": {},
     "output_type": "display_data"
    },
    {
     "data": {
      "text/html": [
       "<pre>Preparing data set.</pre>"
      ],
      "text/plain": [
       "Preparing data set."
      ]
     },
     "metadata": {},
     "output_type": "display_data"
    },
    {
     "data": {
      "text/html": [
       "<pre>    Data has 7911684 observations with 889175 users and 253060 items.</pre>"
      ],
      "text/plain": [
       "    Data has 7911684 observations with 889175 users and 253060 items."
      ]
     },
     "metadata": {},
     "output_type": "display_data"
    },
    {
     "data": {
      "text/html": [
       "<pre>    Data prepared in: 14.8078s</pre>"
      ],
      "text/plain": [
       "    Data prepared in: 14.8078s"
      ]
     },
     "metadata": {},
     "output_type": "display_data"
    },
    {
     "data": {
      "text/html": [
       "<pre>Training factorization_recommender for recommendations.</pre>"
      ],
      "text/plain": [
       "Training factorization_recommender for recommendations."
      ]
     },
     "metadata": {},
     "output_type": "display_data"
    },
    {
     "data": {
      "text/html": [
       "<pre>+--------------------------------+--------------------------------------------------+----------+</pre>"
      ],
      "text/plain": [
       "+--------------------------------+--------------------------------------------------+----------+"
      ]
     },
     "metadata": {},
     "output_type": "display_data"
    },
    {
     "data": {
      "text/html": [
       "<pre>| Parameter                      | Description                                      | Value    |</pre>"
      ],
      "text/plain": [
       "| Parameter                      | Description                                      | Value    |"
      ]
     },
     "metadata": {},
     "output_type": "display_data"
    },
    {
     "data": {
      "text/html": [
       "<pre>+--------------------------------+--------------------------------------------------+----------+</pre>"
      ],
      "text/plain": [
       "+--------------------------------+--------------------------------------------------+----------+"
      ]
     },
     "metadata": {},
     "output_type": "display_data"
    },
    {
     "data": {
      "text/html": [
       "<pre>| num_factors                    | Factor Dimension                                 | 8        |</pre>"
      ],
      "text/plain": [
       "| num_factors                    | Factor Dimension                                 | 8        |"
      ]
     },
     "metadata": {},
     "output_type": "display_data"
    },
    {
     "data": {
      "text/html": [
       "<pre>| regularization                 | L2 Regularization on Factors                     | 1e-08    |</pre>"
      ],
      "text/plain": [
       "| regularization                 | L2 Regularization on Factors                     | 1e-08    |"
      ]
     },
     "metadata": {},
     "output_type": "display_data"
    },
    {
     "data": {
      "text/html": [
       "<pre>| solver                         | Solver used for training                         | sgd      |</pre>"
      ],
      "text/plain": [
       "| solver                         | Solver used for training                         | sgd      |"
      ]
     },
     "metadata": {},
     "output_type": "display_data"
    },
    {
     "data": {
      "text/html": [
       "<pre>| linear_regularization          | L2 Regularization on Linear Coefficients         | 1e-10    |</pre>"
      ],
      "text/plain": [
       "| linear_regularization          | L2 Regularization on Linear Coefficients         | 1e-10    |"
      ]
     },
     "metadata": {},
     "output_type": "display_data"
    },
    {
     "data": {
      "text/html": [
       "<pre>| max_iterations                 | Maximum Number of Iterations                     | 50       |</pre>"
      ],
      "text/plain": [
       "| max_iterations                 | Maximum Number of Iterations                     | 50       |"
      ]
     },
     "metadata": {},
     "output_type": "display_data"
    },
    {
     "data": {
      "text/html": [
       "<pre>+--------------------------------+--------------------------------------------------+----------+</pre>"
      ],
      "text/plain": [
       "+--------------------------------+--------------------------------------------------+----------+"
      ]
     },
     "metadata": {},
     "output_type": "display_data"
    },
    {
     "data": {
      "text/html": [
       "<pre>  Optimizing model using SGD; tuning step size.</pre>"
      ],
      "text/plain": [
       "  Optimizing model using SGD; tuning step size."
      ]
     },
     "metadata": {},
     "output_type": "display_data"
    },
    {
     "data": {
      "text/html": [
       "<pre>  Using 988960 / 7911684 points for tuning the step size.</pre>"
      ],
      "text/plain": [
       "  Using 988960 / 7911684 points for tuning the step size."
      ]
     },
     "metadata": {},
     "output_type": "display_data"
    },
    {
     "data": {
      "text/html": [
       "<pre>+---------+-------------------+------------------------------------------+</pre>"
      ],
      "text/plain": [
       "+---------+-------------------+------------------------------------------+"
      ]
     },
     "metadata": {},
     "output_type": "display_data"
    },
    {
     "data": {
      "text/html": [
       "<pre>| Attempt | Initial Step Size | Estimated Objective Value                |</pre>"
      ],
      "text/plain": [
       "| Attempt | Initial Step Size | Estimated Objective Value                |"
      ]
     },
     "metadata": {},
     "output_type": "display_data"
    },
    {
     "data": {
      "text/html": [
       "<pre>+---------+-------------------+------------------------------------------+</pre>"
      ],
      "text/plain": [
       "+---------+-------------------+------------------------------------------+"
      ]
     },
     "metadata": {},
     "output_type": "display_data"
    },
    {
     "data": {
      "text/html": [
       "<pre>| 0       | 25                | Not Viable                               |</pre>"
      ],
      "text/plain": [
       "| 0       | 25                | Not Viable                               |"
      ]
     },
     "metadata": {},
     "output_type": "display_data"
    },
    {
     "data": {
      "text/html": [
       "<pre>| 1       | 6.25              | Not Viable                               |</pre>"
      ],
      "text/plain": [
       "| 1       | 6.25              | Not Viable                               |"
      ]
     },
     "metadata": {},
     "output_type": "display_data"
    },
    {
     "data": {
      "text/html": [
       "<pre>| 2       | 1.5625            | Not Viable                               |</pre>"
      ],
      "text/plain": [
       "| 2       | 1.5625            | Not Viable                               |"
      ]
     },
     "metadata": {},
     "output_type": "display_data"
    },
    {
     "data": {
      "text/html": [
       "<pre>| 3       | 0.390625          | Not Viable                               |</pre>"
      ],
      "text/plain": [
       "| 3       | 0.390625          | Not Viable                               |"
      ]
     },
     "metadata": {},
     "output_type": "display_data"
    },
    {
     "data": {
      "text/html": [
       "<pre>| 4       | 0.0976562         | 0.479085                                 |</pre>"
      ],
      "text/plain": [
       "| 4       | 0.0976562         | 0.479085                                 |"
      ]
     },
     "metadata": {},
     "output_type": "display_data"
    },
    {
     "data": {
      "text/html": [
       "<pre>| 5       | 0.0488281         | 0.656987                                 |</pre>"
      ],
      "text/plain": [
       "| 5       | 0.0488281         | 0.656987                                 |"
      ]
     },
     "metadata": {},
     "output_type": "display_data"
    },
    {
     "data": {
      "text/html": [
       "<pre>| 6       | 0.0244141         | 0.84865                                  |</pre>"
      ],
      "text/plain": [
       "| 6       | 0.0244141         | 0.84865                                  |"
      ]
     },
     "metadata": {},
     "output_type": "display_data"
    },
    {
     "data": {
      "text/html": [
       "<pre>| 7       | 0.012207          | 1.02659                                  |</pre>"
      ],
      "text/plain": [
       "| 7       | 0.012207          | 1.02659                                  |"
      ]
     },
     "metadata": {},
     "output_type": "display_data"
    },
    {
     "data": {
      "text/html": [
       "<pre>+---------+-------------------+------------------------------------------+</pre>"
      ],
      "text/plain": [
       "+---------+-------------------+------------------------------------------+"
      ]
     },
     "metadata": {},
     "output_type": "display_data"
    },
    {
     "data": {
      "text/html": [
       "<pre>| Final   | 0.0976562         | 0.479085                                 |</pre>"
      ],
      "text/plain": [
       "| Final   | 0.0976562         | 0.479085                                 |"
      ]
     },
     "metadata": {},
     "output_type": "display_data"
    },
    {
     "data": {
      "text/html": [
       "<pre>+---------+-------------------+------------------------------------------+</pre>"
      ],
      "text/plain": [
       "+---------+-------------------+------------------------------------------+"
      ]
     },
     "metadata": {},
     "output_type": "display_data"
    },
    {
     "data": {
      "text/html": [
       "<pre>Starting Optimization.</pre>"
      ],
      "text/plain": [
       "Starting Optimization."
      ]
     },
     "metadata": {},
     "output_type": "display_data"
    },
    {
     "data": {
      "text/html": [
       "<pre>+---------+--------------+-------------------+-----------------------+-------------+</pre>"
      ],
      "text/plain": [
       "+---------+--------------+-------------------+-----------------------+-------------+"
      ]
     },
     "metadata": {},
     "output_type": "display_data"
    },
    {
     "data": {
      "text/html": [
       "<pre>| Iter.   | Elapsed Time | Approx. Objective | Approx. Training RMSE | Step Size   |</pre>"
      ],
      "text/plain": [
       "| Iter.   | Elapsed Time | Approx. Objective | Approx. Training RMSE | Step Size   |"
      ]
     },
     "metadata": {},
     "output_type": "display_data"
    },
    {
     "data": {
      "text/html": [
       "<pre>+---------+--------------+-------------------+-----------------------+-------------+</pre>"
      ],
      "text/plain": [
       "+---------+--------------+-------------------+-----------------------+-------------+"
      ]
     },
     "metadata": {},
     "output_type": "display_data"
    },
    {
     "data": {
      "text/html": [
       "<pre>| Initial | 148us        | 1.5899            | 1.26091               |             |</pre>"
      ],
      "text/plain": [
       "| Initial | 148us        | 1.5899            | 1.26091               |             |"
      ]
     },
     "metadata": {},
     "output_type": "display_data"
    },
    {
     "data": {
      "text/html": [
       "<pre>+---------+--------------+-------------------+-----------------------+-------------+</pre>"
      ],
      "text/plain": [
       "+---------+--------------+-------------------+-----------------------+-------------+"
      ]
     },
     "metadata": {},
     "output_type": "display_data"
    },
    {
     "data": {
      "text/html": [
       "<pre>| 1       | 1.86s        | 0.846823          | 0.917268              | 0.0976562   |</pre>"
      ],
      "text/plain": [
       "| 1       | 1.86s        | 0.846823          | 0.917268              | 0.0976562   |"
      ]
     },
     "metadata": {},
     "output_type": "display_data"
    },
    {
     "data": {
      "text/html": [
       "<pre>| 2       | 3.60s        | 0.412009          | 0.638468              | 0.0580668   |</pre>"
      ],
      "text/plain": [
       "| 2       | 3.60s        | 0.412009          | 0.638468              | 0.0580668   |"
      ]
     },
     "metadata": {},
     "output_type": "display_data"
    },
    {
     "data": {
      "text/html": [
       "<pre>| 3       | 5.32s        | 0.273371          | 0.518943              | 0.042841    |</pre>"
      ],
      "text/plain": [
       "| 3       | 5.32s        | 0.273371          | 0.518943              | 0.042841    |"
      ]
     },
     "metadata": {},
     "output_type": "display_data"
    },
    {
     "data": {
      "text/html": [
       "<pre>| 4       | 6.97s        | 0.219427          | 0.463952              | 0.0345267   |</pre>"
      ],
      "text/plain": [
       "| 4       | 6.97s        | 0.219427          | 0.463952              | 0.0345267   |"
      ]
     },
     "metadata": {},
     "output_type": "display_data"
    },
    {
     "data": {
      "text/html": [
       "<pre>| 5       | 8.65s        | 0.190696          | 0.431665              | 0.029206    |</pre>"
      ],
      "text/plain": [
       "| 5       | 8.65s        | 0.190696          | 0.431665              | 0.029206    |"
      ]
     },
     "metadata": {},
     "output_type": "display_data"
    },
    {
     "data": {
      "text/html": [
       "<pre>| 6       | 10.41s       | 0.173073          | 0.410485              | 0.0254734   |</pre>"
      ],
      "text/plain": [
       "| 6       | 10.41s       | 0.173073          | 0.410485              | 0.0254734   |"
      ]
     },
     "metadata": {},
     "output_type": "display_data"
    },
    {
     "data": {
      "text/html": [
       "<pre>| 7       | 12.06s       | 0.160801          | 0.395035              | 0.0226922   |</pre>"
      ],
      "text/plain": [
       "| 7       | 12.06s       | 0.160801          | 0.395035              | 0.0226922   |"
      ]
     },
     "metadata": {},
     "output_type": "display_data"
    },
    {
     "data": {
      "text/html": [
       "<pre>| 8       | 13.66s       | 0.1529            | 0.384713              | 0.0205297   |</pre>"
      ],
      "text/plain": [
       "| 8       | 13.66s       | 0.1529            | 0.384713              | 0.0205297   |"
      ]
     },
     "metadata": {},
     "output_type": "display_data"
    },
    {
     "data": {
      "text/html": [
       "<pre>| 9       | 15.20s       | 0.146824          | 0.376561              | 0.018794    |</pre>"
      ],
      "text/plain": [
       "| 9       | 15.20s       | 0.146824          | 0.376561              | 0.018794    |"
      ]
     },
     "metadata": {},
     "output_type": "display_data"
    },
    {
     "data": {
      "text/html": [
       "<pre>| 10      | 16.80s       | 0.141126          | 0.368769              | 0.017366    |</pre>"
      ],
      "text/plain": [
       "| 10      | 16.80s       | 0.141126          | 0.368769              | 0.017366    |"
      ]
     },
     "metadata": {},
     "output_type": "display_data"
    },
    {
     "data": {
      "text/html": [
       "<pre>| 11      | 18.42s       | 0.136815          | 0.362745              | 0.016168    |</pre>"
      ],
      "text/plain": [
       "| 11      | 18.42s       | 0.136815          | 0.362745              | 0.016168    |"
      ]
     },
     "metadata": {},
     "output_type": "display_data"
    },
    {
     "data": {
      "text/html": [
       "<pre>| 12      | 19.96s       | 0.133492          | 0.358017              | 0.0151466   |</pre>"
      ],
      "text/plain": [
       "| 12      | 19.96s       | 0.133492          | 0.358017              | 0.0151466   |"
      ]
     },
     "metadata": {},
     "output_type": "display_data"
    },
    {
     "data": {
      "text/html": [
       "<pre>| 13      | 21.68s       | 0.130663          | 0.353934              | 0.014264    |</pre>"
      ],
      "text/plain": [
       "| 13      | 21.68s       | 0.130663          | 0.353934              | 0.014264    |"
      ]
     },
     "metadata": {},
     "output_type": "display_data"
    },
    {
     "data": {
      "text/html": [
       "<pre>| 14      | 23.52s       | 0.128147          | 0.350261              | 0.0134929   |</pre>"
      ],
      "text/plain": [
       "| 14      | 23.52s       | 0.128147          | 0.350261              | 0.0134929   |"
      ]
     },
     "metadata": {},
     "output_type": "display_data"
    },
    {
     "data": {
      "text/html": [
       "<pre>| 15      | 25.30s       | 0.12585           | 0.346876              | 0.0128124   |</pre>"
      ],
      "text/plain": [
       "| 15      | 25.30s       | 0.12585           | 0.346876              | 0.0128124   |"
      ]
     },
     "metadata": {},
     "output_type": "display_data"
    },
    {
     "data": {
      "text/html": [
       "<pre>| 16      | 27.02s       | 0.123782          | 0.343793              | 0.012207    |</pre>"
      ],
      "text/plain": [
       "| 16      | 27.02s       | 0.123782          | 0.343793              | 0.012207    |"
      ]
     },
     "metadata": {},
     "output_type": "display_data"
    },
    {
     "data": {
      "text/html": [
       "<pre>| 17      | 28.76s       | 0.122406          | 0.341703              | 0.0116644   |</pre>"
      ],
      "text/plain": [
       "| 17      | 28.76s       | 0.122406          | 0.341703              | 0.0116644   |"
      ]
     },
     "metadata": {},
     "output_type": "display_data"
    },
    {
     "data": {
      "text/html": [
       "<pre>| 18      | 30.39s       | 0.120842          | 0.33933               | 0.011175    |</pre>"
      ],
      "text/plain": [
       "| 18      | 30.39s       | 0.120842          | 0.33933               | 0.011175    |"
      ]
     },
     "metadata": {},
     "output_type": "display_data"
    },
    {
     "data": {
      "text/html": [
       "<pre>| 19      | 32.39s       | 0.119472          | 0.337239              | 0.0107309   |</pre>"
      ],
      "text/plain": [
       "| 19      | 32.39s       | 0.119472          | 0.337239              | 0.0107309   |"
      ]
     },
     "metadata": {},
     "output_type": "display_data"
    },
    {
     "data": {
      "text/html": [
       "<pre>| 20      | 33.99s       | 0.118182          | 0.335258              | 0.0103259   |</pre>"
      ],
      "text/plain": [
       "| 20      | 33.99s       | 0.118182          | 0.335258              | 0.0103259   |"
      ]
     },
     "metadata": {},
     "output_type": "display_data"
    },
    {
     "data": {
      "text/html": [
       "<pre>| 21      | 35.49s       | 0.11697           | 0.333379              | 0.00995487  |</pre>"
      ],
      "text/plain": [
       "| 21      | 35.49s       | 0.11697           | 0.333379              | 0.00995487  |"
      ]
     },
     "metadata": {},
     "output_type": "display_data"
    },
    {
     "data": {
      "text/html": [
       "<pre>| 22      | 36.99s       | 0.116023          | 0.331897              | 0.00961353  |</pre>"
      ],
      "text/plain": [
       "| 22      | 36.99s       | 0.116023          | 0.331897              | 0.00961353  |"
      ]
     },
     "metadata": {},
     "output_type": "display_data"
    },
    {
     "data": {
      "text/html": [
       "<pre>| 23      | 38.50s       | 0.115093          | 0.330433              | 0.00929831  |</pre>"
      ],
      "text/plain": [
       "| 23      | 38.50s       | 0.115093          | 0.330433              | 0.00929831  |"
      ]
     },
     "metadata": {},
     "output_type": "display_data"
    },
    {
     "data": {
      "text/html": [
       "<pre>| 24      | 40.01s       | 0.114258          | 0.329113              | 0.0090062   |</pre>"
      ],
      "text/plain": [
       "| 24      | 40.01s       | 0.114258          | 0.329113              | 0.0090062   |"
      ]
     },
     "metadata": {},
     "output_type": "display_data"
    },
    {
     "data": {
      "text/html": [
       "<pre>| 25      | 41.53s       | 0.113338          | 0.327663              | 0.00873464  |</pre>"
      ],
      "text/plain": [
       "| 25      | 41.53s       | 0.113338          | 0.327663              | 0.00873464  |"
      ]
     },
     "metadata": {},
     "output_type": "display_data"
    },
    {
     "data": {
      "text/html": [
       "<pre>| 26      | 43.28s       | 0.112662          | 0.326578              | 0.00848145  |</pre>"
      ],
      "text/plain": [
       "| 26      | 43.28s       | 0.112662          | 0.326578              | 0.00848145  |"
      ]
     },
     "metadata": {},
     "output_type": "display_data"
    },
    {
     "data": {
      "text/html": [
       "<pre>| 27      | 45.38s       | 0.111973          | 0.325475              | 0.00824474  |</pre>"
      ],
      "text/plain": [
       "| 27      | 45.38s       | 0.111973          | 0.325475              | 0.00824474  |"
      ]
     },
     "metadata": {},
     "output_type": "display_data"
    },
    {
     "data": {
      "text/html": [
       "<pre>| 28      | 47.21s       | 0.111274          | 0.324353              | 0.0080229   |</pre>"
      ],
      "text/plain": [
       "| 28      | 47.21s       | 0.111274          | 0.324353              | 0.0080229   |"
      ]
     },
     "metadata": {},
     "output_type": "display_data"
    },
    {
     "data": {
      "text/html": [
       "<pre>| 29      | 48.84s       | 0.110595          | 0.323261              | 0.00781451  |</pre>"
      ],
      "text/plain": [
       "| 29      | 48.84s       | 0.110595          | 0.323261              | 0.00781451  |"
      ]
     },
     "metadata": {},
     "output_type": "display_data"
    },
    {
     "data": {
      "text/html": [
       "<pre>| 30      | 50.48s       | 0.110202          | 0.322608              | 0.00761832  |</pre>"
      ],
      "text/plain": [
       "| 30      | 50.48s       | 0.110202          | 0.322608              | 0.00761832  |"
      ]
     },
     "metadata": {},
     "output_type": "display_data"
    },
    {
     "data": {
      "text/html": [
       "<pre>| 31      | 52.57s       | 0.109537          | 0.321538              | 0.00743325  |</pre>"
      ],
      "text/plain": [
       "| 31      | 52.57s       | 0.109537          | 0.321538              | 0.00743325  |"
      ]
     },
     "metadata": {},
     "output_type": "display_data"
    },
    {
     "data": {
      "text/html": [
       "<pre>| 32      | 54.26s       | 0.108979          | 0.320631              | 0.00725834  |</pre>"
      ],
      "text/plain": [
       "| 32      | 54.26s       | 0.108979          | 0.320631              | 0.00725834  |"
      ]
     },
     "metadata": {},
     "output_type": "display_data"
    },
    {
     "data": {
      "text/html": [
       "<pre>| 33      | 55.91s       | 0.108562          | 0.319941              | 0.00709275  |</pre>"
      ],
      "text/plain": [
       "| 33      | 55.91s       | 0.108562          | 0.319941              | 0.00709275  |"
      ]
     },
     "metadata": {},
     "output_type": "display_data"
    },
    {
     "data": {
      "text/html": [
       "<pre>| 34      | 57.46s       | 0.108058          | 0.319116              | 0.00693571  |</pre>"
      ],
      "text/plain": [
       "| 34      | 57.46s       | 0.108058          | 0.319116              | 0.00693571  |"
      ]
     },
     "metadata": {},
     "output_type": "display_data"
    },
    {
     "data": {
      "text/html": [
       "<pre>| 35      | 59.10s       | 0.107629          | 0.318407              | 0.00678655  |</pre>"
      ],
      "text/plain": [
       "| 35      | 59.10s       | 0.107629          | 0.318407              | 0.00678655  |"
      ]
     },
     "metadata": {},
     "output_type": "display_data"
    },
    {
     "data": {
      "text/html": [
       "<pre>| 36      | 1m 0s        | 0.107242          | 0.317766              | 0.00664467  |</pre>"
      ],
      "text/plain": [
       "| 36      | 1m 0s        | 0.107242          | 0.317766              | 0.00664467  |"
      ]
     },
     "metadata": {},
     "output_type": "display_data"
    },
    {
     "data": {
      "text/html": [
       "<pre>| 37      | 1m 2s        | 0.106916          | 0.317219              | 0.00650952  |</pre>"
      ],
      "text/plain": [
       "| 37      | 1m 2s        | 0.106916          | 0.317219              | 0.00650952  |"
      ]
     },
     "metadata": {},
     "output_type": "display_data"
    },
    {
     "data": {
      "text/html": [
       "<pre>| 38      | 1m 4s        | 0.10646           | 0.316468              | 0.00638061  |</pre>"
      ],
      "text/plain": [
       "| 38      | 1m 4s        | 0.10646           | 0.316468              | 0.00638061  |"
      ]
     },
     "metadata": {},
     "output_type": "display_data"
    },
    {
     "data": {
      "text/html": [
       "<pre>| 39      | 1m 5s        | 0.106113          | 0.315887              | 0.00625751  |</pre>"
      ],
      "text/plain": [
       "| 39      | 1m 5s        | 0.106113          | 0.315887              | 0.00625751  |"
      ]
     },
     "metadata": {},
     "output_type": "display_data"
    },
    {
     "data": {
      "text/html": [
       "<pre>| 40      | 1m 7s        | 0.105837          | 0.315419              | 0.00613981  |</pre>"
      ],
      "text/plain": [
       "| 40      | 1m 7s        | 0.105837          | 0.315419              | 0.00613981  |"
      ]
     },
     "metadata": {},
     "output_type": "display_data"
    },
    {
     "data": {
      "text/html": [
       "<pre>| 41      | 1m 9s        | 0.105423          | 0.314735              | 0.00602715  |</pre>"
      ],
      "text/plain": [
       "| 41      | 1m 9s        | 0.105423          | 0.314735              | 0.00602715  |"
      ]
     },
     "metadata": {},
     "output_type": "display_data"
    },
    {
     "data": {
      "text/html": [
       "<pre>| 42      | 1m 10s       | 0.105089          | 0.314173              | 0.0059192   |</pre>"
      ],
      "text/plain": [
       "| 42      | 1m 10s       | 0.105089          | 0.314173              | 0.0059192   |"
      ]
     },
     "metadata": {},
     "output_type": "display_data"
    },
    {
     "data": {
      "text/html": [
       "<pre>| 43      | 1m 12s       | 0.104853          | 0.313771              | 0.00581566  |</pre>"
      ],
      "text/plain": [
       "| 43      | 1m 12s       | 0.104853          | 0.313771              | 0.00581566  |"
      ]
     },
     "metadata": {},
     "output_type": "display_data"
    },
    {
     "data": {
      "text/html": [
       "<pre>| 44      | 1m 13s       | 0.104551          | 0.313262              | 0.00571624  |</pre>"
      ],
      "text/plain": [
       "| 44      | 1m 13s       | 0.104551          | 0.313262              | 0.00571624  |"
      ]
     },
     "metadata": {},
     "output_type": "display_data"
    },
    {
     "data": {
      "text/html": [
       "<pre>| 45      | 1m 15s       | 0.104255          | 0.312762              | 0.0056207   |</pre>"
      ],
      "text/plain": [
       "| 45      | 1m 15s       | 0.104255          | 0.312762              | 0.0056207   |"
      ]
     },
     "metadata": {},
     "output_type": "display_data"
    },
    {
     "data": {
      "text/html": [
       "<pre>| 46      | 1m 17s       | 0.103981          | 0.312298              | 0.00552881  |</pre>"
      ],
      "text/plain": [
       "| 46      | 1m 17s       | 0.103981          | 0.312298              | 0.00552881  |"
      ]
     },
     "metadata": {},
     "output_type": "display_data"
    },
    {
     "data": {
      "text/html": [
       "<pre>| 47      | 1m 18s       | 0.103665          | 0.311768              | 0.00544035  |</pre>"
      ],
      "text/plain": [
       "| 47      | 1m 18s       | 0.103665          | 0.311768              | 0.00544035  |"
      ]
     },
     "metadata": {},
     "output_type": "display_data"
    },
    {
     "data": {
      "text/html": [
       "<pre>| 48      | 1m 20s       | 0.103493          | 0.311467              | 0.00535512  |</pre>"
      ],
      "text/plain": [
       "| 48      | 1m 20s       | 0.103493          | 0.311467              | 0.00535512  |"
      ]
     },
     "metadata": {},
     "output_type": "display_data"
    },
    {
     "data": {
      "text/html": [
       "<pre>| 49      | 1m 22s       | 0.103252          | 0.311055              | 0.00527294  |</pre>"
      ],
      "text/plain": [
       "| 49      | 1m 22s       | 0.103252          | 0.311055              | 0.00527294  |"
      ]
     },
     "metadata": {},
     "output_type": "display_data"
    },
    {
     "data": {
      "text/html": [
       "<pre>| 50      | 1m 23s       | 0.102986          | 0.310604              | 0.00519365  |</pre>"
      ],
      "text/plain": [
       "| 50      | 1m 23s       | 0.102986          | 0.310604              | 0.00519365  |"
      ]
     },
     "metadata": {},
     "output_type": "display_data"
    },
    {
     "data": {
      "text/html": [
       "<pre>+---------+--------------+-------------------+-----------------------+-------------+</pre>"
      ],
      "text/plain": [
       "+---------+--------------+-------------------+-----------------------+-------------+"
      ]
     },
     "metadata": {},
     "output_type": "display_data"
    },
    {
     "data": {
      "text/html": [
       "<pre>Optimization Complete: Maximum number of passes through the data reached.</pre>"
      ],
      "text/plain": [
       "Optimization Complete: Maximum number of passes through the data reached."
      ]
     },
     "metadata": {},
     "output_type": "display_data"
    },
    {
     "data": {
      "text/html": [
       "<pre>Computing final objective value and training RMSE.</pre>"
      ],
      "text/plain": [
       "Computing final objective value and training RMSE."
      ]
     },
     "metadata": {},
     "output_type": "display_data"
    },
    {
     "data": {
      "text/html": [
       "<pre>       Final objective value: 0.0992846</pre>"
      ],
      "text/plain": [
       "       Final objective value: 0.0992846"
      ]
     },
     "metadata": {},
     "output_type": "display_data"
    },
    {
     "data": {
      "text/html": [
       "<pre>       Final training RMSE: 0.304587</pre>"
      ],
      "text/plain": [
       "       Final training RMSE: 0.304587"
      ]
     },
     "metadata": {},
     "output_type": "display_data"
    }
   ],
   "source": [
    "matrix_factorization_model = graphlab.recommender.factorization_recommender.create(review_sf,\n",
    "                                                                                   user_id = 'review_userid',\n",
    "                                                                                   item_id = 'product_productid',\n",
    "                                                                                   target = 'review_score')"
   ]
  },
  {
   "cell_type": "code",
   "execution_count": null,
   "metadata": {
    "collapsed": true
   },
   "outputs": [],
   "source": []
  }
 ],
 "metadata": {
  "kernelspec": {
   "display_name": "Python 2",
   "language": "python",
   "name": "python2"
  },
  "language_info": {
   "codemirror_mode": {
    "name": "ipython",
    "version": 2
   },
   "file_extension": ".py",
   "mimetype": "text/x-python",
   "name": "python",
   "nbconvert_exporter": "python",
   "pygments_lexer": "ipython2",
   "version": "2.7.11"
  }
 },
 "nbformat": 4,
 "nbformat_minor": 0
}
