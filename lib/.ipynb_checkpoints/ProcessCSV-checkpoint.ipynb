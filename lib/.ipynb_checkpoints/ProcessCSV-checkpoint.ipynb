{
 "cells": [
  {
   "cell_type": "code",
   "execution_count": 1,
   "metadata": {
    "collapsed": false
   },
   "outputs": [],
   "source": [
    "import csv\n",
    "\n",
    "def trycast(x):\n",
    "    try:\n",
    "        return float(x)\n",
    "    except:\n",
    "        try:\n",
    "            return int(x)\n",
    "        except:\n",
    "            return x\n",
    "\n",
    "cols = ['product_productid', 'review_userid', \n",
    "        'review_helpfulness', 'review_score']\n",
    "\n",
    "f = open('../output/moviescsv.csv', 'wb')\n",
    "w = csv.writer(f)\n",
    "w.writerow(cols)\n",
    "\n",
    "doc =  {}\n",
    "\n",
    "with open('../data/movies.txt') as infile:\n",
    "    for line in infile:\n",
    "        line = line.strip()\n",
    "        if line==\"\":\n",
    "            w.writerow([doc.get(col) for col in cols])\n",
    "            doc = {}\n",
    "        else:\n",
    "            idx = line.find(':')\n",
    "            key, value = tuple([line[:idx], line[idx+1:]])\n",
    "            key = key.strip().replace(\"/\", \"_\").lower()\n",
    "            value = value.strip()\n",
    "            doc[key] = trycast(value)\n",
    "    f.close()"
   ]
  }
 ],
 "metadata": {
  "kernelspec": {
   "display_name": "Python 2",
   "language": "python",
   "name": "python2"
  },
  "language_info": {
   "codemirror_mode": {
    "name": "ipython",
    "version": 2
   },
   "file_extension": ".py",
   "mimetype": "text/x-python",
   "name": "python",
   "nbconvert_exporter": "python",
   "pygments_lexer": "ipython2",
   "version": "2.7.11"
  }
 },
 "nbformat": 4,
 "nbformat_minor": 0
}
