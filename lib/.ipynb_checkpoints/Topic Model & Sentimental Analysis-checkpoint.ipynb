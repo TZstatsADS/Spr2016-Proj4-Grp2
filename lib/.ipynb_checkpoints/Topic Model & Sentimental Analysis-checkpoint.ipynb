{
 "cells": [
  {
   "cell_type": "code",
   "execution_count": 1,
   "metadata": {
    "collapsed": true
   },
   "outputs": [],
   "source": [
    "import pandas\n",
    "import graphlab"
   ]
  },
  {
   "cell_type": "code",
   "execution_count": 2,
   "metadata": {
    "collapsed": false
   },
   "outputs": [],
   "source": [
    "review_df = pandas.read_csv('../output/review_data_frame2.csv')"
   ]
  },
  {
   "cell_type": "code",
   "execution_count": 3,
   "metadata": {
    "collapsed": false
   },
   "outputs": [],
   "source": [
    "review_df = review_df[['product_productid', 'review_text', 'review_score']]"
   ]
  },
  {
   "cell_type": "code",
   "execution_count": 4,
   "metadata": {
    "collapsed": false
   },
   "outputs": [
    {
     "name": "stdout",
     "output_type": "stream",
     "text": [
      "This non-commercial license of GraphLab Create is assigned to voelunteer@gmail.com and will expire on December 23, 2016. For commercial licensing options, visit https://dato.com/buy/.\n"
     ]
    },
    {
     "name": "stderr",
     "output_type": "stream",
     "text": [
      "2016-04-08 20:50:53,936 [INFO] graphlab.cython.cy_server, 176: GraphLab Create v1.8.5 started. Logging: /tmp/graphlab_server_1460163053.log\n"
     ]
    }
   ],
   "source": [
    "review_df = graphlab.SFrame(review_df)"
   ]
  },
  {
   "cell_type": "code",
   "execution_count": 5,
   "metadata": {
    "collapsed": true
   },
   "outputs": [],
   "source": [
    "total_review_df = review_df"
   ]
  },
  {
   "cell_type": "code",
   "execution_count": 6,
   "metadata": {
    "collapsed": false
   },
   "outputs": [],
   "source": [
    "review_df = review_df['review_text', 'review_score']"
   ]
  },
  {
   "cell_type": "code",
   "execution_count": 7,
   "metadata": {
    "collapsed": false
   },
   "outputs": [],
   "source": [
    "review_df = review_df.unique()"
   ]
  },
  {
   "cell_type": "code",
   "execution_count": 9,
   "metadata": {
    "collapsed": false,
    "scrolled": false
   },
   "outputs": [
    {
     "data": {
      "text/html": [
       "<pre>Tokenizing...</pre>"
      ],
      "text/plain": [
       "Tokenizing..."
      ]
     },
     "metadata": {},
     "output_type": "display_data"
    },
    {
     "data": {
      "text/html": [
       "<pre>TF-IDF transform...</pre>"
      ],
      "text/plain": [
       "TF-IDF transform..."
      ]
     },
     "metadata": {},
     "output_type": "display_data"
    },
    {
     "data": {
      "text/html": [
       "<pre>Creating inverted index...</pre>"
      ],
      "text/plain": [
       "Creating inverted index..."
      ]
     },
     "metadata": {},
     "output_type": "display_data"
    },
    {
     "data": {
      "text/html": [
       "<pre>+--------------------------+-------------------+</pre>"
      ],
      "text/plain": [
       "+--------------------------+-------------------+"
      ]
     },
     "metadata": {},
     "output_type": "display_data"
    },
    {
     "data": {
      "text/html": [
       "<pre>| Number of rows processed | Elapsed (seconds) |</pre>"
      ],
      "text/plain": [
       "| Number of rows processed | Elapsed (seconds) |"
      ]
     },
     "metadata": {},
     "output_type": "display_data"
    },
    {
     "data": {
      "text/html": [
       "<pre>+--------------------------+-------------------+</pre>"
      ],
      "text/plain": [
       "+--------------------------+-------------------+"
      ]
     },
     "metadata": {},
     "output_type": "display_data"
    },
    {
     "data": {
      "text/html": [
       "<pre>| 0                        | 18.91s            |</pre>"
      ],
      "text/plain": [
       "| 0                        | 18.91s            |"
      ]
     },
     "metadata": {},
     "output_type": "display_data"
    },
    {
     "data": {
      "text/html": [
       "<pre>| 100000                   | 51.76s            |</pre>"
      ],
      "text/plain": [
       "| 100000                   | 51.76s            |"
      ]
     },
     "metadata": {},
     "output_type": "display_data"
    },
    {
     "data": {
      "text/html": [
       "<pre>+--------------------------+-------------------+</pre>"
      ],
      "text/plain": [
       "+--------------------------+-------------------+"
      ]
     },
     "metadata": {},
     "output_type": "display_data"
    },
    {
     "data": {
      "text/html": [
       "<pre>Creating query expansion model...</pre>"
      ],
      "text/plain": [
       "Creating query expansion model..."
      ]
     },
     "metadata": {},
     "output_type": "display_data"
    },
    {
     "data": {
      "text/html": [
       "<pre>Saving data for querying...</pre>"
      ],
      "text/plain": [
       "Saving data for querying..."
      ]
     },
     "metadata": {},
     "output_type": "display_data"
    }
   ],
   "source": [
    "# sentiment_model = graphlab.product_sentiment.create(review_df, features=['review_text'])"
   ]
  },
  {
   "cell_type": "code",
   "execution_count": 16,
   "metadata": {
    "collapsed": false
   },
   "outputs": [],
   "source": [
    "# review_df = sentiment_model.get_most_negative(k = 134881)"
   ]
  },
  {
   "cell_type": "code",
   "execution_count": 8,
   "metadata": {
    "collapsed": false
   },
   "outputs": [
    {
     "data": {
      "text/html": [
       "<div style=\"max-height:1000px;max-width:1500px;overflow:auto;\"><table frame=\"box\" rules=\"cols\">\n",
       "    <tr>\n",
       "        <th style=\"padding-left: 1em; padding-right: 1em; text-align: center\">review_score</th>\n",
       "        <th style=\"padding-left: 1em; padding-right: 1em; text-align: center\">review_text</th>\n",
       "    </tr>\n",
       "    <tr>\n",
       "        <td style=\"padding-left: 1em; padding-right: 1em; text-align: center; vertical-align: top\">4</td>\n",
       "        <td style=\"padding-left: 1em; padding-right: 1em; text-align: center; vertical-align: top\">As a major fan of Robert<br>Rodriguez and a fan of ...</td>\n",
       "    </tr>\n",
       "    <tr>\n",
       "        <td style=\"padding-left: 1em; padding-right: 1em; text-align: center; vertical-align: top\">5</td>\n",
       "        <td style=\"padding-left: 1em; padding-right: 1em; text-align: center; vertical-align: top\">When I compare this HBO<br>miniseries to other ...</td>\n",
       "    </tr>\n",
       "    <tr>\n",
       "        <td style=\"padding-left: 1em; padding-right: 1em; text-align: center; vertical-align: top\">4</td>\n",
       "        <td style=\"padding-left: 1em; padding-right: 1em; text-align: center; vertical-align: top\">This is a review of the<br>Disney Blu-Ray releas ...</td>\n",
       "    </tr>\n",
       "    <tr>\n",
       "        <td style=\"padding-left: 1em; padding-right: 1em; text-align: center; vertical-align: top\">1</td>\n",
       "        <td style=\"padding-left: 1em; padding-right: 1em; text-align: center; vertical-align: top\">The characters lack<br>depth, background, ...</td>\n",
       "    </tr>\n",
       "    <tr>\n",
       "        <td style=\"padding-left: 1em; padding-right: 1em; text-align: center; vertical-align: top\">5</td>\n",
       "        <td style=\"padding-left: 1em; padding-right: 1em; text-align: center; vertical-align: top\">\"Tangled\" is spectacular,<br>but it's not because  ...</td>\n",
       "    </tr>\n",
       "    <tr>\n",
       "        <td style=\"padding-left: 1em; padding-right: 1em; text-align: center; vertical-align: top\">5</td>\n",
       "        <td style=\"padding-left: 1em; padding-right: 1em; text-align: center; vertical-align: top\">I love watching Jeff<br>Dunham do his thing. ...</td>\n",
       "    </tr>\n",
       "    <tr>\n",
       "        <td style=\"padding-left: 1em; padding-right: 1em; text-align: center; vertical-align: top\">1</td>\n",
       "        <td style=\"padding-left: 1em; padding-right: 1em; text-align: center; vertical-align: top\">Though M. Night<br>Shyamalan's unable to ...</td>\n",
       "    </tr>\n",
       "    <tr>\n",
       "        <td style=\"padding-left: 1em; padding-right: 1em; text-align: center; vertical-align: top\">5</td>\n",
       "        <td style=\"padding-left: 1em; padding-right: 1em; text-align: center; vertical-align: top\">5.0 stars&lt;br /&gt;&lt;br /&gt;An<br>exemplary film and ea ...</td>\n",
       "    </tr>\n",
       "    <tr>\n",
       "        <td style=\"padding-left: 1em; padding-right: 1em; text-align: center; vertical-align: top\">1</td>\n",
       "        <td style=\"padding-left: 1em; padding-right: 1em; text-align: center; vertical-align: top\">I had very, very high<br>hopes for this film - ...</td>\n",
       "    </tr>\n",
       "    <tr>\n",
       "        <td style=\"padding-left: 1em; padding-right: 1em; text-align: center; vertical-align: top\">2</td>\n",
       "        <td style=\"padding-left: 1em; padding-right: 1em; text-align: center; vertical-align: top\">No, you don't have to see<br>all my reviews. I try to ...</td>\n",
       "    </tr>\n",
       "</table>\n",
       "[19407 rows x 2 columns]<br/>Note: Only the head of the SFrame is printed.<br/>You can use print_rows(num_rows=m, num_columns=n) to print more rows and columns.\n",
       "</div>"
      ],
      "text/plain": [
       "Columns:\n",
       "\treview_score\tint\n",
       "\treview_text\tstr\n",
       "\n",
       "Rows: 19407\n",
       "\n",
       "Data:\n",
       "+--------------+-------------------------------+\n",
       "| review_score |          review_text          |\n",
       "+--------------+-------------------------------+\n",
       "|      4       | As a major fan of Robert R... |\n",
       "|      5       | When I compare this HBO mi... |\n",
       "|      4       | This is a review of the Di... |\n",
       "|      1       | The characters lack depth,... |\n",
       "|      5       | \"Tangled\" is spectacular, ... |\n",
       "|      5       | I love watching Jeff Dunha... |\n",
       "|      1       | Though M. Night Shyamalan'... |\n",
       "|      5       | 5.0 stars<br /><br />An ex... |\n",
       "|      1       | I had very, very high hope... |\n",
       "|      2       | No, you don't have to see ... |\n",
       "+--------------+-------------------------------+\n",
       "[19407 rows x 2 columns]\n",
       "Note: Only the head of the SFrame is printed.\n",
       "You can use print_rows(num_rows=m, num_columns=n) to print more rows and columns."
      ]
     },
     "execution_count": 8,
     "metadata": {},
     "output_type": "execute_result"
    }
   ],
   "source": [
    "review_df "
   ]
  },
  {
   "cell_type": "code",
   "execution_count": 9,
   "metadata": {
    "collapsed": false
   },
   "outputs": [],
   "source": [
    "review_df['word_count'] = graphlab.text_analytics.count_words(review_df['review_text'])"
   ]
  },
  {
   "cell_type": "code",
   "execution_count": 10,
   "metadata": {
    "collapsed": true
   },
   "outputs": [],
   "source": [
    "review_df['tf-idf'] = graphlab.text_analytics.tf_idf(review_df['word_count'])"
   ]
  },
  {
   "cell_type": "code",
   "execution_count": 11,
   "metadata": {
    "collapsed": false
   },
   "outputs": [
    {
     "data": {
      "text/html": [
       "<div style=\"max-height:1000px;max-width:1500px;overflow:auto;\"><table frame=\"box\" rules=\"cols\">\n",
       "    <tr>\n",
       "        <th style=\"padding-left: 1em; padding-right: 1em; text-align: center\">review_score</th>\n",
       "        <th style=\"padding-left: 1em; padding-right: 1em; text-align: center\">review_text</th>\n",
       "        <th style=\"padding-left: 1em; padding-right: 1em; text-align: center\">word_count</th>\n",
       "        <th style=\"padding-left: 1em; padding-right: 1em; text-align: center\">tf-idf</th>\n",
       "    </tr>\n",
       "    <tr>\n",
       "        <td style=\"padding-left: 1em; padding-right: 1em; text-align: center; vertical-align: top\">4</td>\n",
       "        <td style=\"padding-left: 1em; padding-right: 1em; text-align: center; vertical-align: top\">As a major fan of Robert<br>Rodriguez and a fan of ...</td>\n",
       "        <td style=\"padding-left: 1em; padding-right: 1em; text-align: center; vertical-align: top\">{'all': 1,<br>'particularly': 1, ...</td>\n",
       "        <td style=\"padding-left: 1em; padding-right: 1em; text-align: center; vertical-align: top\">{'all':<br>0.8239219583239975, ...</td>\n",
       "    </tr>\n",
       "    <tr>\n",
       "        <td style=\"padding-left: 1em; padding-right: 1em; text-align: center; vertical-align: top\">5</td>\n",
       "        <td style=\"padding-left: 1em; padding-right: 1em; text-align: center; vertical-align: top\">When I compare this HBO<br>miniseries to other ...</td>\n",
       "        <td style=\"padding-left: 1em; padding-right: 1em; text-align: center; vertical-align: top\">{'and': 1, 'this': 3,<br>'brothers,': 1, 'on': 1, ...</td>\n",
       "        <td style=\"padding-left: 1em; padding-right: 1em; text-align: center; vertical-align: top\">{'and':<br>0.05758588282085063, ...</td>\n",
       "    </tr>\n",
       "    <tr>\n",
       "        <td style=\"padding-left: 1em; padding-right: 1em; text-align: center; vertical-align: top\">4</td>\n",
       "        <td style=\"padding-left: 1em; padding-right: 1em; text-align: center; vertical-align: top\">This is a review of the<br>Disney Blu-Ray releas ...</td>\n",
       "        <td style=\"padding-left: 1em; padding-right: 1em; text-align: center; vertical-align: top\">{'and': 5, 'available':<br>1, 'pictures,': 1, ...</td>\n",
       "        <td style=\"padding-left: 1em; padding-right: 1em; text-align: center; vertical-align: top\">{'and':<br>0.28792941410425316, ...</td>\n",
       "    </tr>\n",
       "    <tr>\n",
       "        <td style=\"padding-left: 1em; padding-right: 1em; text-align: center; vertical-align: top\">1</td>\n",
       "        <td style=\"padding-left: 1em; padding-right: 1em; text-align: center; vertical-align: top\">The characters lack<br>depth, background, ...</td>\n",
       "        <td style=\"padding-left: 1em; padding-right: 1em; text-align: center; vertical-align: top\">{'atmosphere': 2, 'just':<br>2, 'lack': 1, 'movies.': ...</td>\n",
       "        <td style=\"padding-left: 1em; padding-right: 1em; text-align: center; vertical-align: top\">{'atmosphere':<br>9.38321110884002, 'ju ...</td>\n",
       "    </tr>\n",
       "    <tr>\n",
       "        <td style=\"padding-left: 1em; padding-right: 1em; text-align: center; vertical-align: top\">5</td>\n",
       "        <td style=\"padding-left: 1em; padding-right: 1em; text-align: center; vertical-align: top\">\"Tangled\" is spectacular,<br>but it's not because  ...</td>\n",
       "        <td style=\"padding-left: 1em; padding-right: 1em; text-align: center; vertical-align: top\">{'thomas': 1,<br>'selection': 1, 'gold': ...</td>\n",
       "        <td style=\"padding-left: 1em; padding-right: 1em; text-align: center; vertical-align: top\">{'thomas':<br>4.94613541955489, ...</td>\n",
       "    </tr>\n",
       "    <tr>\n",
       "        <td style=\"padding-left: 1em; padding-right: 1em; text-align: center; vertical-align: top\">5</td>\n",
       "        <td style=\"padding-left: 1em; padding-right: 1em; text-align: center; vertical-align: top\">I love watching Jeff<br>Dunham do his thing. ...</td>\n",
       "        <td style=\"padding-left: 1em; padding-right: 1em; text-align: center; vertical-align: top\">{'jeff': 1, 'and': 4,<br>'there': 4, 'love': 1, ...</td>\n",
       "        <td style=\"padding-left: 1em; padding-right: 1em; text-align: center; vertical-align: top\">{'jeff':<br>3.770830510098526, 'a ...</td>\n",
       "    </tr>\n",
       "    <tr>\n",
       "        <td style=\"padding-left: 1em; padding-right: 1em; text-align: center; vertical-align: top\">1</td>\n",
       "        <td style=\"padding-left: 1em; padding-right: 1em; text-align: center; vertical-align: top\">Though M. Night<br>Shyamalan's unable to ...</td>\n",
       "        <td style=\"padding-left: 1em; padding-right: 1em; text-align: center; vertical-align: top\">{'all': 1, \"don't\": 1,<br>'being': 1, 'awful': 1, ...</td>\n",
       "        <td style=\"padding-left: 1em; padding-right: 1em; text-align: center; vertical-align: top\">{'all':<br>0.8239219583239975, ...</td>\n",
       "    </tr>\n",
       "    <tr>\n",
       "        <td style=\"padding-left: 1em; padding-right: 1em; text-align: center; vertical-align: top\">5</td>\n",
       "        <td style=\"padding-left: 1em; padding-right: 1em; text-align: center; vertical-align: top\">5.0 stars&lt;br /&gt;&lt;br /&gt;An<br>exemplary film and ea ...</td>\n",
       "        <td style=\"padding-left: 1em; padding-right: 1em; text-align: center; vertical-align: top\">{'just': 1, \"don't\": 1,<br>'patina': 1, 'timeles ...</td>\n",
       "        <td style=\"padding-left: 1em; padding-right: 1em; text-align: center; vertical-align: top\">{'just':<br>0.9724312321670323, ...</td>\n",
       "    </tr>\n",
       "    <tr>\n",
       "        <td style=\"padding-left: 1em; padding-right: 1em; text-align: center; vertical-align: top\">1</td>\n",
       "        <td style=\"padding-left: 1em; padding-right: 1em; text-align: center; vertical-align: top\">I had very, very high<br>hopes for this film - ...</td>\n",
       "        <td style=\"padding-left: 1em; padding-right: 1em; text-align: center; vertical-align: top\">{'all': 2,<br>'furthermore,': 1, ...</td>\n",
       "        <td style=\"padding-left: 1em; padding-right: 1em; text-align: center; vertical-align: top\">{'all':<br>1.647843916647995, ...</td>\n",
       "    </tr>\n",
       "    <tr>\n",
       "        <td style=\"padding-left: 1em; padding-right: 1em; text-align: center; vertical-align: top\">2</td>\n",
       "        <td style=\"padding-left: 1em; padding-right: 1em; text-align: center; vertical-align: top\">No, you don't have to see<br>all my reviews. I try to ...</td>\n",
       "        <td style=\"padding-left: 1em; padding-right: 1em; text-align: center; vertical-align: top\">{'no,': 1, 'all': 1,<br>'reviews.': 1, 'just' ...</td>\n",
       "        <td style=\"padding-left: 1em; padding-right: 1em; text-align: center; vertical-align: top\">{'no,': 4.57008419665302,<br>'all': ...</td>\n",
       "    </tr>\n",
       "</table>\n",
       "[19407 rows x 4 columns]<br/>Note: Only the head of the SFrame is printed.<br/>You can use print_rows(num_rows=m, num_columns=n) to print more rows and columns.\n",
       "</div>"
      ],
      "text/plain": [
       "Columns:\n",
       "\treview_score\tint\n",
       "\treview_text\tstr\n",
       "\tword_count\tdict\n",
       "\ttf-idf\tdict\n",
       "\n",
       "Rows: 19407\n",
       "\n",
       "Data:\n",
       "+--------------+-------------------------------+-------------------------------+\n",
       "| review_score |          review_text          |           word_count          |\n",
       "+--------------+-------------------------------+-------------------------------+\n",
       "|      4       | As a major fan of Robert R... | {'all': 1, 'particularly':... |\n",
       "|      5       | When I compare this HBO mi... | {'and': 1, 'this': 3, 'bro... |\n",
       "|      4       | This is a review of the Di... | {'and': 5, 'available': 1,... |\n",
       "|      1       | The characters lack depth,... | {'atmosphere': 2, 'just': ... |\n",
       "|      5       | \"Tangled\" is spectacular, ... | {'thomas': 1, 'selection':... |\n",
       "|      5       | I love watching Jeff Dunha... | {'jeff': 1, 'and': 4, 'the... |\n",
       "|      1       | Though M. Night Shyamalan'... | {'all': 1, \"don't\": 1, 'be... |\n",
       "|      5       | 5.0 stars<br /><br />An ex... | {'just': 1, \"don't\": 1, 'p... |\n",
       "|      1       | I had very, very high hope... | {'all': 2, 'furthermore,':... |\n",
       "|      2       | No, you don't have to see ... | {'no,': 1, 'all': 1, 'revi... |\n",
       "+--------------+-------------------------------+-------------------------------+\n",
       "+-------------------------------+\n",
       "|             tf-idf            |\n",
       "+-------------------------------+\n",
       "| {'all': 0.8239219583239975... |\n",
       "| {'and': 0.0575858828208506... |\n",
       "| {'and': 0.2879294141042531... |\n",
       "| {'atmosphere': 9.383211108... |\n",
       "| {'thomas': 4.9461354195548... |\n",
       "| {'jeff': 3.770830510098526... |\n",
       "| {'all': 0.8239219583239975... |\n",
       "| {'just': 0.972431232167032... |\n",
       "| {'all': 1.647843916647995,... |\n",
       "| {'no,': 4.57008419665302, ... |\n",
       "+-------------------------------+\n",
       "[19407 rows x 4 columns]\n",
       "Note: Only the head of the SFrame is printed.\n",
       "You can use print_rows(num_rows=m, num_columns=n) to print more rows and columns."
      ]
     },
     "execution_count": 11,
     "metadata": {},
     "output_type": "execute_result"
    }
   ],
   "source": [
    "review_df"
   ]
  },
  {
   "cell_type": "code",
   "execution_count": null,
   "metadata": {
    "collapsed": false,
    "scrolled": false
   },
   "outputs": [
    {
     "data": {
      "text/html": [
       "<pre>Batch size is larger than the input dataset. Switching to an exact Kmeans method.</pre>"
      ],
      "text/plain": [
       "Batch size is larger than the input dataset. Switching to an exact Kmeans method."
      ]
     },
     "metadata": {},
     "output_type": "display_data"
    },
    {
     "data": {
      "text/html": [
       "<pre>Choosing initial cluster centers with Kmeans++.</pre>"
      ],
      "text/plain": [
       "Choosing initial cluster centers with Kmeans++."
      ]
     },
     "metadata": {},
     "output_type": "display_data"
    },
    {
     "data": {
      "text/html": [
       "<pre>+---------------+-----------+</pre>"
      ],
      "text/plain": [
       "+---------------+-----------+"
      ]
     },
     "metadata": {},
     "output_type": "display_data"
    },
    {
     "data": {
      "text/html": [
       "<pre>| Center number | Row index |</pre>"
      ],
      "text/plain": [
       "| Center number | Row index |"
      ]
     },
     "metadata": {},
     "output_type": "display_data"
    },
    {
     "data": {
      "text/html": [
       "<pre>+---------------+-----------+</pre>"
      ],
      "text/plain": [
       "+---------------+-----------+"
      ]
     },
     "metadata": {},
     "output_type": "display_data"
    },
    {
     "data": {
      "text/html": [
       "<pre>| 0             | 23        |</pre>"
      ],
      "text/plain": [
       "| 0             | 23        |"
      ]
     },
     "metadata": {},
     "output_type": "display_data"
    },
    {
     "data": {
      "text/html": [
       "<pre>| 1             | 683       |</pre>"
      ],
      "text/plain": [
       "| 1             | 683       |"
      ]
     },
     "metadata": {},
     "output_type": "display_data"
    },
    {
     "data": {
      "text/html": [
       "<pre>| 2             | 480       |</pre>"
      ],
      "text/plain": [
       "| 2             | 480       |"
      ]
     },
     "metadata": {},
     "output_type": "display_data"
    },
    {
     "data": {
      "text/html": [
       "<pre>| 3             | 615       |</pre>"
      ],
      "text/plain": [
       "| 3             | 615       |"
      ]
     },
     "metadata": {},
     "output_type": "display_data"
    },
    {
     "data": {
      "text/html": [
       "<pre>| 4             | 353       |</pre>"
      ],
      "text/plain": [
       "| 4             | 353       |"
      ]
     },
     "metadata": {},
     "output_type": "display_data"
    },
    {
     "data": {
      "text/html": [
       "<pre>+---------------+-----------+</pre>"
      ],
      "text/plain": [
       "+---------------+-----------+"
      ]
     },
     "metadata": {},
     "output_type": "display_data"
    },
    {
     "data": {
      "text/html": [
       "<pre>Starting kmeans model training.</pre>"
      ],
      "text/plain": [
       "Starting kmeans model training."
      ]
     },
     "metadata": {},
     "output_type": "display_data"
    },
    {
     "data": {
      "text/html": [
       "<pre>Assigning points to initial cluster centers.</pre>"
      ],
      "text/plain": [
       "Assigning points to initial cluster centers."
      ]
     },
     "metadata": {},
     "output_type": "display_data"
    },
    {
     "data": {
      "text/html": [
       "<pre>+-----------+-------------------------------+</pre>"
      ],
      "text/plain": [
       "+-----------+-------------------------------+"
      ]
     },
     "metadata": {},
     "output_type": "display_data"
    },
    {
     "data": {
      "text/html": [
       "<pre>| Iteration | Number of changed assignments |</pre>"
      ],
      "text/plain": [
       "| Iteration | Number of changed assignments |"
      ]
     },
     "metadata": {},
     "output_type": "display_data"
    },
    {
     "data": {
      "text/html": [
       "<pre>+-----------+-------------------------------+</pre>"
      ],
      "text/plain": [
       "+-----------+-------------------------------+"
      ]
     },
     "metadata": {},
     "output_type": "display_data"
    },
    {
     "data": {
      "text/html": [
       "<pre>| 1         | 4                             |</pre>"
      ],
      "text/plain": [
       "| 1         | 4                             |"
      ]
     },
     "metadata": {},
     "output_type": "display_data"
    },
    {
     "data": {
      "text/html": [
       "<pre>| 2         | 0                             |</pre>"
      ],
      "text/plain": [
       "| 2         | 0                             |"
      ]
     },
     "metadata": {},
     "output_type": "display_data"
    },
    {
     "data": {
      "text/html": [
       "<pre>+-----------+-------------------------------+</pre>"
      ],
      "text/plain": [
       "+-----------+-------------------------------+"
      ]
     },
     "metadata": {},
     "output_type": "display_data"
    }
   ],
   "source": [
    "k_means_model = graphlab.kmeans.create(review_df, num_clusters = 5, max_iterations=25, features=['tf-idf'])"
   ]
  },
  {
   "cell_type": "code",
   "execution_count": null,
   "metadata": {
    "collapsed": true
   },
   "outputs": [],
   "source": [
    "k_means_model.save('../output/K(5) Means Model (new)')"
   ]
  },
  {
   "cell_type": "code",
   "execution_count": 10,
   "metadata": {
    "collapsed": true
   },
   "outputs": [],
   "source": [
    "k_means_model = graphlab.load_model('../output/K(5) Means Model')"
   ]
  },
  {
   "cell_type": "code",
   "execution_count": 21,
   "metadata": {
    "collapsed": false
   },
   "outputs": [],
   "source": [
    "review_df['cluster_id'] = k_means_model.get('cluster_id')['cluster_id']"
   ]
  },
  {
   "cell_type": "code",
   "execution_count": 22,
   "metadata": {
    "collapsed": false,
    "scrolled": true
   },
   "outputs": [
    {
     "data": {
      "text/html": [
       "<div style=\"max-height:1000px;max-width:1500px;overflow:auto;\"><table frame=\"box\" rules=\"cols\">\n",
       "    <tr>\n",
       "        <th style=\"padding-left: 1em; padding-right: 1em; text-align: center\">__review_id</th>\n",
       "        <th style=\"padding-left: 1em; padding-right: 1em; text-align: center\">product_productid</th>\n",
       "        <th style=\"padding-left: 1em; padding-right: 1em; text-align: center\">review_text</th>\n",
       "        <th style=\"padding-left: 1em; padding-right: 1em; text-align: center\">review_score</th>\n",
       "        <th style=\"padding-left: 1em; padding-right: 1em; text-align: center\">sentiment_score</th>\n",
       "    </tr>\n",
       "    <tr>\n",
       "        <td style=\"padding-left: 1em; padding-right: 1em; text-align: center; vertical-align: top\">126331</td>\n",
       "        <td style=\"padding-left: 1em; padding-right: 1em; text-align: center; vertical-align: top\">B0016HMYEQ</td>\n",
       "        <td style=\"padding-left: 1em; padding-right: 1em; text-align: center; vertical-align: top\">I'm coming to the<br>conclusion that I'm ...</td>\n",
       "        <td style=\"padding-left: 1em; padding-right: 1em; text-align: center; vertical-align: top\">2</td>\n",
       "        <td style=\"padding-left: 1em; padding-right: 1em; text-align: center; vertical-align: top\">3.76399581788e-29</td>\n",
       "    </tr>\n",
       "    <tr>\n",
       "        <td style=\"padding-left: 1em; padding-right: 1em; text-align: center; vertical-align: top\">65741</td>\n",
       "        <td style=\"padding-left: 1em; padding-right: 1em; text-align: center; vertical-align: top\">B001AOKA3W</td>\n",
       "        <td style=\"padding-left: 1em; padding-right: 1em; text-align: center; vertical-align: top\">I'm coming to the<br>conclusion that I'm ...</td>\n",
       "        <td style=\"padding-left: 1em; padding-right: 1em; text-align: center; vertical-align: top\">2</td>\n",
       "        <td style=\"padding-left: 1em; padding-right: 1em; text-align: center; vertical-align: top\">3.76399581788e-29</td>\n",
       "    </tr>\n",
       "    <tr>\n",
       "        <td style=\"padding-left: 1em; padding-right: 1em; text-align: center; vertical-align: top\">87488</td>\n",
       "        <td style=\"padding-left: 1em; padding-right: 1em; text-align: center; vertical-align: top\">B0014Z4OQG</td>\n",
       "        <td style=\"padding-left: 1em; padding-right: 1em; text-align: center; vertical-align: top\">I'm coming to the<br>conclusion that I'm ...</td>\n",
       "        <td style=\"padding-left: 1em; padding-right: 1em; text-align: center; vertical-align: top\">2</td>\n",
       "        <td style=\"padding-left: 1em; padding-right: 1em; text-align: center; vertical-align: top\">3.76399581788e-29</td>\n",
       "    </tr>\n",
       "    <tr>\n",
       "        <td style=\"padding-left: 1em; padding-right: 1em; text-align: center; vertical-align: top\">131391</td>\n",
       "        <td style=\"padding-left: 1em; padding-right: 1em; text-align: center; vertical-align: top\">B001BN4WN6</td>\n",
       "        <td style=\"padding-left: 1em; padding-right: 1em; text-align: center; vertical-align: top\">I'm coming to the<br>conclusion that I'm ...</td>\n",
       "        <td style=\"padding-left: 1em; padding-right: 1em; text-align: center; vertical-align: top\">2</td>\n",
       "        <td style=\"padding-left: 1em; padding-right: 1em; text-align: center; vertical-align: top\">3.76399581788e-29</td>\n",
       "    </tr>\n",
       "    <tr>\n",
       "        <td style=\"padding-left: 1em; padding-right: 1em; text-align: center; vertical-align: top\">112696</td>\n",
       "        <td style=\"padding-left: 1em; padding-right: 1em; text-align: center; vertical-align: top\">B0018QCXGY</td>\n",
       "        <td style=\"padding-left: 1em; padding-right: 1em; text-align: center; vertical-align: top\">I'm coming to the<br>conclusion that I'm ...</td>\n",
       "        <td style=\"padding-left: 1em; padding-right: 1em; text-align: center; vertical-align: top\">2</td>\n",
       "        <td style=\"padding-left: 1em; padding-right: 1em; text-align: center; vertical-align: top\">3.76399581788e-29</td>\n",
       "    </tr>\n",
       "    <tr>\n",
       "        <td style=\"padding-left: 1em; padding-right: 1em; text-align: center; vertical-align: top\">24862</td>\n",
       "        <td style=\"padding-left: 1em; padding-right: 1em; text-align: center; vertical-align: top\">B004A8ZWVU</td>\n",
       "        <td style=\"padding-left: 1em; padding-right: 1em; text-align: center; vertical-align: top\">*** SPOILERS AHEAD ***&lt;br<br>/&gt;&lt;br /&gt;I watched this ...</td>\n",
       "        <td style=\"padding-left: 1em; padding-right: 1em; text-align: center; vertical-align: top\">1</td>\n",
       "        <td style=\"padding-left: 1em; padding-right: 1em; text-align: center; vertical-align: top\">4.29472638577e-21</td>\n",
       "    </tr>\n",
       "    <tr>\n",
       "        <td style=\"padding-left: 1em; padding-right: 1em; text-align: center; vertical-align: top\">77770</td>\n",
       "        <td style=\"padding-left: 1em; padding-right: 1em; text-align: center; vertical-align: top\">B006G2124E</td>\n",
       "        <td style=\"padding-left: 1em; padding-right: 1em; text-align: center; vertical-align: top\">*** SPOILERS AHEAD ***&lt;br<br>/&gt;&lt;br /&gt;I watched this ...</td>\n",
       "        <td style=\"padding-left: 1em; padding-right: 1em; text-align: center; vertical-align: top\">1</td>\n",
       "        <td style=\"padding-left: 1em; padding-right: 1em; text-align: center; vertical-align: top\">4.29472638577e-21</td>\n",
       "    </tr>\n",
       "    <tr>\n",
       "        <td style=\"padding-left: 1em; padding-right: 1em; text-align: center; vertical-align: top\">27737</td>\n",
       "        <td style=\"padding-left: 1em; padding-right: 1em; text-align: center; vertical-align: top\">B005J6LKVI</td>\n",
       "        <td style=\"padding-left: 1em; padding-right: 1em; text-align: center; vertical-align: top\">*** SPOILERS AHEAD ***&lt;br<br>/&gt;&lt;br /&gt;I watched this ...</td>\n",
       "        <td style=\"padding-left: 1em; padding-right: 1em; text-align: center; vertical-align: top\">1</td>\n",
       "        <td style=\"padding-left: 1em; padding-right: 1em; text-align: center; vertical-align: top\">4.29472638577e-21</td>\n",
       "    </tr>\n",
       "    <tr>\n",
       "        <td style=\"padding-left: 1em; padding-right: 1em; text-align: center; vertical-align: top\">24485</td>\n",
       "        <td style=\"padding-left: 1em; padding-right: 1em; text-align: center; vertical-align: top\">B004A8ZWVK</td>\n",
       "        <td style=\"padding-left: 1em; padding-right: 1em; text-align: center; vertical-align: top\">*** SPOILERS AHEAD ***&lt;br<br>/&gt;&lt;br /&gt;I watched this ...</td>\n",
       "        <td style=\"padding-left: 1em; padding-right: 1em; text-align: center; vertical-align: top\">1</td>\n",
       "        <td style=\"padding-left: 1em; padding-right: 1em; text-align: center; vertical-align: top\">4.29472638577e-21</td>\n",
       "    </tr>\n",
       "    <tr>\n",
       "        <td style=\"padding-left: 1em; padding-right: 1em; text-align: center; vertical-align: top\">121049</td>\n",
       "        <td style=\"padding-left: 1em; padding-right: 1em; text-align: center; vertical-align: top\">B0085Z8F4A</td>\n",
       "        <td style=\"padding-left: 1em; padding-right: 1em; text-align: center; vertical-align: top\">*************************<br>**SPOILERS ALERT***** ...</td>\n",
       "        <td style=\"padding-left: 1em; padding-right: 1em; text-align: center; vertical-align: top\">1</td>\n",
       "        <td style=\"padding-left: 1em; padding-right: 1em; text-align: center; vertical-align: top\">2.19854699529e-20</td>\n",
       "    </tr>\n",
       "</table>\n",
       "<table frame=\"box\" rules=\"cols\">\n",
       "    <tr>\n",
       "        <th style=\"padding-left: 1em; padding-right: 1em; text-align: center\">word_count</th>\n",
       "        <th style=\"padding-left: 1em; padding-right: 1em; text-align: center\">tf-idf</th>\n",
       "        <th style=\"padding-left: 1em; padding-right: 1em; text-align: center\">cluster_id</th>\n",
       "    </tr>\n",
       "    <tr>\n",
       "        <td style=\"padding-left: 1em; padding-right: 1em; text-align: center; vertical-align: top\">{'all': 7, 'concept': 1,<br>'better.': 1, 'movies.': ...</td>\n",
       "        <td style=\"padding-left: 1em; padding-right: 1em; text-align: center; vertical-align: top\">{'all':<br>5.384472461265324, ...</td>\n",
       "        <td style=\"padding-left: 1em; padding-right: 1em; text-align: center; vertical-align: top\">4</td>\n",
       "    </tr>\n",
       "    <tr>\n",
       "        <td style=\"padding-left: 1em; padding-right: 1em; text-align: center; vertical-align: top\">{'all': 7, 'concept': 1,<br>'better.': 1, 'movies.': ...</td>\n",
       "        <td style=\"padding-left: 1em; padding-right: 1em; text-align: center; vertical-align: top\">{'all':<br>5.384472461265324, ...</td>\n",
       "        <td style=\"padding-left: 1em; padding-right: 1em; text-align: center; vertical-align: top\">4</td>\n",
       "    </tr>\n",
       "    <tr>\n",
       "        <td style=\"padding-left: 1em; padding-right: 1em; text-align: center; vertical-align: top\">{'all': 7, 'concept': 1,<br>'better.': 1, 'movies.': ...</td>\n",
       "        <td style=\"padding-left: 1em; padding-right: 1em; text-align: center; vertical-align: top\">{'all':<br>5.384472461265324, ...</td>\n",
       "        <td style=\"padding-left: 1em; padding-right: 1em; text-align: center; vertical-align: top\">4</td>\n",
       "    </tr>\n",
       "    <tr>\n",
       "        <td style=\"padding-left: 1em; padding-right: 1em; text-align: center; vertical-align: top\">{'all': 7, 'concept': 1,<br>'better.': 1, 'movies.': ...</td>\n",
       "        <td style=\"padding-left: 1em; padding-right: 1em; text-align: center; vertical-align: top\">{'all':<br>5.384472461265324, ...</td>\n",
       "        <td style=\"padding-left: 1em; padding-right: 1em; text-align: center; vertical-align: top\">4</td>\n",
       "    </tr>\n",
       "    <tr>\n",
       "        <td style=\"padding-left: 1em; padding-right: 1em; text-align: center; vertical-align: top\">{'all': 7, 'concept': 1,<br>'better.': 1, 'movies.': ...</td>\n",
       "        <td style=\"padding-left: 1em; padding-right: 1em; text-align: center; vertical-align: top\">{'all':<br>5.384472461265324, ...</td>\n",
       "        <td style=\"padding-left: 1em; padding-right: 1em; text-align: center; vertical-align: top\">4</td>\n",
       "    </tr>\n",
       "    <tr>\n",
       "        <td style=\"padding-left: 1em; padding-right: 1em; text-align: center; vertical-align: top\">{'all': 4, 'order.&lt;br':<br>1, 'bawling': 1, 'lack': ...</td>\n",
       "        <td style=\"padding-left: 1em; padding-right: 1em; text-align: center; vertical-align: top\">{'all':<br>3.076841406437328, ...</td>\n",
       "        <td style=\"padding-left: 1em; padding-right: 1em; text-align: center; vertical-align: top\">4</td>\n",
       "    </tr>\n",
       "    <tr>\n",
       "        <td style=\"padding-left: 1em; padding-right: 1em; text-align: center; vertical-align: top\">{'all': 4, 'order.&lt;br':<br>1, 'bawling': 1, 'lack': ...</td>\n",
       "        <td style=\"padding-left: 1em; padding-right: 1em; text-align: center; vertical-align: top\">{'all':<br>3.076841406437328, ...</td>\n",
       "        <td style=\"padding-left: 1em; padding-right: 1em; text-align: center; vertical-align: top\">4</td>\n",
       "    </tr>\n",
       "    <tr>\n",
       "        <td style=\"padding-left: 1em; padding-right: 1em; text-align: center; vertical-align: top\">{'all': 4, 'order.&lt;br':<br>1, 'bawling': 1, 'lack': ...</td>\n",
       "        <td style=\"padding-left: 1em; padding-right: 1em; text-align: center; vertical-align: top\">{'all':<br>3.076841406437328, ...</td>\n",
       "        <td style=\"padding-left: 1em; padding-right: 1em; text-align: center; vertical-align: top\">4</td>\n",
       "    </tr>\n",
       "    <tr>\n",
       "        <td style=\"padding-left: 1em; padding-right: 1em; text-align: center; vertical-align: top\">{'all': 4, 'order.&lt;br':<br>1, 'bawling': 1, 'lack': ...</td>\n",
       "        <td style=\"padding-left: 1em; padding-right: 1em; text-align: center; vertical-align: top\">{'all':<br>3.076841406437328, ...</td>\n",
       "        <td style=\"padding-left: 1em; padding-right: 1em; text-align: center; vertical-align: top\">4</td>\n",
       "    </tr>\n",
       "    <tr>\n",
       "        <td style=\"padding-left: 1em; padding-right: 1em; text-align: center; vertical-align: top\">{'all': 3, 'room.\"': 1,<br>'partial': 1, 'aliens,': ...</td>\n",
       "        <td style=\"padding-left: 1em; padding-right: 1em; text-align: center; vertical-align: top\">{'all':<br>2.307631054827996, ...</td>\n",
       "        <td style=\"padding-left: 1em; padding-right: 1em; text-align: center; vertical-align: top\">4</td>\n",
       "    </tr>\n",
       "</table>\n",
       "[134881 rows x 8 columns]<br/>Note: Only the head of the SFrame is printed.<br/>You can use print_rows(num_rows=m, num_columns=n) to print more rows and columns.\n",
       "</div>"
      ],
      "text/plain": [
       "Columns:\n",
       "\t__review_id\tint\n",
       "\tproduct_productid\tstr\n",
       "\treview_text\tstr\n",
       "\treview_score\tint\n",
       "\tsentiment_score\tfloat\n",
       "\tword_count\tdict\n",
       "\ttf-idf\tdict\n",
       "\tcluster_id\tint\n",
       "\n",
       "Rows: 134881\n",
       "\n",
       "Data:\n",
       "+-------------+-------------------+-------------------------------+--------------+\n",
       "| __review_id | product_productid |          review_text          | review_score |\n",
       "+-------------+-------------------+-------------------------------+--------------+\n",
       "|    126331   |     B0016HMYEQ    | I'm coming to the conclusi... |      2       |\n",
       "|    65741    |     B001AOKA3W    | I'm coming to the conclusi... |      2       |\n",
       "|    87488    |     B0014Z4OQG    | I'm coming to the conclusi... |      2       |\n",
       "|    131391   |     B001BN4WN6    | I'm coming to the conclusi... |      2       |\n",
       "|    112696   |     B0018QCXGY    | I'm coming to the conclusi... |      2       |\n",
       "|    24862    |     B004A8ZWVU    | *** SPOILERS AHEAD ***<br ... |      1       |\n",
       "|    77770    |     B006G2124E    | *** SPOILERS AHEAD ***<br ... |      1       |\n",
       "|    27737    |     B005J6LKVI    | *** SPOILERS AHEAD ***<br ... |      1       |\n",
       "|    24485    |     B004A8ZWVK    | *** SPOILERS AHEAD ***<br ... |      1       |\n",
       "|    121049   |     B0085Z8F4A    | **************************... |      1       |\n",
       "+-------------+-------------------+-------------------------------+--------------+\n",
       "+-------------------+-------------------------------+\n",
       "|  sentiment_score  |           word_count          |\n",
       "+-------------------+-------------------------------+\n",
       "| 3.76399581788e-29 | {'all': 7, 'concept': 1, '... |\n",
       "| 3.76399581788e-29 | {'all': 7, 'concept': 1, '... |\n",
       "| 3.76399581788e-29 | {'all': 7, 'concept': 1, '... |\n",
       "| 3.76399581788e-29 | {'all': 7, 'concept': 1, '... |\n",
       "| 3.76399581788e-29 | {'all': 7, 'concept': 1, '... |\n",
       "| 4.29472638577e-21 | {'all': 4, 'order.<br': 1,... |\n",
       "| 4.29472638577e-21 | {'all': 4, 'order.<br': 1,... |\n",
       "| 4.29472638577e-21 | {'all': 4, 'order.<br': 1,... |\n",
       "| 4.29472638577e-21 | {'all': 4, 'order.<br': 1,... |\n",
       "| 2.19854699529e-20 | {'all': 3, 'room.\"': 1, 'p... |\n",
       "+-------------------+-------------------------------+\n",
       "+-------------------------------+------------+\n",
       "|             tf-idf            | cluster_id |\n",
       "+-------------------------------+------------+\n",
       "| {'all': 5.384472461265324,... |     4      |\n",
       "| {'all': 5.384472461265324,... |     4      |\n",
       "| {'all': 5.384472461265324,... |     4      |\n",
       "| {'all': 5.384472461265324,... |     4      |\n",
       "| {'all': 5.384472461265324,... |     4      |\n",
       "| {'all': 3.076841406437328,... |     4      |\n",
       "| {'all': 3.076841406437328,... |     4      |\n",
       "| {'all': 3.076841406437328,... |     4      |\n",
       "| {'all': 3.076841406437328,... |     4      |\n",
       "| {'all': 2.307631054827996,... |     4      |\n",
       "+-------------------------------+------------+\n",
       "[134881 rows x 8 columns]\n",
       "Note: Only the head of the SFrame is printed.\n",
       "You can use print_rows(num_rows=m, num_columns=n) to print more rows and columns."
      ]
     },
     "execution_count": 22,
     "metadata": {},
     "output_type": "execute_result"
    }
   ],
   "source": [
    "review_df"
   ]
  },
  {
   "cell_type": "code",
   "execution_count": 30,
   "metadata": {
    "collapsed": false
   },
   "outputs": [],
   "source": [
    "review_df_new = review_df['__review_id', 'product_productid', 'review_text', 'review_score', 'sentiment_score', 'cluster_id']"
   ]
  },
  {
   "cell_type": "code",
   "execution_count": 31,
   "metadata": {
    "collapsed": true
   },
   "outputs": [],
   "source": [
    "review_df_new.save('../output/text_analysis_result_of_review.csv')"
   ]
  },
  {
   "cell_type": "code",
   "execution_count": null,
   "metadata": {
    "collapsed": true
   },
   "outputs": [],
   "source": []
  }
 ],
 "metadata": {
  "kernelspec": {
   "display_name": "Python 2",
   "language": "python",
   "name": "python2"
  },
  "language_info": {
   "codemirror_mode": {
    "name": "ipython",
    "version": 2
   },
   "file_extension": ".py",
   "mimetype": "text/x-python",
   "name": "python",
   "nbconvert_exporter": "python",
   "pygments_lexer": "ipython2",
   "version": "2.7.11"
  }
 },
 "nbformat": 4,
 "nbformat_minor": 0
}
